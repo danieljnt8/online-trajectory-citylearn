{
 "cells": [
  {
   "cell_type": "code",
   "execution_count": 1,
   "id": "46424a0c-9187-4d7d-b9ff-a2f7b1a3c4da",
   "metadata": {},
   "outputs": [],
   "source": [
    "\"\"\"\n",
    "Copyright (c) Meta Platforms, Inc. and affiliates.\n",
    "\n",
    "This source code is licensed under the CC BY-NC license found in the\n",
    "LICENSE.md file in the root directory of this source tree.\n",
    "\"\"\"\n",
    "\n",
    "#from torch.utils.tensorboard import SummaryWriter\n",
    "import argparse\n",
    "import pickle\n",
    "import random\n",
    "import time\n",
    "import gym\n",
    "\n",
    "import torch\n",
    "import numpy as np\n",
    "\n",
    "from datasets import load_from_disk\n",
    "import datasets\n",
    "\n",
    "import utils\n",
    "from replay_buffer import ReplayBuffer\n",
    "from lamb import Lamb\n",
    "#from stable_baselines3.common.vec_env import SubprocVecEnv\n",
    "from pathlib import Path\n",
    "from data import create_dataloader\n",
    "from decision_transformer.models.decision_transformer import DecisionTransformer\n",
    "from evaluation import create_vec_eval_episodes_fn, vec_evaluate_episode_rtg\n",
    "from trainer import SequenceTrainer, SequenceTrainerCustom\n",
    "from logger import Logger\n",
    "from wrappers_custom import *\n",
    "from utils_.helpers import *\n",
    "\n",
    "from citylearn.citylearn import CityLearnEnv\n",
    "from citylearn.wrappers import *\n",
    "from utils_.variant_dict import variant\n"
   ]
  },
  {
   "cell_type": "code",
   "execution_count": 2,
   "id": "c317faea-80bf-4ab4-be63-4801e4cb09f5",
   "metadata": {},
   "outputs": [],
   "source": [
    "class self:\n",
    "    a = 3\n",
    "self = self()"
   ]
  },
  {
   "cell_type": "code",
   "execution_count": 18,
   "id": "1948ba79-77cc-4eeb-9ab8-c5ef99479578",
   "metadata": {},
   "outputs": [],
   "source": [
    "env = CityLearnEnv(schema=\"citylearn_challenge_2022_phase_2\")\n",
    "env.central_agent = True\n",
    "env = NormalizedObservationWrapper(env)\n",
    "env = StableBaselines3WrapperCustom(env)"
   ]
  },
  {
   "cell_type": "code",
   "execution_count": 19,
   "id": "f75d3836-13e5-4d08-9d4e-48cf12e275ea",
   "metadata": {},
   "outputs": [
    {
     "data": {
      "text/plain": [
       "(array([0.0669873 , 0.8535534 , 1.        , 0.54135334, 0.47744358,\n",
       "        0.6466165 , 0.54135334, 0.82222223, 0.7888889 , 0.64444447,\n",
       "        0.7888889 , 0.        , 0.0245821 , 0.94788593, 0.        ,\n",
       "        0.        , 0.10493179, 0.85519415, 0.        , 0.47462252,\n",
       "        0.03030304, 0.03030304, 0.03030304, 0.03030304, 0.22008501,\n",
       "        0.        , 0.        , 0.5091632 , 0.10645503, 0.        ,\n",
       "        0.        , 0.4610448 , 0.        , 0.        , 0.        ,\n",
       "        0.40333527, 0.0835057 , 0.        , 0.        , 0.47982168,\n",
       "        0.06343947, 0.        , 0.        , 0.4165131 ], dtype=float32),\n",
       " {})"
      ]
     },
     "execution_count": 19,
     "metadata": {},
     "output_type": "execute_result"
    }
   ],
   "source": [
    "env.reset()"
   ]
  },
  {
   "cell_type": "code",
   "execution_count": 20,
   "id": "5e700e1e-ab0d-4f25-b6a6-fe8f78fc39c3",
   "metadata": {},
   "outputs": [],
   "source": [
    "def _get_env_spec(env):\n",
    "    state_dim = env.observation_space.shape[0]\n",
    "    act_dim = env.action_space.shape[0]\n",
    "    action_range = [\n",
    "            float(env.action_space.low.min()) ,\n",
    "            float(env.action_space.high.max()) ,\n",
    "        ]\n",
    "    return state_dim,act_dim, action_range"
   ]
  },
  {
   "cell_type": "code",
   "execution_count": 21,
   "id": "f0e84858-a826-441a-907f-b6cdd3705fd0",
   "metadata": {},
   "outputs": [],
   "source": [
    "self.state_dim, self.act_dim, self.action_range = _get_env_spec(env)"
   ]
  },
  {
   "cell_type": "code",
   "execution_count": 22,
   "id": "bd635aa5-b459-450b-a4df-a5cfc3cc5f1e",
   "metadata": {},
   "outputs": [
    {
     "data": {
      "text/plain": [
       "[-0.78125, 0.78125]"
      ]
     },
     "execution_count": 22,
     "metadata": {},
     "output_type": "execute_result"
    }
   ],
   "source": [
    "self.action_range"
   ]
  },
  {
   "cell_type": "markdown",
   "id": "146a356f-8e0b-47c6-b331-2f23f40012c6",
   "metadata": {},
   "source": [
    "## Load Dataset"
   ]
  },
  {
   "cell_type": "code",
   "execution_count": 23,
   "id": "ccbe6e48-347a-4cea-b4ca-7ccee0e90cf0",
   "metadata": {},
   "outputs": [],
   "source": [
    "def _load_dataset(trajectories):\n",
    "    states, traj_lens, returns = [], [], []\n",
    "    for path in trajectories:\n",
    "        states.append(path[\"observations\"])\n",
    "        traj_lens.append(len(path[\"observations\"]))\n",
    "        returns.append(np.array(path[\"rewards\"]).sum())\n",
    "    traj_lens, returns = np.array(traj_lens), np.array(returns)\n",
    "\n",
    "        # used for input normalization\n",
    "    states = np.concatenate(states, axis=0)\n",
    "    state_mean, state_std = np.mean(states, axis=0), np.std(states, axis=0) + 1e-6\n",
    "    num_timesteps = sum(traj_lens)\n",
    "\n",
    "    print(\"=\" * 50)\n",
    "    print(f\"Starting new experiment: city_learn\")\n",
    "    print(f\"{len(traj_lens)} trajectories, {num_timesteps} timesteps found\")\n",
    "    print(f\"Average return: {np.mean(returns):.2f}, std: {np.std(returns):.2f}\")\n",
    "    print(f\"Max return: {np.max(returns):.2f}, min: {np.min(returns):.2f}\")\n",
    "    print(f\"Average length: {np.mean(traj_lens):.2f}, std: {np.std(traj_lens):.2f}\")\n",
    "    print(f\"Max length: {np.max(traj_lens):.2f}, min: {np.min(traj_lens):.2f}\")\n",
    "    print(\"=\" * 50)\n",
    "\n",
    "    sorted_inds = np.argsort(returns)  # lowest to highest\n",
    "    num_trajectories = 1\n",
    "    timesteps = traj_lens[sorted_inds[-1]]\n",
    "    ind = len(trajectories) - 2\n",
    "    while ind >= 0 and timesteps + traj_lens[sorted_inds[ind]] < num_timesteps:\n",
    "        timesteps += traj_lens[sorted_inds[ind]]\n",
    "        num_trajectories += 1\n",
    "        ind -= 1\n",
    "    sorted_inds = sorted_inds[-num_trajectories:]\n",
    "    print(sorted_inds)\n",
    "    #print(trajectories[1])\n",
    "    for ii in sorted_inds:\n",
    "        print(ii)\n",
    "    #print(trajectories[0].keys())\n",
    "    trajectories = [trajectories[int(ii)] for ii in sorted_inds]\n",
    "\n",
    "    for trajectory in trajectories:\n",
    "        for key in trajectory.keys():\n",
    "            trajectory[key] = np.array(trajectory[key])\n",
    "\n",
    "\n",
    "    return trajectories, state_mean, state_std"
   ]
  },
  {
   "cell_type": "code",
   "execution_count": 24,
   "id": "428eb1ed-79c1-4660-920a-7fe7df96a9b5",
   "metadata": {},
   "outputs": [],
   "source": [
    "dataset_path = \"./data_interactions/sac_dataset.pkl\""
   ]
  },
  {
   "cell_type": "code",
   "execution_count": 25,
   "id": "891f4c63-efae-48e6-8758-ca4b7e68d7cc",
   "metadata": {},
   "outputs": [],
   "source": [
    "dataset = load_from_disk(dataset_path)"
   ]
  },
  {
   "cell_type": "code",
   "execution_count": 26,
   "id": "725170bd-8cc7-40d5-9644-f20dda52765d",
   "metadata": {},
   "outputs": [
    {
     "data": {
      "text/plain": [
       "Dataset({\n",
       "    features: ['observations', 'next_observations', 'actions', 'rewards', 'dones', 'info'],\n",
       "    num_rows: 30000\n",
       "})"
      ]
     },
     "execution_count": 26,
     "metadata": {},
     "output_type": "execute_result"
    }
   ],
   "source": [
    "dataset"
   ]
  },
  {
   "cell_type": "code",
   "execution_count": 27,
   "id": "59374dd6-079a-4bed-8707-9de3b94539f0",
   "metadata": {},
   "outputs": [
    {
     "data": {
      "application/vnd.jupyter.widget-view+json": {
       "model_id": "60a3b2e961f8441b86f59d2b15e07404",
       "version_major": 2,
       "version_minor": 0
      },
      "text/plain": [
       "Segmenting:   0%|          | 0/30000 [00:00<?, ?it/s]"
      ]
     },
     "metadata": {},
     "output_type": "display_data"
    }
   ],
   "source": [
    "dataset,_ = segment_v2(dataset[\"observations\"],dataset[\"actions\"],dataset[\"rewards\"],dataset[\"dones\"])\n",
    "   "
   ]
  },
  {
   "cell_type": "code",
   "execution_count": 28,
   "id": "71bb55eb-69ae-4f82-8b40-d4a58aaa55fa",
   "metadata": {},
   "outputs": [
    {
     "data": {
      "text/plain": [
       "[{'observations': array([[0.0669873 , 0.85355341, 1.        , ..., 0.        , 0.        ,\n",
       "          0.48985395],\n",
       "         [0.25      , 0.85355341, 0.98296291, ..., 0.        , 0.55495465,\n",
       "          0.68397069],\n",
       "         [0.25      , 0.85355341, 0.93301272, ..., 0.        , 0.59836298,\n",
       "          0.49188823],\n",
       "         ...,\n",
       "         [0.0669873 , 0.85355341, 0.75      , ..., 0.        , 0.51978582,\n",
       "          0.69413728],\n",
       "         [0.0669873 , 0.85355341, 0.85355341, ..., 0.        , 0.96642524,\n",
       "          0.73476398],\n",
       "         [0.0669873 , 0.85355341, 0.93301272, ..., 0.        , 0.98913306,\n",
       "          0.58467376]]),\n",
       "  'actions': array([[-0.10103911, -0.6676929 ,  0.62797022, -0.46519962,  0.58497357],\n",
       "         [ 0.45946574, -0.42295289,  0.39063358, -0.02685601,  0.04764682],\n",
       "         [ 0.24261248,  0.40671182,  0.58524048, -0.32961681, -0.64024198],\n",
       "         ...,\n",
       "         [-0.39171493, -0.70435035, -0.42655581, -0.51389134,  0.53532851],\n",
       "         [-0.46240404,  0.04107219,  0.13878572,  0.53660107,  0.69713223],\n",
       "         [-0.22166538, -0.68266004,  0.43699539,  0.36593974, -0.5095318 ]]),\n",
       "  'rewards': array([-0.85116667, -3.77518082, -2.39088655, ..., -3.15170002,\n",
       "         -3.02150011, -2.21490002]),\n",
       "  'dones': array([False, False, False, ..., False, False,  True])},\n",
       " {'observations': array([[0.0669873 , 0.85355341, 1.        , ..., 0.        , 0.        ,\n",
       "          0.48985395],\n",
       "         [0.25      , 0.85355341, 0.98296291, ..., 0.        , 0.        ,\n",
       "          0.47563303],\n",
       "         [0.25      , 0.85355341, 0.93301272, ..., 0.        , 0.        ,\n",
       "          0.47491887],\n",
       "         ...,\n",
       "         [0.0669873 , 0.85355341, 0.75      , ..., 0.        , 0.97657079,\n",
       "          0.60107756],\n",
       "         [0.0669873 , 0.85355341, 0.85355341, ..., 0.        , 0.99151504,\n",
       "          0.57269001],\n",
       "         [0.0669873 , 0.85355341, 0.93301272, ..., 0.        , 0.99284434,\n",
       "          0.5763483 ]]),\n",
       "  'actions': array([[-0.16516054, -0.30771428, -0.04694301,  0.18486977, -0.58982462],\n",
       "         [-0.397286  ,  0.11535633, -0.29753679,  0.11361456, -0.3242428 ],\n",
       "         [-0.3931337 ,  0.32019639, -0.49844468,  0.60656881, -0.06641924],\n",
       "         ...,\n",
       "         [-0.49676207,  0.08235592, -0.25964403, -0.15479851,  0.60946286],\n",
       "         [-0.20605201, -0.35296762,  0.2366128 ,  0.08119541,  0.32296526],\n",
       "         [-0.24706602, -0.53077787,  0.40149236, -0.01818568, -0.10778248]]),\n",
       "  'rewards': array([-0.85116667, -0.83459997, -0.83816665, ..., -3.15170002,\n",
       "         -3.02150011, -2.21490002]),\n",
       "  'dones': array([False, False, False, ..., False, False,  True])},\n",
       " {'observations': array([[0.0669873 , 0.85355341, 1.        , ..., 0.        , 0.        ,\n",
       "          0.48985395],\n",
       "         [0.25      , 0.85355341, 0.98296291, ..., 0.        , 0.        ,\n",
       "          0.47563303],\n",
       "         [0.25      , 0.85355341, 0.93301272, ..., 0.        , 0.        ,\n",
       "          0.47491887],\n",
       "         ...,\n",
       "         [0.0669873 , 0.85355341, 0.75      , ..., 0.        , 0.95343763,\n",
       "          0.69753075],\n",
       "         [0.0669873 , 0.85355341, 0.85355341, ..., 0.        , 0.98992366,\n",
       "          0.58110124],\n",
       "         [0.0669873 , 0.85355341, 0.93301272, ..., 0.        , 0.78385377,\n",
       "          0.50896579]]),\n",
       "  'actions': array([[-0.38053253, -0.41482738,  0.69540334,  0.13027555, -0.71264744],\n",
       "         [-0.47358665, -0.09898657, -0.13412404,  0.57852077, -0.77465987],\n",
       "         [-0.38691851,  0.15624154,  0.0952636 ,  0.35759103, -0.69903642],\n",
       "         ...,\n",
       "         [-0.48520452, -0.53349102, -0.71884847,  0.64227116,  0.23955429],\n",
       "         [-0.16913617, -0.72969103,  0.63207269,  0.47892523, -0.69309688],\n",
       "         [-0.15823054, -0.73343247,  0.72656035,  0.38315237, -0.72054207]]),\n",
       "  'rewards': array([-0.85116667, -0.83459997, -0.83816665, ..., -3.15170002,\n",
       "         -3.02150011, -2.21490002]),\n",
       "  'dones': array([False, False, False, ..., False, False,  True])},\n",
       " {'observations': array([[0.0669873 , 0.85355341, 1.        , ..., 0.        , 0.        ,\n",
       "          0.48985395],\n",
       "         [0.25      , 0.85355341, 0.98296291, ..., 0.        , 0.        ,\n",
       "          0.47563303],\n",
       "         [0.25      , 0.85355341, 0.93301272, ..., 0.        , 0.        ,\n",
       "          0.47491887],\n",
       "         ...,\n",
       "         [0.93301272, 0.85355341, 1.        , ..., 0.        , 0.99668628,\n",
       "          0.54177344],\n",
       "         [0.93301272, 0.5       , 0.98296291, ..., 0.        , 0.99669093,\n",
       "          0.51775312],\n",
       "         [0.93301272, 0.5       , 0.93301272, ..., 0.        , 0.99669135,\n",
       "          0.52484852]]),\n",
       "  'actions': array([[-0.38231808, -0.37488091,  0.52088857,  0.06018609, -0.48877025],\n",
       "         [-0.50921428,  0.03548449, -0.27741194,  0.64844728, -0.58600426],\n",
       "         [-0.51653856,  0.2011869 ,  0.10943961,  0.08345556, -0.42614132],\n",
       "         ...,\n",
       "         [-0.51629007, -0.70090747, -0.4528476 , -0.49383664,  0.13336289],\n",
       "         [-0.58610255, -0.54210794,  0.55673778,  0.61408985,  0.15550536],\n",
       "         [-0.42544147, -0.76592237,  0.0639599 ,  0.08432984, -0.74391943]]),\n",
       "  'rewards': array([-0.85116667, -0.83459997, -0.83816665, ..., -0.51744998,\n",
       "         -0.579     , -0.56650001]),\n",
       "  'dones': array([False, False, False, ..., False, False, False])}]"
      ]
     },
     "execution_count": 28,
     "metadata": {},
     "output_type": "execute_result"
    }
   ],
   "source": [
    "dataset"
   ]
  },
  {
   "cell_type": "code",
   "execution_count": 29,
   "id": "c5f3ccd2-0e77-4fe0-952e-170457dbf3cd",
   "metadata": {},
   "outputs": [],
   "source": [
    "trajectories = datasets.Dataset.from_dict({k: [s[k] for s in dataset] for k in dataset[0].keys()})\n"
   ]
  },
  {
   "cell_type": "code",
   "execution_count": 30,
   "id": "b21ec4c2-8d54-4432-9915-60f3289fd630",
   "metadata": {},
   "outputs": [
    {
     "data": {
      "text/plain": [
       "Dataset({\n",
       "    features: ['observations', 'actions', 'rewards', 'dones'],\n",
       "    num_rows: 4\n",
       "})"
      ]
     },
     "execution_count": 30,
     "metadata": {},
     "output_type": "execute_result"
    }
   ],
   "source": [
    "trajectories"
   ]
  },
  {
   "cell_type": "code",
   "execution_count": 31,
   "id": "6182f92d-05a9-45bf-b695-010037ccfedf",
   "metadata": {},
   "outputs": [
    {
     "name": "stdout",
     "output_type": "stream",
     "text": [
      "==================================================\n",
      "Starting new experiment: city_learn\n",
      "4 trajectories, 30000 timesteps found\n",
      "Average return: -6148.22, std: 1638.95\n",
      "Max return: -3352.98, min: -7544.23\n",
      "Average length: 7500.00, std: 2180.65\n",
      "Max length: 8759.00, min: 3723.00\n",
      "==================================================\n",
      "[1 2 3]\n",
      "1\n",
      "2\n",
      "3\n"
     ]
    }
   ],
   "source": [
    "self.offline_trajs, self.state_mean, self.state_std = _load_dataset(trajectories)"
   ]
  },
  {
   "cell_type": "code",
   "execution_count": 34,
   "id": "dc89d463-1c8f-426e-a2f4-084fce5fcc11",
   "metadata": {},
   "outputs": [
    {
     "data": {
      "text/plain": [
       "tensor([0.5225, 0.4299, 0.5000, 0.4262, 0.4261, 0.4261, 0.4260, 0.6998, 0.6998,\n",
       "        0.6997, 0.6997, 0.2019, 0.2019, 0.2018, 0.2018, 0.2111, 0.2111, 0.2111,\n",
       "        0.2111, 0.4074, 0.1916, 0.1915, 0.1915, 0.1915, 0.1463, 0.2082, 0.0495,\n",
       "        0.4175, 0.1566, 0.1927, 0.4486, 0.4479, 0.1336, 0.1925, 0.5922, 0.4744,\n",
       "        0.1789, 0.1932, 0.4688, 0.4846, 0.2032, 0.2085, 0.6247, 0.4693])"
      ]
     },
     "execution_count": 34,
     "metadata": {},
     "output_type": "execute_result"
    }
   ],
   "source": [
    "state_mean = torch.tensor(self.state_mean, device=\"cpu\", dtype=torch.float32)\n",
    "state_mean"
   ]
  },
  {
   "cell_type": "code",
   "execution_count": 36,
   "id": "d4988963-cf30-434b-9d44-b89c6ce848b9",
   "metadata": {},
   "outputs": [],
   "source": [
    "self.replay_buffer = ReplayBuffer(1, self.offline_trajs)"
   ]
  },
  {
   "cell_type": "code",
   "execution_count": 37,
   "id": "2a7e9072-ef42-4b5f-b471-4fa61e4b03e8",
   "metadata": {},
   "outputs": [
    {
     "data": {
      "text/plain": [
       "<replay_buffer.ReplayBuffer at 0x16cb1a070>"
      ]
     },
     "execution_count": 37,
     "metadata": {},
     "output_type": "execute_result"
    }
   ],
   "source": [
    "self.replay_buffer"
   ]
  },
  {
   "cell_type": "code",
   "execution_count": 38,
   "id": "0d80b9cc-f308-4c49-863b-c290f1929c5f",
   "metadata": {},
   "outputs": [
    {
     "data": {
      "text/plain": [
       "1"
      ]
     },
     "execution_count": 38,
     "metadata": {},
     "output_type": "execute_result"
    }
   ],
   "source": [
    "len(self.replay_buffer.trajectories)"
   ]
  },
  {
   "cell_type": "code",
   "execution_count": 39,
   "id": "e7c3e127-0923-40df-a734-11df31c8cca8",
   "metadata": {},
   "outputs": [],
   "source": [
    "self.aug_trajs = []"
   ]
  },
  {
   "cell_type": "code",
   "execution_count": 40,
   "id": "11c0e62d-f68b-4afb-a8b2-9852e5009113",
   "metadata": {},
   "outputs": [],
   "source": [
    "self.device = \"cpu\"\n",
    "self.target_entropy = -self.act_dim\n",
    "MAX_EPISODE_LEN = 8760"
   ]
  },
  {
   "cell_type": "code",
   "execution_count": 41,
   "id": "6adae849-b155-46ed-99cb-80deae9d587e",
   "metadata": {},
   "outputs": [
    {
     "data": {
      "text/plain": [
       "-5"
      ]
     },
     "execution_count": 41,
     "metadata": {},
     "output_type": "execute_result"
    }
   ],
   "source": [
    "self.target_entropy"
   ]
  },
  {
   "cell_type": "code",
   "execution_count": 42,
   "id": "38f4384f-0f22-4fb2-bfbb-e66b748a8895",
   "metadata": {},
   "outputs": [
    {
     "data": {
      "text/plain": [
       "512"
      ]
     },
     "execution_count": 42,
     "metadata": {},
     "output_type": "execute_result"
    }
   ],
   "source": [
    "variant[\"embed_dim\"]"
   ]
  },
  {
   "cell_type": "code",
   "execution_count": 43,
   "id": "d598dca1-0f72-43b9-8055-dfccbca56f62",
   "metadata": {},
   "outputs": [],
   "source": [
    "self.model = DecisionTransformer(\n",
    "            state_dim=self.state_dim,\n",
    "            act_dim=self.act_dim,\n",
    "            action_range=self.action_range,\n",
    "            max_length=variant[\"K\"],\n",
    "            eval_context_length=variant[\"eval_context_length\"],\n",
    "            max_ep_len=MAX_EPISODE_LEN,\n",
    "            hidden_size=variant[\"embed_dim\"],\n",
    "            n_layer=variant[\"n_layer\"],\n",
    "            n_head=variant[\"n_head\"],\n",
    "            n_inner=4 * variant[\"embed_dim\"],\n",
    "            activation_function=variant[\"activation_function\"],\n",
    "            n_positions=1024,\n",
    "            resid_pdrop=variant[\"dropout\"],\n",
    "            attn_pdrop=variant[\"dropout\"],\n",
    "            n_ctx = 60,\n",
    "            stochastic_policy=True,\n",
    "            ordering=variant[\"ordering\"],\n",
    "            init_temperature=variant[\"init_temperature\"],\n",
    "            target_entropy=self.target_entropy,\n",
    "        ).to(device=self.device)"
   ]
  },
  {
   "cell_type": "code",
   "execution_count": 44,
   "id": "83f21dba-5cbd-40bd-b4b2-87038298c393",
   "metadata": {},
   "outputs": [],
   "source": [
    "self.optimizer = Lamb(\n",
    "            self.model.parameters(),\n",
    "            lr=variant[\"learning_rate\"],\n",
    "            weight_decay=variant[\"weight_decay\"],\n",
    "            eps=1e-8,\n",
    "        )\n",
    "self.scheduler = torch.optim.lr_scheduler.LambdaLR(\n",
    "            self.optimizer, lambda steps: min((steps + 1) / variant[\"warmup_steps\"], 1)\n",
    "        )\n",
    "self.log_temperature_optimizer = torch.optim.Adam(\n",
    "            [self.model.log_temperature],\n",
    "            lr=1e-4,\n",
    "            betas=[0.9, 0.999],\n",
    "        )"
   ]
  },
  {
   "cell_type": "code",
   "execution_count": 45,
   "id": "ba7581e5-55b9-4a93-96bf-9c451faf90e5",
   "metadata": {},
   "outputs": [
    {
     "name": "stdout",
     "output_type": "stream",
     "text": [
      "Experiment log path: ./exp/2024.06.08/160923-default\n"
     ]
    }
   ],
   "source": [
    "self.pretrain_iter = 0\n",
    "self.online_iter = 0\n",
    "self.total_transitions_sampled = 0\n",
    "self.variant = variant\n",
    "self.reward_scale = 1.0 \n",
    "self.logger = Logger(variant)"
   ]
  },
  {
   "cell_type": "code",
   "execution_count": 46,
   "id": "bd2fb603-233b-47ad-a66a-0dd44a47d0ff",
   "metadata": {},
   "outputs": [],
   "source": [
    "def loss_fn(\n",
    "            a_hat_dist,\n",
    "            a,\n",
    "            attention_mask,\n",
    "            entropy_reg,\n",
    "        ):\n",
    "            # a_hat is a SquashedNormal Distribution\n",
    "    log_likelihood = a_hat_dist.log_likelihood(a)[attention_mask > 0].mean()\n",
    "\n",
    "    entropy = a_hat_dist.entropy().mean()\n",
    "    loss = -(log_likelihood + entropy_reg * entropy)\n",
    "\n",
    "    return (\n",
    "                loss,\n",
    "                -log_likelihood,\n",
    "                entropy,\n",
    "            )"
   ]
  },
  {
   "cell_type": "code",
   "execution_count": 47,
   "id": "a23422bc-7430-4c73-8843-5ef94848ab35",
   "metadata": {},
   "outputs": [],
   "source": [
    "def pretrain(self, eval_envs, loss_fn):\n",
    "    print(\"\\n\\n\\n*** Pretrain ***\")\n",
    "\n",
    "   \n",
    "\n",
    "    trainer = SequenceTrainer(\n",
    "            model=self.model,\n",
    "            optimizer=self.optimizer,\n",
    "            log_temperature_optimizer=self.log_temperature_optimizer,\n",
    "            scheduler=self.scheduler,\n",
    "            device=self.device,\n",
    "        )\n",
    "\n",
    "    \n",
    "    while self.pretrain_iter < 1:\n",
    "            # in every iteration, prepare the data loader\n",
    "        dataloader = create_dataloader(\n",
    "                trajectories=self.offline_trajs,\n",
    "                num_iters=self.variant[\"num_updates_per_pretrain_iter\"],\n",
    "                batch_size=self.variant[\"batch_size\"],\n",
    "                max_len=self.variant[\"K\"],\n",
    "                state_dim=self.state_dim,\n",
    "                act_dim=self.act_dim,\n",
    "                state_mean=self.state_mean,\n",
    "                state_std=self.state_std,\n",
    "                reward_scale=self.reward_scale,\n",
    "                action_range=self.action_range,\n",
    "            )\n",
    "\n",
    "        train_outputs = trainer.train_iteration(\n",
    "                loss_fn=loss_fn,\n",
    "                dataloader=dataloader,\n",
    "            )\n",
    "        eval_outputs, eval_reward = self.evaluate(eval_fns)\n",
    "        outputs = {\"time/total\": time.time() - self.start_time}\n",
    "        outputs.update(train_outputs)\n",
    "        outputs.update(eval_outputs)\n",
    "        self.logger.log_metrics(\n",
    "                outputs,\n",
    "                iter_num=self.pretrain_iter,\n",
    "                total_transitions_sampled=self.total_transitions_sampled,\n",
    "                writer=writer,\n",
    "            )\n",
    "\n",
    "        self._save_model(\n",
    "                path_prefix=self.logger.log_path,\n",
    "                is_pretrain_model=True,\n",
    "            )\n",
    "\n",
    "        self.pretrain_iter += 1"
   ]
  },
  {
   "cell_type": "markdown",
   "id": "7ea724b8-e8f4-4138-b30f-6310aa7ce312",
   "metadata": {},
   "source": [
    "## Pretrain"
   ]
  },
  {
   "cell_type": "code",
   "execution_count": 48,
   "id": "68b429e6-b9b9-434f-a275-5cc05010de56",
   "metadata": {},
   "outputs": [],
   "source": [
    "trainer = SequenceTrainerCustom(\n",
    "            model=self.model,\n",
    "            optimizer=self.optimizer,\n",
    "            log_temperature_optimizer=self.log_temperature_optimizer,\n",
    "            scheduler=self.scheduler,\n",
    "            device=self.device,\n",
    "        )"
   ]
  },
  {
   "cell_type": "code",
   "execution_count": 49,
   "id": "d4f1c44e-6a00-421b-b4dd-a177fd83913a",
   "metadata": {},
   "outputs": [
    {
     "name": "stderr",
     "output_type": "stream",
     "text": [
      "/Users/danieljonatan/miniconda3/envs/stable3/lib/python3.9/site-packages/torch/utils/data/dataloader.py:558: UserWarning: This DataLoader will create 24 worker processes in total. Our suggested max number of worker in current system is 8 (`cpuset` is not taken into account), which is smaller than what this DataLoader is going to create. Please be aware that excessive worker creation might get DataLoader running slow or even freeze, lower the worker number to avoid potential slowness/freeze if necessary.\n",
      "  warnings.warn(_create_warning_msg(\n"
     ]
    }
   ],
   "source": [
    "dataloader = create_dataloader(\n",
    "                trajectories=self.offline_trajs,\n",
    "                num_iters=self.variant[\"num_updates_per_pretrain_iter\"],\n",
    "                batch_size=self.variant[\"batch_size\"],\n",
    "                max_len=self.variant[\"K\"],\n",
    "                state_dim=self.state_dim,\n",
    "                act_dim=self.act_dim,\n",
    "                state_mean=self.state_mean,\n",
    "                state_std=self.state_std,\n",
    "                reward_scale=self.reward_scale,\n",
    "                action_range=self.action_range,\n",
    "            )\n",
    "## Remember n_ctx have to follow the query, key, value "
   ]
  },
  {
   "cell_type": "code",
   "execution_count": 50,
   "id": "a921d7fe-acfd-44fe-a3a3-3ad8de817c47",
   "metadata": {},
   "outputs": [
    {
     "data": {
      "text/plain": [
       "'\\ntrain_outputs = trainer.train_iteration(\\n                loss_fn=loss_fn,\\n                dataloader=dataloader,\\n            )\\n'"
      ]
     },
     "execution_count": 50,
     "metadata": {},
     "output_type": "execute_result"
    }
   ],
   "source": [
    "\"\"\"\n",
    "train_outputs = trainer.train_iteration(\n",
    "                loss_fn=loss_fn,\n",
    "                dataloader=dataloader,\n",
    "            )\n",
    "\"\"\""
   ]
  },
  {
   "cell_type": "code",
   "execution_count": 51,
   "id": "ab8e8af7-b69b-42e4-96f2-de62f4d3a5f8",
   "metadata": {},
   "outputs": [
    {
     "ename": "AttributeError",
     "evalue": "'self' object has no attribute '_save_model'",
     "output_type": "error",
     "traceback": [
      "\u001b[0;31m---------------------------------------------------------------------------\u001b[0m",
      "\u001b[0;31mAttributeError\u001b[0m                            Traceback (most recent call last)",
      "Cell \u001b[0;32mIn[51], line 1\u001b[0m\n\u001b[0;32m----> 1\u001b[0m \u001b[38;5;28;43mself\u001b[39;49m\u001b[38;5;241;43m.\u001b[39;49m\u001b[43m_save_model\u001b[49m(path_prefix \u001b[38;5;241m=\u001b[39m \u001b[38;5;28mself\u001b[39m\u001b[38;5;241m.\u001b[39mlogger\u001b[38;5;241m.\u001b[39mlog_path, is_pretrain_model \u001b[38;5;241m=\u001b[39m \u001b[38;5;28;01mTrue\u001b[39;00m)\n",
      "\u001b[0;31mAttributeError\u001b[0m: 'self' object has no attribute '_save_model'"
     ]
    }
   ],
   "source": [
    "self._save_model(path_prefix = self.logger.log_path, is_pretrain_model = True)"
   ]
  },
  {
   "cell_type": "code",
   "execution_count": 52,
   "id": "90fa2099-5243-4e71-8154-82ecb9e66ac1",
   "metadata": {},
   "outputs": [
    {
     "data": {
      "text/plain": [
       "{'state': {},\n",
       " 'param_groups': [{'lr': 0.0001,\n",
       "   'betas': [0.9, 0.999],\n",
       "   'eps': 1e-08,\n",
       "   'weight_decay': 0,\n",
       "   'amsgrad': False,\n",
       "   'maximize': False,\n",
       "   'foreach': None,\n",
       "   'capturable': False,\n",
       "   'differentiable': False,\n",
       "   'fused': None,\n",
       "   'params': [0]}]}"
      ]
     },
     "execution_count": 52,
     "metadata": {},
     "output_type": "execute_result"
    }
   ],
   "source": [
    "self.log_temperature_optimizer.state_dict()"
   ]
  },
  {
   "cell_type": "code",
   "execution_count": 53,
   "id": "c61edab1-3bd9-4544-a5df-48ef00af8d64",
   "metadata": {},
   "outputs": [
    {
     "data": {
      "text/plain": [
       "1"
      ]
     },
     "execution_count": 53,
     "metadata": {},
     "output_type": "execute_result"
    }
   ],
   "source": [
    "self.variant[\"max_pretrain_iters\"]"
   ]
  },
  {
   "cell_type": "code",
   "execution_count": 54,
   "id": "236f6ed1-f28e-45f9-8b9c-70146f3269ea",
   "metadata": {},
   "outputs": [
    {
     "data": {
      "text/plain": [
       "5000"
      ]
     },
     "execution_count": 54,
     "metadata": {},
     "output_type": "execute_result"
    }
   ],
   "source": [
    "len(dataloader)"
   ]
  },
  {
   "cell_type": "code",
   "execution_count": 55,
   "id": "0698fdf1-4697-48b4-b7ca-4281e04067fa",
   "metadata": {},
   "outputs": [
    {
     "data": {
      "text/plain": [
       "17152567"
      ]
     },
     "execution_count": 55,
     "metadata": {},
     "output_type": "execute_result"
    }
   ],
   "source": [
    "total_params = sum(p.numel() for p in self.model.parameters())\n",
    "total_params"
   ]
  },
  {
   "cell_type": "code",
   "execution_count": 56,
   "id": "02f9a775-1e0d-4e68-bd55-e8badbf814a9",
   "metadata": {},
   "outputs": [
    {
     "data": {
      "text/plain": [
       "7200"
      ]
     },
     "execution_count": 56,
     "metadata": {},
     "output_type": "execute_result"
    }
   ],
   "source": [
    "self.variant[\"online_rtg\"]"
   ]
  },
  {
   "cell_type": "code",
   "execution_count": 57,
   "id": "975234fa-ec9b-4a0b-83a1-3e33508a0fef",
   "metadata": {},
   "outputs": [
    {
     "data": {
      "text/plain": [
       "1"
      ]
     },
     "execution_count": 57,
     "metadata": {},
     "output_type": "execute_result"
    }
   ],
   "source": [
    "self.variant[\"num_online_rollouts\"]"
   ]
  },
  {
   "cell_type": "markdown",
   "id": "f232338a-dfef-4b87-87d1-e1c3a72d8990",
   "metadata": {},
   "source": [
    "## Augment Trajectories \n"
   ]
  },
  {
   "cell_type": "code",
   "execution_count": 58,
   "id": "bd33602a-dbe4-4082-8add-2140fe0365eb",
   "metadata": {},
   "outputs": [],
   "source": [
    "target_return = -6000"
   ]
  },
  {
   "cell_type": "markdown",
   "id": "da4f5b0f-df6d-4ebd-ae1a-d9ee3d4d1f07",
   "metadata": {},
   "source": [
    "## Evaluate Episode RTG"
   ]
  },
  {
   "cell_type": "code",
   "execution_count": 59,
   "id": "2ebd8740-2c5b-4552-86fc-2efb11146bb8",
   "metadata": {},
   "outputs": [
    {
     "data": {
      "text/plain": [
       "DecisionTransformer(\n",
       "  (transformer): GPT2Model(\n",
       "    (wte): Embedding(1, 512)\n",
       "    (drop): Dropout(p=0.1, inplace=False)\n",
       "    (h): ModuleList(\n",
       "      (0-3): 4 x Block(\n",
       "        (ln_1): LayerNorm((512,), eps=1e-05, elementwise_affine=True)\n",
       "        (attn): Attention(\n",
       "          (c_attn): Conv1D()\n",
       "          (c_proj): Conv1D()\n",
       "          (attn_dropout): Dropout(p=0.1, inplace=False)\n",
       "          (resid_dropout): Dropout(p=0.1, inplace=False)\n",
       "        )\n",
       "        (ln_2): LayerNorm((512,), eps=1e-05, elementwise_affine=True)\n",
       "        (mlp): MLP(\n",
       "          (c_fc): Conv1D()\n",
       "          (c_proj): Conv1D()\n",
       "          (act): ReLU()\n",
       "          (dropout): Dropout(p=0.1, inplace=False)\n",
       "        )\n",
       "      )\n",
       "    )\n",
       "    (ln_f): LayerNorm((512,), eps=1e-05, elementwise_affine=True)\n",
       "  )\n",
       "  (embed_timestep): Embedding(8760, 512)\n",
       "  (embed_return): Linear(in_features=1, out_features=512, bias=True)\n",
       "  (embed_state): Linear(in_features=44, out_features=512, bias=True)\n",
       "  (embed_action): Linear(in_features=5, out_features=512, bias=True)\n",
       "  (embed_ln): LayerNorm((512,), eps=1e-05, elementwise_affine=True)\n",
       "  (predict_state): Linear(in_features=512, out_features=44, bias=True)\n",
       "  (predict_return): Linear(in_features=512, out_features=1, bias=True)\n",
       "  (predict_action): DiagGaussianActor(\n",
       "    (mu): Linear(in_features=512, out_features=5, bias=True)\n",
       "    (log_std): Linear(in_features=512, out_features=5, bias=True)\n",
       "  )\n",
       ")"
      ]
     },
     "execution_count": 59,
     "metadata": {},
     "output_type": "execute_result"
    }
   ],
   "source": [
    "self.model.eval()\n",
    "self.model.to(device=\"cpu\")"
   ]
  },
  {
   "cell_type": "code",
   "execution_count": 60,
   "id": "b1512064-091e-49d1-92b2-b8e6fe91b5f2",
   "metadata": {},
   "outputs": [],
   "source": [
    "state_mean = torch.from_numpy(self.state_mean).to(device=self.device)\n",
    "state_std = torch.from_numpy(self.state_std).to(device=self.device)"
   ]
  },
  {
   "cell_type": "code",
   "execution_count": 61,
   "id": "dd29613d-bf38-41bf-ab6f-1c7219e24cc0",
   "metadata": {},
   "outputs": [],
   "source": [
    "aug_env = CityLearnEnv(schema=\"citylearn_challenge_2022_phase_2\")\n",
    "aug_env.central_agent = True\n",
    "aug_env = NormalizedObservationWrapper(aug_env)\n",
    "aug_env = StableBaselines3WrapperCustom(aug_env)"
   ]
  },
  {
   "cell_type": "code",
   "execution_count": 62,
   "id": "081fdf4b-e77f-4413-a488-e4a27fad76ef",
   "metadata": {},
   "outputs": [],
   "source": [
    "state,_ = aug_env.reset()"
   ]
  },
  {
   "cell_type": "code",
   "execution_count": 63,
   "id": "33ab1649-334f-4a0d-8216-0fec4be84794",
   "metadata": {},
   "outputs": [],
   "source": [
    "num_envs = 1 "
   ]
  },
  {
   "cell_type": "code",
   "execution_count": 64,
   "id": "69bceb3a-accf-4d92-9644-1ce77e1c86fa",
   "metadata": {},
   "outputs": [],
   "source": [
    "states = (\n",
    "        torch.from_numpy(state)\n",
    "        .reshape(num_envs, self.state_dim)\n",
    "        .to(device=self.device, dtype=torch.float32)\n",
    "    ).reshape(num_envs, -1, self.state_dim)"
   ]
  },
  {
   "cell_type": "code",
   "execution_count": 65,
   "id": "c9bf701e-3663-4a71-a644-da7a2c0150d0",
   "metadata": {},
   "outputs": [
    {
     "data": {
      "text/plain": [
       "tensor([[[0.0670, 0.8536, 1.0000, 0.5414, 0.4774, 0.6466, 0.5414, 0.8222,\n",
       "          0.7889, 0.6444, 0.7889, 0.0000, 0.0246, 0.9479, 0.0000, 0.0000,\n",
       "          0.1049, 0.8552, 0.0000, 0.4746, 0.0303, 0.0303, 0.0303, 0.0303,\n",
       "          0.2201, 0.0000, 0.0000, 0.5092, 0.1065, 0.0000, 0.0000, 0.4610,\n",
       "          0.0000, 0.0000, 0.0000, 0.4033, 0.0835, 0.0000, 0.0000, 0.4798,\n",
       "          0.0634, 0.0000, 0.0000, 0.4165]]])"
      ]
     },
     "execution_count": 65,
     "metadata": {},
     "output_type": "execute_result"
    }
   ],
   "source": [
    "states"
   ]
  },
  {
   "cell_type": "code",
   "execution_count": 66,
   "id": "a2e7916b-b76a-42f5-9906-eec1e8189771",
   "metadata": {},
   "outputs": [],
   "source": [
    "actions = torch.zeros(0, device=self.device, dtype=torch.float32)\n",
    "rewards = torch.zeros(0, device=self.device, dtype=torch.float32)\n",
    "\n",
    "ep_return = target_return\n",
    "target_return = torch.tensor(ep_return, device=self.device, dtype=torch.float32).reshape(\n",
    "        num_envs, -1, 1\n",
    "    )\n",
    "timesteps = torch.tensor([0] * num_envs, device=self.device, dtype=torch.long).reshape(\n",
    "        num_envs, -1\n",
    "    )"
   ]
  },
  {
   "cell_type": "code",
   "execution_count": 67,
   "id": "81c3b35e-184b-4b21-ad7a-e32b1b939c51",
   "metadata": {},
   "outputs": [
    {
     "data": {
      "text/plain": [
       "tensor([[0]])"
      ]
     },
     "execution_count": 67,
     "metadata": {},
     "output_type": "execute_result"
    }
   ],
   "source": [
    "timesteps"
   ]
  },
  {
   "cell_type": "code",
   "execution_count": 68,
   "id": "d35d827d-da11-4b63-8dce-50238b13cfe9",
   "metadata": {},
   "outputs": [],
   "source": [
    "episode_return = np.zeros((num_envs, 1)).astype(float)\n",
    "episode_length = np.full(num_envs, np.inf)"
   ]
  },
  {
   "cell_type": "code",
   "execution_count": 69,
   "id": "8b3c085a-c26a-4ca8-9f6a-32d5b092029c",
   "metadata": {},
   "outputs": [
    {
     "data": {
      "text/plain": [
       "array([inf])"
      ]
     },
     "execution_count": 69,
     "metadata": {},
     "output_type": "execute_result"
    }
   ],
   "source": [
    "episode_length"
   ]
  },
  {
   "cell_type": "code",
   "execution_count": 70,
   "id": "8fd4ce21-d886-4836-a945-d1975a0cbb89",
   "metadata": {},
   "outputs": [],
   "source": [
    "unfinished = np.ones(num_envs).astype(bool)"
   ]
  },
  {
   "cell_type": "code",
   "execution_count": 71,
   "id": "0a894cd8-398f-4343-8d55-069d7c98e887",
   "metadata": {},
   "outputs": [],
   "source": [
    "max_ep_len = 10"
   ]
  },
  {
   "cell_type": "code",
   "execution_count": 72,
   "id": "8afa9577-d359-4377-873f-f713b4d97dd5",
   "metadata": {},
   "outputs": [],
   "source": [
    "act_dim = self.act_dim\n",
    "state_dim = self.state_dim \n",
    "device = self.device\n",
    "model = self.model\n",
    "use_mean = True\n",
    "mode=\"normal\"\n",
    "reward_scale = 1 "
   ]
  },
  {
   "cell_type": "code",
   "execution_count": 73,
   "id": "9d073fdf-572f-4649-9d0a-03bfe0e2a1b1",
   "metadata": {},
   "outputs": [
    {
     "name": "stdout",
     "output_type": "stream",
     "text": [
      "-1.185349941253662\n",
      "tensor([[[-0.3673, -0.6925, -0.1066,  0.0391, -0.6722]]], grad_fn=<CopySlices>)\n",
      "-1.2106000185012817\n",
      "tensor([[[-0.3673, -0.6925, -0.1066,  0.0391, -0.6722],\n",
      "         [-0.0409, -0.7217, -0.1225,  0.1506, -0.6952]]], grad_fn=<CopySlices>)\n",
      "-4.137480735778809\n",
      "tensor([[[-0.3673, -0.6925, -0.1066,  0.0391, -0.6722],\n",
      "         [-0.0409, -0.7217, -0.1225,  0.1506, -0.6952],\n",
      "         [ 0.4102, -0.4528, -0.4400,  0.1944, -0.2847]]], grad_fn=<CopySlices>)\n",
      "-5.337705612182617\n",
      "tensor([[[-0.3673, -0.6925, -0.1066,  0.0391, -0.6722],\n",
      "         [-0.0409, -0.7217, -0.1225,  0.1506, -0.6952],\n",
      "         [ 0.4102, -0.4528, -0.4400,  0.1944, -0.2847],\n",
      "         [ 0.4343,  0.3511, -0.4904, -0.4765, -0.1629]]], grad_fn=<CopySlices>)\n",
      "-2.2948639392852783\n",
      "tensor([[[-0.3673, -0.6925, -0.1066,  0.0391, -0.6722],\n",
      "         [-0.0409, -0.7217, -0.1225,  0.1506, -0.6952],\n",
      "         [ 0.4102, -0.4528, -0.4400,  0.1944, -0.2847],\n",
      "         [ 0.4343,  0.3511, -0.4904, -0.4765, -0.1629],\n",
      "         [ 0.6255,  0.6056, -0.5427, -0.3114, -0.2340]]], grad_fn=<CopySlices>)\n",
      "-0.796093225479126\n",
      "tensor([[[-0.3673, -0.6925, -0.1066,  0.0391, -0.6722],\n",
      "         [-0.0409, -0.7217, -0.1225,  0.1506, -0.6952],\n",
      "         [ 0.4102, -0.4528, -0.4400,  0.1944, -0.2847],\n",
      "         [ 0.4343,  0.3511, -0.4904, -0.4765, -0.1629],\n",
      "         [ 0.6255,  0.6056, -0.5427, -0.3114, -0.2340],\n",
      "         [ 0.7259,  0.7161, -0.5043,  0.0220, -0.5764]]], grad_fn=<CopySlices>)\n",
      "-0.20154821872711182\n",
      "tensor([[[-0.3673, -0.6925, -0.1066,  0.0391, -0.6722],\n",
      "         [-0.0409, -0.7217, -0.1225,  0.1506, -0.6952],\n",
      "         [ 0.4102, -0.4528, -0.4400,  0.1944, -0.2847],\n",
      "         [ 0.4343,  0.3511, -0.4904, -0.4765, -0.1629],\n",
      "         [ 0.6255,  0.6056, -0.5427, -0.3114, -0.2340],\n",
      "         [ 0.7259,  0.7161, -0.5043,  0.0220, -0.5764],\n",
      "         [ 0.7812,  0.7812, -0.5851,  0.1376, -0.6720]]], grad_fn=<CopySlices>)\n",
      "-0.6466665267944336\n",
      "tensor([[[-0.3673, -0.6925, -0.1066,  0.0391, -0.6722],\n",
      "         [-0.0409, -0.7217, -0.1225,  0.1506, -0.6952],\n",
      "         [ 0.4102, -0.4528, -0.4400,  0.1944, -0.2847],\n",
      "         [ 0.4343,  0.3511, -0.4904, -0.4765, -0.1629],\n",
      "         [ 0.6255,  0.6056, -0.5427, -0.3114, -0.2340],\n",
      "         [ 0.7259,  0.7161, -0.5043,  0.0220, -0.5764],\n",
      "         [ 0.7812,  0.7812, -0.5851,  0.1376, -0.6720],\n",
      "         [ 0.7812,  0.7812, -0.5257, -0.0916, -0.6295]]], grad_fn=<CopySlices>)\n",
      "-1.317265510559082\n",
      "tensor([[[-0.3673, -0.6925, -0.1066,  0.0391, -0.6722],\n",
      "         [-0.0409, -0.7217, -0.1225,  0.1506, -0.6952],\n",
      "         [ 0.4102, -0.4528, -0.4400,  0.1944, -0.2847],\n",
      "         [ 0.4343,  0.3511, -0.4904, -0.4765, -0.1629],\n",
      "         [ 0.6255,  0.6056, -0.5427, -0.3114, -0.2340],\n",
      "         [ 0.7259,  0.7161, -0.5043,  0.0220, -0.5764],\n",
      "         [ 0.7812,  0.7812, -0.5851,  0.1376, -0.6720],\n",
      "         [ 0.7812,  0.7812, -0.5257, -0.0916, -0.6295],\n",
      "         [ 0.6876,  0.7812, -0.6188,  0.0949, -0.3555]]], grad_fn=<CopySlices>)\n",
      "-1.2893710136413574\n",
      "tensor([[[-0.3673, -0.6925, -0.1066,  0.0391, -0.6722],\n",
      "         [-0.0409, -0.7217, -0.1225,  0.1506, -0.6952],\n",
      "         [ 0.4102, -0.4528, -0.4400,  0.1944, -0.2847],\n",
      "         [ 0.4343,  0.3511, -0.4904, -0.4765, -0.1629],\n",
      "         [ 0.6255,  0.6056, -0.5427, -0.3114, -0.2340],\n",
      "         [ 0.7259,  0.7161, -0.5043,  0.0220, -0.5764],\n",
      "         [ 0.7812,  0.7812, -0.5851,  0.1376, -0.6720],\n",
      "         [ 0.7812,  0.7812, -0.5257, -0.0916, -0.6295],\n",
      "         [ 0.6876,  0.7812, -0.6188,  0.0949, -0.3555],\n",
      "         [ 0.1073,  0.7721, -0.5542, -0.0911, -0.3030]]], grad_fn=<CopySlices>)\n"
     ]
    }
   ],
   "source": [
    "for t in range(max_ep_len):\n",
    "        # add padding\n",
    "    actions = torch.cat(\n",
    "            [\n",
    "                actions,\n",
    "                torch.zeros((num_envs, act_dim), device=device).reshape(\n",
    "                    num_envs, -1, act_dim\n",
    "                ),\n",
    "            ],\n",
    "            dim=1,\n",
    "        )\n",
    "    #print(actions)\n",
    "    rewards = torch.cat(\n",
    "            [\n",
    "                rewards,\n",
    "                torch.zeros((num_envs, 1), device=device).reshape(num_envs, -1, 1),\n",
    "            ],\n",
    "            dim=1,\n",
    "        )\n",
    "\n",
    "    state_pred, action_dist, reward_pred = model.get_predictions(\n",
    "            (states.to(dtype=torch.float32) - state_mean) / state_std,\n",
    "            actions.to(dtype=torch.float32),\n",
    "            rewards.to(dtype=torch.float32),\n",
    "            target_return.to(dtype=torch.float32),\n",
    "            timesteps.to(dtype=torch.long),\n",
    "            num_envs=num_envs,\n",
    "        )\n",
    "    state_pred = state_pred.detach().cpu().numpy().reshape(num_envs, -1)\n",
    "    reward_pred = reward_pred.detach().cpu().numpy().reshape(num_envs)\n",
    "\n",
    "        # the return action is a SquashNormal distribution\n",
    "    action = action_dist.sample().reshape(num_envs, -1, act_dim)[:, -1]\n",
    "    if use_mean:\n",
    "        action = action_dist.mean.reshape(num_envs, -1, act_dim)[:, -1]\n",
    "    action = action.clamp(*model.action_range)\n",
    "    #print(action.detach().cpu().numpy())\n",
    "\n",
    "    state, reward, done, _,_ = aug_env.step(action.detach().cpu().numpy()[0])\n",
    "\n",
    "        # eval_env.step() will execute the action for all the sub-envs, for those where\n",
    "        # the episodes have terminated, the envs will be reset. Hence we use\n",
    "        # \"unfinished\" to track whether the first episode we roll out for each sub-env is\n",
    "        # finished. In contrast, \"done\" only relates to the current episode\n",
    "    print(reward)\n",
    "    episode_return += reward\n",
    "\n",
    "    actions[:, -1] = action\n",
    "    print(actions)\n",
    "    state = (\n",
    "            torch.from_numpy(state).to(device=device).reshape(num_envs, -1, state_dim)\n",
    "        )\n",
    "    states = torch.cat([states, state], dim=1)\n",
    "    #reward = torch.from_numpy(reward).to(device=device).reshape(num_envs, 1)\n",
    "    rewards[:, -1] = reward\n",
    "\n",
    "    if mode != \"delayed\":\n",
    "        pred_return = target_return[:, -1] - (reward * reward_scale)\n",
    "    else:\n",
    "        pred_return = target_return[:, -1]\n",
    "    target_return = torch.cat(\n",
    "            [target_return, pred_return.reshape(num_envs, -1, 1)], dim=1\n",
    "        )\n",
    "\n",
    "    timesteps = torch.cat(\n",
    "            [\n",
    "                timesteps,\n",
    "                torch.ones((num_envs, 1), device=device, dtype=torch.long).reshape(\n",
    "                    num_envs, 1\n",
    "                )\n",
    "                * (t + 1),\n",
    "            ],\n",
    "            dim=1,\n",
    "        )\n",
    "\n",
    "    if t == max_ep_len - 1:\n",
    "        done = done\n",
    "        ind = 0\n",
    "        episode_length[ind] = np.minimum(episode_length[ind], t + 1)\n",
    "        \n",
    "    if np.any(done):\n",
    "        ind = np.where(done)[0]\n",
    "        print(\"ind \" + str(ind))\n",
    "        unfinished[ind] = False\n",
    "        episode_length[ind] = np.minimum(episode_length[ind], t + 1)\n",
    "\n",
    "    if not np.any(unfinished):\n",
    "        break"
   ]
  },
  {
   "cell_type": "code",
   "execution_count": 74,
   "id": "83175293-5531-4eed-9afd-58e5e795e8cd",
   "metadata": {},
   "outputs": [
    {
     "data": {
      "text/plain": [
       "SquashedNormal()"
      ]
     },
     "execution_count": 74,
     "metadata": {},
     "output_type": "execute_result"
    }
   ],
   "source": [
    "action_dist"
   ]
  },
  {
   "cell_type": "code",
   "execution_count": 73,
   "id": "5cd83514-e819-4d88-a48e-bc63c3cca01a",
   "metadata": {},
   "outputs": [],
   "source": [
    "trajectories = []\n",
    "for ii in range(num_envs):\n",
    "    ep_len = episode_length[ii].astype(int)\n",
    "    terminals = np.zeros(ep_len)\n",
    "    terminals[-1] = 1\n",
    "    traj = {\n",
    "            \"observations\": states[ii].detach().cpu().numpy()[:ep_len],\n",
    "            \"actions\": actions[ii].detach().cpu().numpy()[:ep_len],\n",
    "            \"rewards\": rewards[ii].detach().cpu().numpy()[:ep_len],\n",
    "            \"terminals\": terminals,\n",
    "        }\n",
    "    trajectories.append(traj)"
   ]
  },
  {
   "cell_type": "code",
   "execution_count": 74,
   "id": "18442dfd-7322-4147-9e30-7aa4fc47460b",
   "metadata": {},
   "outputs": [],
   "source": [
    "#trajectories"
   ]
  },
  {
   "cell_type": "code",
   "execution_count": 125,
   "id": "6d739ab5-e2c5-439c-9cb9-a17b8fc24e3d",
   "metadata": {},
   "outputs": [],
   "source": [
    "returns,lengths,trajs = episode_return.reshape(num_envs),episode_length.reshape(num_envs),trajectories"
   ]
  },
  {
   "cell_type": "code",
   "execution_count": 128,
   "id": "f05c443a-510e-4264-86f3-6bd11a2b3295",
   "metadata": {},
   "outputs": [
    {
     "data": {
      "text/plain": [
       "10.0"
      ]
     },
     "execution_count": 128,
     "metadata": {},
     "output_type": "execute_result"
    }
   ],
   "source": [
    "np.mean(lengths)"
   ]
  },
  {
   "cell_type": "code",
   "execution_count": 77,
   "id": "81d625af-bbb7-44e8-8a55-1e3a5a3a49ec",
   "metadata": {},
   "outputs": [
    {
     "data": {
      "text/plain": [
       "[{'observations': array([[6.69872984e-02, 8.53553414e-01, 1.00000000e+00, 5.41353345e-01,\n",
       "          4.77443576e-01, 6.46616518e-01, 5.41353345e-01, 8.22222233e-01,\n",
       "          7.88888872e-01, 6.44444466e-01, 7.88888872e-01, 0.00000000e+00,\n",
       "          2.45821048e-02, 9.47885931e-01, 0.00000000e+00, 0.00000000e+00,\n",
       "          1.04931794e-01, 8.55194151e-01, 0.00000000e+00, 4.74622518e-01,\n",
       "          3.03030442e-02, 3.03030442e-02, 3.03030442e-02, 3.03030442e-02,\n",
       "          2.20085010e-01, 0.00000000e+00, 0.00000000e+00, 5.09163201e-01,\n",
       "          1.06455028e-01, 0.00000000e+00, 0.00000000e+00, 4.61044788e-01,\n",
       "          0.00000000e+00, 0.00000000e+00, 0.00000000e+00, 4.03335273e-01,\n",
       "          8.35057050e-02, 0.00000000e+00, 0.00000000e+00, 4.79821682e-01,\n",
       "          6.34394661e-02, 0.00000000e+00, 0.00000000e+00, 4.16513085e-01],\n",
       "         [2.50000000e-01, 8.53553414e-01, 9.82962906e-01, 5.45112789e-01,\n",
       "          5.18796980e-01, 6.46616518e-01, 5.18796980e-01, 7.66666651e-01,\n",
       "          7.66666651e-01, 6.77777767e-01, 8.55555534e-01, 0.00000000e+00,\n",
       "          1.97640121e-01, 9.49852526e-01, 0.00000000e+00, 0.00000000e+00,\n",
       "          4.65897173e-01, 7.83840477e-01, 0.00000000e+00, 4.11214262e-01,\n",
       "          3.03030442e-02, 3.03030442e-02, 3.03030442e-02, 3.03030442e-02,\n",
       "          1.74556613e-01, 0.00000000e+00, 0.00000000e+00, 4.93426770e-01,\n",
       "          1.23172723e-01, 0.00000000e+00, 7.14285553e-01, 7.06572771e-01,\n",
       "          2.27434419e-10, 0.00000000e+00, 0.00000000e+00, 4.03335273e-01,\n",
       "          1.09781839e-01, 0.00000000e+00, 0.00000000e+00, 4.90076542e-01,\n",
       "          6.40181452e-02, 0.00000000e+00, 0.00000000e+00, 4.16735560e-01],\n",
       "         [2.50000000e-01, 8.53553414e-01, 9.33012724e-01, 5.30075192e-01,\n",
       "          5.82706749e-01, 6.24060154e-01, 5.18796980e-01, 7.55555570e-01,\n",
       "          6.99999988e-01, 6.99999988e-01, 8.55555534e-01, 0.00000000e+00,\n",
       "          4.12979364e-01, 6.71583116e-01, 0.00000000e+00, 0.00000000e+00,\n",
       "          6.21196210e-01, 3.05351526e-01, 0.00000000e+00, 3.97892028e-01,\n",
       "          3.03030442e-02, 3.03030442e-02, 3.03030442e-02, 3.03030442e-02,\n",
       "          1.78274989e-01, 0.00000000e+00, 0.00000000e+00, 4.94711965e-01,\n",
       "          1.96965858e-01, 0.00000000e+00, 9.78920460e-01, 5.81274867e-01,\n",
       "          2.27434419e-10, 0.00000000e+00, 0.00000000e+00, 4.03335273e-01,\n",
       "          1.25521660e-01, 0.00000000e+00, 0.00000000e+00, 4.96219397e-01,\n",
       "          3.87220532e-02, 0.00000000e+00, 0.00000000e+00, 4.07011181e-01],\n",
       "         [2.50000000e-01, 8.53553414e-01, 8.53553414e-01, 5.15037537e-01,\n",
       "          6.24060154e-01, 6.46616518e-01, 5.18796980e-01, 7.55555570e-01,\n",
       "          6.77777767e-01, 6.77777767e-01, 8.88888896e-01, 0.00000000e+00,\n",
       "          5.44739425e-01, 5.13274312e-01, 0.00000000e+00, 0.00000000e+00,\n",
       "          5.15215099e-01, 1.60545647e-01, 0.00000000e+00, 3.81063938e-01,\n",
       "          3.03030442e-02, 3.03030442e-02, 3.03030442e-02, 3.03030442e-02,\n",
       "          2.22662106e-01, 0.00000000e+00, 0.00000000e+00, 5.10053992e-01,\n",
       "          3.23971547e-02, 0.00000000e+00, 9.98120010e-01, 4.41620231e-01,\n",
       "          2.27434419e-10, 0.00000000e+00, 0.00000000e+00, 4.03335273e-01,\n",
       "          5.11732548e-02, 0.00000000e+00, 0.00000000e+00, 4.67203170e-01,\n",
       "          3.75097878e-02, 0.00000000e+00, 0.00000000e+00, 4.06545132e-01],\n",
       "         [2.50000000e-01, 8.53553414e-01, 7.50000000e-01, 4.99999970e-01,\n",
       "          6.05263174e-01, 6.24060154e-01, 4.99999970e-01, 7.55555570e-01,\n",
       "          6.99999988e-01, 6.77777767e-01, 8.88888896e-01, 0.00000000e+00,\n",
       "          7.64995098e-01, 4.36578184e-01, 0.00000000e+00, 0.00000000e+00,\n",
       "          7.70199358e-01, 1.82581320e-01, 0.00000000e+00, 3.85202736e-01,\n",
       "          3.03030442e-02, 3.03030442e-02, 1.00000000e+00, 3.03030442e-02,\n",
       "          3.76678169e-01, 0.00000000e+00, 0.00000000e+00, 5.63288152e-01,\n",
       "          3.25007476e-02, 0.00000000e+00, 9.99827862e-01, 4.35708612e-01,\n",
       "          2.27434419e-10, 0.00000000e+00, 0.00000000e+00, 4.03335273e-01,\n",
       "          1.31063506e-01, 0.00000000e+00, 0.00000000e+00, 4.98382211e-01,\n",
       "          3.72708254e-02, 0.00000000e+00, 0.00000000e+00, 4.06453282e-01],\n",
       "         [2.50000000e-01, 8.53553414e-01, 6.29409552e-01, 4.77443576e-01,\n",
       "          6.24060154e-01, 5.82706749e-01, 4.77443576e-01, 7.88888872e-01,\n",
       "          6.77777767e-01, 7.33333349e-01, 9.22222197e-01, 0.00000000e+00,\n",
       "          8.87905598e-01, 3.85447383e-01, 0.00000000e+00, 0.00000000e+00,\n",
       "          8.50996852e-01, 4.15529907e-01, 0.00000000e+00, 4.14852470e-01,\n",
       "          3.03030442e-02, 3.03030442e-02, 1.00000000e+00, 3.03030442e-02,\n",
       "          1.38850570e-01, 0.00000000e+00, 0.00000000e+00, 4.81085300e-01,\n",
       "          4.07214724e-02, 0.00000000e+00, 9.99979734e-01, 4.38060433e-01,\n",
       "          2.27434419e-10, 0.00000000e+00, 2.94906259e-01, 5.02947509e-01,\n",
       "          5.07527441e-02, 0.00000000e+00, 0.00000000e+00, 4.67039078e-01,\n",
       "          3.85018177e-02, 0.00000000e+00, 0.00000000e+00, 4.06926513e-01],\n",
       "         [2.50000000e-01, 8.53553414e-01, 5.00000000e-01, 4.77443576e-01,\n",
       "          6.46616518e-01, 5.63909769e-01, 4.99999970e-01, 7.88888872e-01,\n",
       "          6.44444466e-01, 7.55555570e-01, 8.88888896e-01, 2.45821048e-02,\n",
       "          9.47885931e-01, 2.27138638e-01, 1.47492625e-02, 1.04931794e-01,\n",
       "          8.55194151e-01, 3.35781753e-01, 1.46904513e-02, 4.33068663e-01,\n",
       "          3.03030442e-02, 3.03030442e-02, 1.00000000e+00, 3.03030442e-02,\n",
       "          1.26107529e-01, 3.68494540e-02, 0.00000000e+00, 4.70076561e-01,\n",
       "          3.69759873e-02, 0.00000000e+00, 9.99993265e-01, 4.36700821e-01,\n",
       "          1.18782371e-03, 1.17123248e-02, 9.35552120e-01, 6.14100575e-01,\n",
       "          1.34319529e-01, 7.16168899e-03, 0.00000000e+00, 4.98335451e-01,\n",
       "          8.18423703e-02, 1.03971884e-02, 0.00000000e+00, 4.21674103e-01],\n",
       "         [2.50000000e-01, 8.53553414e-01, 3.70590478e-01, 5.18796980e-01,\n",
       "          6.46616518e-01, 5.63909769e-01, 5.41353345e-01, 7.66666651e-01,\n",
       "          6.77777767e-01, 6.99999988e-01, 8.55555534e-01, 1.97640121e-01,\n",
       "          9.49852526e-01, 2.65486725e-02, 1.14060961e-01, 4.65897173e-01,\n",
       "          7.83840477e-01, 1.50052473e-01, 4.40713540e-02, 4.44452047e-01,\n",
       "          3.03030442e-02, 3.03030442e-02, 1.00000000e+00, 3.03030442e-02,\n",
       "          1.36347130e-01, 2.07469299e-01, 0.00000000e+00, 4.43037003e-01,\n",
       "          7.56025687e-02, 0.00000000e+00, 9.99994457e-01, 4.50233102e-01,\n",
       "          4.19293121e-02, 1.13369115e-01, 9.95230973e-01, 4.18608367e-01,\n",
       "          1.27654761e-01, 3.81408520e-02, 0.00000000e+00, 4.90035295e-01,\n",
       "          6.81574121e-02, 3.68535668e-02, 0.00000000e+00, 4.11544263e-01],\n",
       "         [2.50000000e-01, 8.53553414e-01, 2.50000000e-01, 5.82706749e-01,\n",
       "          6.24060154e-01, 5.41353345e-01, 5.41353345e-01, 6.99999988e-01,\n",
       "          6.99999988e-01, 7.33333349e-01, 8.55555534e-01, 4.12979364e-01,\n",
       "          6.71583116e-01, 0.00000000e+00, 2.47787610e-01, 6.21196210e-01,\n",
       "          3.05351526e-01, 0.00000000e+00, 7.76495263e-02, 5.70518792e-01,\n",
       "          3.03030442e-02, 3.03030442e-02, 1.00000000e+00, 3.03030442e-02,\n",
       "          3.04993659e-01, 4.04700249e-01, 0.00000000e+00, 4.65979993e-01,\n",
       "          4.31455597e-02, 0.00000000e+00, 9.99994576e-01, 4.38858360e-01,\n",
       "          7.41404891e-02, 2.90464699e-01, 9.99570906e-01, 3.80789846e-01,\n",
       "          2.79003888e-01, 1.19630598e-01, 0.00000000e+00, 5.34111559e-01,\n",
       "          2.96123084e-02, 1.20883688e-01, 0.00000000e+00, 3.81261796e-01],\n",
       "         [2.50000000e-01, 8.53553414e-01, 1.46446615e-01, 6.24060154e-01,\n",
       "          6.46616518e-01, 5.63909769e-01, 5.41353345e-01, 6.77777767e-01,\n",
       "          6.77777767e-01, 6.66666687e-01, 8.22222233e-01, 5.44739425e-01,\n",
       "          5.13274312e-01, 0.00000000e+00, 2.87118971e-01, 5.15215099e-01,\n",
       "          1.60545647e-01, 0.00000000e+00, 3.67261283e-02, 6.26809955e-01,\n",
       "          3.03030442e-02, 3.03030442e-02, 3.03030442e-02, 3.03030442e-02,\n",
       "          4.91169214e-01, 5.73156953e-01, 0.00000000e+00, 5.00138700e-01,\n",
       "          5.58576398e-02, 0.00000000e+00, 9.99994576e-01, 4.43313181e-01,\n",
       "          1.79554254e-01, 4.76516783e-01, 9.99956965e-01, 3.84523779e-01,\n",
       "          4.33597267e-01, 2.84947485e-01, 0.00000000e+00, 5.64032674e-01,\n",
       "          2.98325438e-02, 2.79562563e-01, 0.00000000e+00, 3.52143258e-01]],\n",
       "        dtype=float32),\n",
       "  'actions': array([[-0.7647365 ,  0.7736447 , -0.6386983 , -0.32633165, -0.78125   ],\n",
       "         [-0.62026644,  0.7565314 , -0.6758986 , -0.78125   , -0.78125   ],\n",
       "         [-0.6564383 ,  0.7070467 , -0.57912064, -0.78125   , -0.78125   ],\n",
       "         [-0.50105643,  0.38930103, -0.35197458, -0.78125   , -0.78125   ],\n",
       "         [-0.28482065,  0.45272774,  0.32002413, -0.7147653 , -0.78125   ],\n",
       "         [-0.63943964,  0.5399862 ,  0.68228406, -0.78125   , -0.78125   ],\n",
       "         [-0.66333246,  0.73157036,  0.78125   , -0.6741776 , -0.78125   ],\n",
       "         [-0.6609422 ,  0.78125   ,  0.7239577 , -0.6900467 , -0.78125   ],\n",
       "         [-0.05914942,  0.78125   ,  0.6650965 , -0.6395941 , -0.10947978],\n",
       "         [ 0.5642728 ,  0.78125   ,  0.08994523, -0.61583656,  0.01910179]],\n",
       "        dtype=float32),\n",
       "  'rewards': array([[-1.18535   ],\n",
       "         [-1.2106    ],\n",
       "         [-1.5120167 ],\n",
       "         [-2.5578833 ],\n",
       "         [-0.9428833 ],\n",
       "         [-0.7266    ],\n",
       "         [-0.19536668],\n",
       "         [-0.64611673],\n",
       "         [-1.3172166 ],\n",
       "         [-4.9007125 ]], dtype=float32),\n",
       "  'terminals': array([0., 0., 0., 0., 0., 0., 0., 0., 0., 1.])}]"
      ]
     },
     "execution_count": 77,
     "metadata": {},
     "output_type": "execute_result"
    }
   ],
   "source": [
    "trajs"
   ]
  },
  {
   "cell_type": "code",
   "execution_count": 115,
   "id": "49621923-029f-4ab2-bce6-c664e4534e98",
   "metadata": {},
   "outputs": [],
   "source": [
    "self.replay_buffer.add_new_trajs(trajs)"
   ]
  },
  {
   "cell_type": "code",
   "execution_count": 116,
   "id": "ab35e366-0a31-4bbd-9176-03c78ee34825",
   "metadata": {},
   "outputs": [],
   "source": [
    "self.aug_trajs += trajs"
   ]
  },
  {
   "cell_type": "code",
   "execution_count": 117,
   "id": "38cb0c7c-2753-4941-b677-64e23d9da5a1",
   "metadata": {},
   "outputs": [
    {
     "data": {
      "text/plain": [
       "<replay_buffer.ReplayBuffer at 0x161d366a0>"
      ]
     },
     "execution_count": 117,
     "metadata": {},
     "output_type": "execute_result"
    }
   ],
   "source": [
    "self.replay_buffer"
   ]
  },
  {
   "cell_type": "code",
   "execution_count": 118,
   "id": "ecbb7471-2d04-42a4-ae5e-1039d06d35a0",
   "metadata": {},
   "outputs": [
    {
     "data": {
      "text/plain": [
       "6"
      ]
     },
     "execution_count": 118,
     "metadata": {},
     "output_type": "execute_result"
    }
   ],
   "source": [
    "len(self.replay_buffer.trajectories)"
   ]
  },
  {
   "cell_type": "code",
   "execution_count": 119,
   "id": "e28ee8b5-fc10-4874-94c0-9f363de220ec",
   "metadata": {},
   "outputs": [
    {
     "data": {
      "text/plain": [
       "300"
      ]
     },
     "execution_count": 119,
     "metadata": {},
     "output_type": "execute_result"
    }
   ],
   "source": [
    "self.variant[\"num_updates_per_online_iter\"]"
   ]
  },
  {
   "cell_type": "code",
   "execution_count": 120,
   "id": "ce61fe03-a196-4ff0-8193-415685a258bb",
   "metadata": {},
   "outputs": [
    {
     "data": {
      "text/plain": [
       "[{'observations': array([[0.0669873 , 0.85355341, 1.        , ..., 0.        , 0.        ,\n",
       "          0.48985395],\n",
       "         [0.25      , 0.85355341, 0.98296291, ..., 0.        , 0.        ,\n",
       "          0.47563303],\n",
       "         [0.25      , 0.85355341, 0.93301272, ..., 0.        , 0.        ,\n",
       "          0.47491887],\n",
       "         ...,\n",
       "         [0.0669873 , 0.85355341, 0.75      , ..., 0.        , 0.97657079,\n",
       "          0.60107756],\n",
       "         [0.0669873 , 0.85355341, 0.85355341, ..., 0.        , 0.99151504,\n",
       "          0.57269001],\n",
       "         [0.0669873 , 0.85355341, 0.93301272, ..., 0.        , 0.99284434,\n",
       "          0.5763483 ]]),\n",
       "  'actions': array([[-0.16516054, -0.30771428, -0.04694301,  0.18486977, -0.58982462],\n",
       "         [-0.397286  ,  0.11535633, -0.29753679,  0.11361456, -0.3242428 ],\n",
       "         [-0.3931337 ,  0.32019639, -0.49844468,  0.60656881, -0.06641924],\n",
       "         ...,\n",
       "         [-0.49676207,  0.08235592, -0.25964403, -0.15479851,  0.60946286],\n",
       "         [-0.20605201, -0.35296762,  0.2366128 ,  0.08119541,  0.32296526],\n",
       "         [-0.24706602, -0.53077787,  0.40149236, -0.01818568, -0.10778248]]),\n",
       "  'rewards': array([-0.85116667, -0.83459997, -0.83816665, ..., -3.15170002,\n",
       "         -3.02150011, -2.21490002]),\n",
       "  'dones': array([False, False, False, ..., False, False,  True])},\n",
       " {'observations': array([[0.0669873 , 0.85355341, 1.        , ..., 0.        , 0.        ,\n",
       "          0.48985395],\n",
       "         [0.25      , 0.85355341, 0.98296291, ..., 0.        , 0.        ,\n",
       "          0.47563303],\n",
       "         [0.25      , 0.85355341, 0.93301272, ..., 0.        , 0.        ,\n",
       "          0.47491887],\n",
       "         ...,\n",
       "         [0.0669873 , 0.85355341, 0.75      , ..., 0.        , 0.95343763,\n",
       "          0.69753075],\n",
       "         [0.0669873 , 0.85355341, 0.85355341, ..., 0.        , 0.98992366,\n",
       "          0.58110124],\n",
       "         [0.0669873 , 0.85355341, 0.93301272, ..., 0.        , 0.78385377,\n",
       "          0.50896579]]),\n",
       "  'actions': array([[-0.38053253, -0.41482738,  0.69540334,  0.13027555, -0.71264744],\n",
       "         [-0.47358665, -0.09898657, -0.13412404,  0.57852077, -0.77465987],\n",
       "         [-0.38691851,  0.15624154,  0.0952636 ,  0.35759103, -0.69903642],\n",
       "         ...,\n",
       "         [-0.48520452, -0.53349102, -0.71884847,  0.64227116,  0.23955429],\n",
       "         [-0.16913617, -0.72969103,  0.63207269,  0.47892523, -0.69309688],\n",
       "         [-0.15823054, -0.73343247,  0.72656035,  0.38315237, -0.72054207]]),\n",
       "  'rewards': array([-0.85116667, -0.83459997, -0.83816665, ..., -3.15170002,\n",
       "         -3.02150011, -2.21490002]),\n",
       "  'dones': array([False, False, False, ..., False, False,  True])},\n",
       " {'observations': array([[0.0669873 , 0.85355341, 1.        , ..., 0.        , 0.        ,\n",
       "          0.48985395],\n",
       "         [0.25      , 0.85355341, 0.98296291, ..., 0.        , 0.        ,\n",
       "          0.47563303],\n",
       "         [0.25      , 0.85355341, 0.93301272, ..., 0.        , 0.        ,\n",
       "          0.47491887],\n",
       "         ...,\n",
       "         [0.93301272, 0.85355341, 1.        , ..., 0.        , 0.99668628,\n",
       "          0.54177344],\n",
       "         [0.93301272, 0.5       , 0.98296291, ..., 0.        , 0.99669093,\n",
       "          0.51775312],\n",
       "         [0.93301272, 0.5       , 0.93301272, ..., 0.        , 0.99669135,\n",
       "          0.52484852]]),\n",
       "  'actions': array([[-0.38231808, -0.37488091,  0.52088857,  0.06018609, -0.48877025],\n",
       "         [-0.50921428,  0.03548449, -0.27741194,  0.64844728, -0.58600426],\n",
       "         [-0.51653856,  0.2011869 ,  0.10943961,  0.08345556, -0.42614132],\n",
       "         ...,\n",
       "         [-0.51629007, -0.70090747, -0.4528476 , -0.49383664,  0.13336289],\n",
       "         [-0.58610255, -0.54210794,  0.55673778,  0.61408985,  0.15550536],\n",
       "         [-0.42544147, -0.76592237,  0.0639599 ,  0.08432984, -0.74391943]]),\n",
       "  'rewards': array([-0.85116667, -0.83459997, -0.83816665, ..., -0.51744998,\n",
       "         -0.579     , -0.56650001]),\n",
       "  'dones': array([False, False, False, ..., False, False, False])},\n",
       " {'observations': array([[6.69872984e-02, 8.53553414e-01, 1.00000000e+00, 5.41353345e-01,\n",
       "          4.77443576e-01, 6.46616518e-01, 5.41353345e-01, 8.22222233e-01,\n",
       "          7.88888872e-01, 6.44444466e-01, 7.88888872e-01, 0.00000000e+00,\n",
       "          2.45821048e-02, 9.47885931e-01, 0.00000000e+00, 0.00000000e+00,\n",
       "          1.04931794e-01, 8.55194151e-01, 0.00000000e+00, 4.74622518e-01,\n",
       "          3.03030442e-02, 3.03030442e-02, 3.03030442e-02, 3.03030442e-02,\n",
       "          2.20085010e-01, 0.00000000e+00, 0.00000000e+00, 5.09163201e-01,\n",
       "          1.06455028e-01, 0.00000000e+00, 0.00000000e+00, 4.61044788e-01,\n",
       "          0.00000000e+00, 0.00000000e+00, 0.00000000e+00, 4.03335273e-01,\n",
       "          8.35057050e-02, 0.00000000e+00, 0.00000000e+00, 4.79821682e-01,\n",
       "          6.34394661e-02, 0.00000000e+00, 0.00000000e+00, 4.16513085e-01],\n",
       "         [2.50000000e-01, 8.53553414e-01, 9.82962906e-01, 5.45112789e-01,\n",
       "          5.18796980e-01, 6.46616518e-01, 5.18796980e-01, 7.66666651e-01,\n",
       "          7.66666651e-01, 6.77777767e-01, 8.55555534e-01, 0.00000000e+00,\n",
       "          1.97640121e-01, 9.49852526e-01, 0.00000000e+00, 0.00000000e+00,\n",
       "          4.65897173e-01, 7.83840477e-01, 0.00000000e+00, 4.11214262e-01,\n",
       "          3.03030442e-02, 3.03030442e-02, 3.03030442e-02, 3.03030442e-02,\n",
       "          1.74556613e-01, 0.00000000e+00, 0.00000000e+00, 4.93426770e-01,\n",
       "          1.23172723e-01, 0.00000000e+00, 7.14285553e-01, 7.06572771e-01,\n",
       "          2.27434419e-10, 0.00000000e+00, 0.00000000e+00, 4.03335273e-01,\n",
       "          1.09781839e-01, 0.00000000e+00, 0.00000000e+00, 4.90076542e-01,\n",
       "          6.40181452e-02, 0.00000000e+00, 0.00000000e+00, 4.16735560e-01],\n",
       "         [2.50000000e-01, 8.53553414e-01, 9.33012724e-01, 5.30075192e-01,\n",
       "          5.82706749e-01, 6.24060154e-01, 5.18796980e-01, 7.55555570e-01,\n",
       "          6.99999988e-01, 6.99999988e-01, 8.55555534e-01, 0.00000000e+00,\n",
       "          4.12979364e-01, 6.71583116e-01, 0.00000000e+00, 0.00000000e+00,\n",
       "          6.21196210e-01, 3.05351526e-01, 0.00000000e+00, 3.97892028e-01,\n",
       "          3.03030442e-02, 3.03030442e-02, 3.03030442e-02, 3.03030442e-02,\n",
       "          1.78274989e-01, 0.00000000e+00, 0.00000000e+00, 4.94711965e-01,\n",
       "          1.96965858e-01, 0.00000000e+00, 9.78920460e-01, 5.81274867e-01,\n",
       "          2.27434419e-10, 0.00000000e+00, 0.00000000e+00, 4.03335273e-01,\n",
       "          1.25521660e-01, 0.00000000e+00, 0.00000000e+00, 4.96219397e-01,\n",
       "          3.87220532e-02, 0.00000000e+00, 0.00000000e+00, 4.07011181e-01],\n",
       "         [2.50000000e-01, 8.53553414e-01, 8.53553414e-01, 5.15037537e-01,\n",
       "          6.24060154e-01, 6.46616518e-01, 5.18796980e-01, 7.55555570e-01,\n",
       "          6.77777767e-01, 6.77777767e-01, 8.88888896e-01, 0.00000000e+00,\n",
       "          5.44739425e-01, 5.13274312e-01, 0.00000000e+00, 0.00000000e+00,\n",
       "          5.15215099e-01, 1.60545647e-01, 0.00000000e+00, 3.81063938e-01,\n",
       "          3.03030442e-02, 3.03030442e-02, 3.03030442e-02, 3.03030442e-02,\n",
       "          2.22662106e-01, 0.00000000e+00, 0.00000000e+00, 5.10053992e-01,\n",
       "          3.23971547e-02, 0.00000000e+00, 9.98120010e-01, 4.41620231e-01,\n",
       "          2.27434419e-10, 0.00000000e+00, 0.00000000e+00, 4.03335273e-01,\n",
       "          5.11732548e-02, 0.00000000e+00, 0.00000000e+00, 4.67203170e-01,\n",
       "          3.75097878e-02, 0.00000000e+00, 0.00000000e+00, 4.06545132e-01],\n",
       "         [2.50000000e-01, 8.53553414e-01, 7.50000000e-01, 4.99999970e-01,\n",
       "          6.05263174e-01, 6.24060154e-01, 4.99999970e-01, 7.55555570e-01,\n",
       "          6.99999988e-01, 6.77777767e-01, 8.88888896e-01, 0.00000000e+00,\n",
       "          7.64995098e-01, 4.36578184e-01, 0.00000000e+00, 0.00000000e+00,\n",
       "          7.70199358e-01, 1.82581320e-01, 0.00000000e+00, 3.85202736e-01,\n",
       "          3.03030442e-02, 3.03030442e-02, 1.00000000e+00, 3.03030442e-02,\n",
       "          3.76678169e-01, 0.00000000e+00, 0.00000000e+00, 5.63288152e-01,\n",
       "          3.25007476e-02, 0.00000000e+00, 9.99827862e-01, 4.35708612e-01,\n",
       "          2.27434419e-10, 0.00000000e+00, 0.00000000e+00, 4.03335273e-01,\n",
       "          1.31063506e-01, 0.00000000e+00, 0.00000000e+00, 4.98382211e-01,\n",
       "          3.72708254e-02, 0.00000000e+00, 0.00000000e+00, 4.06453282e-01],\n",
       "         [2.50000000e-01, 8.53553414e-01, 6.29409552e-01, 4.77443576e-01,\n",
       "          6.24060154e-01, 5.82706749e-01, 4.77443576e-01, 7.88888872e-01,\n",
       "          6.77777767e-01, 7.33333349e-01, 9.22222197e-01, 0.00000000e+00,\n",
       "          8.87905598e-01, 3.85447383e-01, 0.00000000e+00, 0.00000000e+00,\n",
       "          8.50996852e-01, 4.15529907e-01, 0.00000000e+00, 4.14852470e-01,\n",
       "          3.03030442e-02, 3.03030442e-02, 1.00000000e+00, 3.03030442e-02,\n",
       "          1.38850570e-01, 0.00000000e+00, 0.00000000e+00, 4.81085300e-01,\n",
       "          4.07214724e-02, 0.00000000e+00, 9.99979734e-01, 4.38060433e-01,\n",
       "          2.27434419e-10, 0.00000000e+00, 2.94906259e-01, 5.02947509e-01,\n",
       "          5.07527441e-02, 0.00000000e+00, 0.00000000e+00, 4.67039078e-01,\n",
       "          3.85018177e-02, 0.00000000e+00, 0.00000000e+00, 4.06926513e-01],\n",
       "         [2.50000000e-01, 8.53553414e-01, 5.00000000e-01, 4.77443576e-01,\n",
       "          6.46616518e-01, 5.63909769e-01, 4.99999970e-01, 7.88888872e-01,\n",
       "          6.44444466e-01, 7.55555570e-01, 8.88888896e-01, 2.45821048e-02,\n",
       "          9.47885931e-01, 2.27138638e-01, 1.47492625e-02, 1.04931794e-01,\n",
       "          8.55194151e-01, 3.35781753e-01, 1.46904513e-02, 4.33068663e-01,\n",
       "          3.03030442e-02, 3.03030442e-02, 1.00000000e+00, 3.03030442e-02,\n",
       "          1.26107529e-01, 3.68494540e-02, 0.00000000e+00, 4.70076561e-01,\n",
       "          3.69759873e-02, 0.00000000e+00, 9.99993265e-01, 4.36700821e-01,\n",
       "          1.18782371e-03, 1.17123248e-02, 9.35552120e-01, 6.14100575e-01,\n",
       "          1.34319529e-01, 7.16168899e-03, 0.00000000e+00, 4.98335451e-01,\n",
       "          8.18423703e-02, 1.03971884e-02, 0.00000000e+00, 4.21674103e-01],\n",
       "         [2.50000000e-01, 8.53553414e-01, 3.70590478e-01, 5.18796980e-01,\n",
       "          6.46616518e-01, 5.63909769e-01, 5.41353345e-01, 7.66666651e-01,\n",
       "          6.77777767e-01, 6.99999988e-01, 8.55555534e-01, 1.97640121e-01,\n",
       "          9.49852526e-01, 2.65486725e-02, 1.14060961e-01, 4.65897173e-01,\n",
       "          7.83840477e-01, 1.50052473e-01, 4.40713540e-02, 4.44452047e-01,\n",
       "          3.03030442e-02, 3.03030442e-02, 1.00000000e+00, 3.03030442e-02,\n",
       "          1.36347130e-01, 2.07469299e-01, 0.00000000e+00, 4.43037003e-01,\n",
       "          7.56025687e-02, 0.00000000e+00, 9.99994457e-01, 4.50233102e-01,\n",
       "          4.19293121e-02, 1.13369115e-01, 9.95230973e-01, 4.18608367e-01,\n",
       "          1.27654761e-01, 3.81408520e-02, 0.00000000e+00, 4.90035295e-01,\n",
       "          6.81574121e-02, 3.68535668e-02, 0.00000000e+00, 4.11544263e-01],\n",
       "         [2.50000000e-01, 8.53553414e-01, 2.50000000e-01, 5.82706749e-01,\n",
       "          6.24060154e-01, 5.41353345e-01, 5.41353345e-01, 6.99999988e-01,\n",
       "          6.99999988e-01, 7.33333349e-01, 8.55555534e-01, 4.12979364e-01,\n",
       "          6.71583116e-01, 0.00000000e+00, 2.47787610e-01, 6.21196210e-01,\n",
       "          3.05351526e-01, 0.00000000e+00, 7.76495263e-02, 5.70518792e-01,\n",
       "          3.03030442e-02, 3.03030442e-02, 1.00000000e+00, 3.03030442e-02,\n",
       "          3.04993659e-01, 4.04700249e-01, 0.00000000e+00, 4.65979993e-01,\n",
       "          4.31455597e-02, 0.00000000e+00, 9.99994576e-01, 4.38858360e-01,\n",
       "          7.41404891e-02, 2.90464699e-01, 9.99570906e-01, 3.80789846e-01,\n",
       "          2.79003888e-01, 1.19630598e-01, 0.00000000e+00, 5.34111559e-01,\n",
       "          2.96123084e-02, 1.20883688e-01, 0.00000000e+00, 3.81261796e-01],\n",
       "         [2.50000000e-01, 8.53553414e-01, 1.46446615e-01, 6.24060154e-01,\n",
       "          6.46616518e-01, 5.63909769e-01, 5.41353345e-01, 6.77777767e-01,\n",
       "          6.77777767e-01, 6.66666687e-01, 8.22222233e-01, 5.44739425e-01,\n",
       "          5.13274312e-01, 0.00000000e+00, 2.87118971e-01, 5.15215099e-01,\n",
       "          1.60545647e-01, 0.00000000e+00, 3.67261283e-02, 6.26809955e-01,\n",
       "          3.03030442e-02, 3.03030442e-02, 3.03030442e-02, 3.03030442e-02,\n",
       "          4.91169214e-01, 5.73156953e-01, 0.00000000e+00, 5.00138700e-01,\n",
       "          5.58576398e-02, 0.00000000e+00, 9.99994576e-01, 4.43313181e-01,\n",
       "          1.79554254e-01, 4.76516783e-01, 9.99956965e-01, 3.84523779e-01,\n",
       "          4.33597267e-01, 2.84947485e-01, 0.00000000e+00, 5.64032674e-01,\n",
       "          2.98325438e-02, 2.79562563e-01, 0.00000000e+00, 3.52143258e-01]],\n",
       "        dtype=float32),\n",
       "  'actions': array([[-0.7647365 ,  0.7736447 , -0.6386983 , -0.32633165, -0.78125   ],\n",
       "         [-0.62026644,  0.7565314 , -0.6758986 , -0.78125   , -0.78125   ],\n",
       "         [-0.6564383 ,  0.7070467 , -0.57912064, -0.78125   , -0.78125   ],\n",
       "         [-0.50105643,  0.38930103, -0.35197458, -0.78125   , -0.78125   ],\n",
       "         [-0.28482065,  0.45272774,  0.32002413, -0.7147653 , -0.78125   ],\n",
       "         [-0.63943964,  0.5399862 ,  0.68228406, -0.78125   , -0.78125   ],\n",
       "         [-0.66333246,  0.73157036,  0.78125   , -0.6741776 , -0.78125   ],\n",
       "         [-0.6609422 ,  0.78125   ,  0.7239577 , -0.6900467 , -0.78125   ],\n",
       "         [-0.05914942,  0.78125   ,  0.6650965 , -0.6395941 , -0.10947978],\n",
       "         [ 0.5642728 ,  0.78125   ,  0.08994523, -0.61583656,  0.01910179]],\n",
       "        dtype=float32),\n",
       "  'rewards': array([[-1.18535   ],\n",
       "         [-1.2106    ],\n",
       "         [-1.5120167 ],\n",
       "         [-2.5578833 ],\n",
       "         [-0.9428833 ],\n",
       "         [-0.7266    ],\n",
       "         [-0.19536668],\n",
       "         [-0.64611673],\n",
       "         [-1.3172166 ],\n",
       "         [-4.9007125 ]], dtype=float32),\n",
       "  'terminals': array([0., 0., 0., 0., 0., 0., 0., 0., 0., 1.])},\n",
       " {'observations': array([[6.69872984e-02, 8.53553414e-01, 1.00000000e+00, 5.41353345e-01,\n",
       "          4.77443576e-01, 6.46616518e-01, 5.41353345e-01, 8.22222233e-01,\n",
       "          7.88888872e-01, 6.44444466e-01, 7.88888872e-01, 0.00000000e+00,\n",
       "          2.45821048e-02, 9.47885931e-01, 0.00000000e+00, 0.00000000e+00,\n",
       "          1.04931794e-01, 8.55194151e-01, 0.00000000e+00, 4.74622518e-01,\n",
       "          3.03030442e-02, 3.03030442e-02, 3.03030442e-02, 3.03030442e-02,\n",
       "          2.20085010e-01, 0.00000000e+00, 0.00000000e+00, 5.09163201e-01,\n",
       "          1.06455028e-01, 0.00000000e+00, 0.00000000e+00, 4.61044788e-01,\n",
       "          0.00000000e+00, 0.00000000e+00, 0.00000000e+00, 4.03335273e-01,\n",
       "          8.35057050e-02, 0.00000000e+00, 0.00000000e+00, 4.79821682e-01,\n",
       "          6.34394661e-02, 0.00000000e+00, 0.00000000e+00, 4.16513085e-01],\n",
       "         [2.50000000e-01, 8.53553414e-01, 9.82962906e-01, 5.45112789e-01,\n",
       "          5.18796980e-01, 6.46616518e-01, 5.18796980e-01, 7.66666651e-01,\n",
       "          7.66666651e-01, 6.77777767e-01, 8.55555534e-01, 0.00000000e+00,\n",
       "          1.97640121e-01, 9.49852526e-01, 0.00000000e+00, 0.00000000e+00,\n",
       "          4.65897173e-01, 7.83840477e-01, 0.00000000e+00, 4.11214262e-01,\n",
       "          3.03030442e-02, 3.03030442e-02, 3.03030442e-02, 3.03030442e-02,\n",
       "          1.74556613e-01, 0.00000000e+00, 0.00000000e+00, 4.93426770e-01,\n",
       "          1.23172723e-01, 0.00000000e+00, 7.14285553e-01, 7.06572771e-01,\n",
       "          2.27434419e-10, 0.00000000e+00, 0.00000000e+00, 4.03335273e-01,\n",
       "          1.09781839e-01, 0.00000000e+00, 0.00000000e+00, 4.90076542e-01,\n",
       "          6.40181452e-02, 0.00000000e+00, 0.00000000e+00, 4.16735560e-01],\n",
       "         [2.50000000e-01, 8.53553414e-01, 9.33012724e-01, 5.30075192e-01,\n",
       "          5.82706749e-01, 6.24060154e-01, 5.18796980e-01, 7.55555570e-01,\n",
       "          6.99999988e-01, 6.99999988e-01, 8.55555534e-01, 0.00000000e+00,\n",
       "          4.12979364e-01, 6.71583116e-01, 0.00000000e+00, 0.00000000e+00,\n",
       "          6.21196210e-01, 3.05351526e-01, 0.00000000e+00, 3.97892028e-01,\n",
       "          3.03030442e-02, 3.03030442e-02, 3.03030442e-02, 3.03030442e-02,\n",
       "          1.78274989e-01, 0.00000000e+00, 0.00000000e+00, 4.94711965e-01,\n",
       "          1.96965858e-01, 0.00000000e+00, 9.78920460e-01, 5.81274867e-01,\n",
       "          2.27434419e-10, 0.00000000e+00, 0.00000000e+00, 4.03335273e-01,\n",
       "          1.25521660e-01, 0.00000000e+00, 0.00000000e+00, 4.96219397e-01,\n",
       "          3.87220532e-02, 0.00000000e+00, 0.00000000e+00, 4.07011181e-01],\n",
       "         [2.50000000e-01, 8.53553414e-01, 8.53553414e-01, 5.15037537e-01,\n",
       "          6.24060154e-01, 6.46616518e-01, 5.18796980e-01, 7.55555570e-01,\n",
       "          6.77777767e-01, 6.77777767e-01, 8.88888896e-01, 0.00000000e+00,\n",
       "          5.44739425e-01, 5.13274312e-01, 0.00000000e+00, 0.00000000e+00,\n",
       "          5.15215099e-01, 1.60545647e-01, 0.00000000e+00, 3.81063938e-01,\n",
       "          3.03030442e-02, 3.03030442e-02, 3.03030442e-02, 3.03030442e-02,\n",
       "          2.22662106e-01, 0.00000000e+00, 0.00000000e+00, 5.10053992e-01,\n",
       "          3.23971547e-02, 0.00000000e+00, 9.98120010e-01, 4.41620231e-01,\n",
       "          2.27434419e-10, 0.00000000e+00, 0.00000000e+00, 4.03335273e-01,\n",
       "          5.11732548e-02, 0.00000000e+00, 0.00000000e+00, 4.67203170e-01,\n",
       "          3.75097878e-02, 0.00000000e+00, 0.00000000e+00, 4.06545132e-01],\n",
       "         [2.50000000e-01, 8.53553414e-01, 7.50000000e-01, 4.99999970e-01,\n",
       "          6.05263174e-01, 6.24060154e-01, 4.99999970e-01, 7.55555570e-01,\n",
       "          6.99999988e-01, 6.77777767e-01, 8.88888896e-01, 0.00000000e+00,\n",
       "          7.64995098e-01, 4.36578184e-01, 0.00000000e+00, 0.00000000e+00,\n",
       "          7.70199358e-01, 1.82581320e-01, 0.00000000e+00, 3.85202736e-01,\n",
       "          3.03030442e-02, 3.03030442e-02, 1.00000000e+00, 3.03030442e-02,\n",
       "          3.76678169e-01, 0.00000000e+00, 0.00000000e+00, 5.63288152e-01,\n",
       "          3.25007476e-02, 0.00000000e+00, 9.99827862e-01, 4.35708612e-01,\n",
       "          2.27434419e-10, 0.00000000e+00, 0.00000000e+00, 4.03335273e-01,\n",
       "          1.31063506e-01, 0.00000000e+00, 0.00000000e+00, 4.98382211e-01,\n",
       "          3.72708254e-02, 0.00000000e+00, 0.00000000e+00, 4.06453282e-01],\n",
       "         [2.50000000e-01, 8.53553414e-01, 6.29409552e-01, 4.77443576e-01,\n",
       "          6.24060154e-01, 5.82706749e-01, 4.77443576e-01, 7.88888872e-01,\n",
       "          6.77777767e-01, 7.33333349e-01, 9.22222197e-01, 0.00000000e+00,\n",
       "          8.87905598e-01, 3.85447383e-01, 0.00000000e+00, 0.00000000e+00,\n",
       "          8.50996852e-01, 4.15529907e-01, 0.00000000e+00, 4.14852470e-01,\n",
       "          3.03030442e-02, 3.03030442e-02, 1.00000000e+00, 3.03030442e-02,\n",
       "          1.38850570e-01, 0.00000000e+00, 0.00000000e+00, 4.81085300e-01,\n",
       "          4.07214724e-02, 0.00000000e+00, 9.99979734e-01, 4.38060433e-01,\n",
       "          2.27434419e-10, 0.00000000e+00, 2.94906259e-01, 5.02947509e-01,\n",
       "          5.07527441e-02, 0.00000000e+00, 0.00000000e+00, 4.67039078e-01,\n",
       "          3.85018177e-02, 0.00000000e+00, 0.00000000e+00, 4.06926513e-01],\n",
       "         [2.50000000e-01, 8.53553414e-01, 5.00000000e-01, 4.77443576e-01,\n",
       "          6.46616518e-01, 5.63909769e-01, 4.99999970e-01, 7.88888872e-01,\n",
       "          6.44444466e-01, 7.55555570e-01, 8.88888896e-01, 2.45821048e-02,\n",
       "          9.47885931e-01, 2.27138638e-01, 1.47492625e-02, 1.04931794e-01,\n",
       "          8.55194151e-01, 3.35781753e-01, 1.46904513e-02, 4.33068663e-01,\n",
       "          3.03030442e-02, 3.03030442e-02, 1.00000000e+00, 3.03030442e-02,\n",
       "          1.26107529e-01, 3.68494540e-02, 0.00000000e+00, 4.70076561e-01,\n",
       "          3.69759873e-02, 0.00000000e+00, 9.99993265e-01, 4.36700821e-01,\n",
       "          1.18782371e-03, 1.17123248e-02, 9.35552120e-01, 6.14100575e-01,\n",
       "          1.34319529e-01, 7.16168899e-03, 0.00000000e+00, 4.98335451e-01,\n",
       "          8.18423703e-02, 1.03971884e-02, 0.00000000e+00, 4.21674103e-01],\n",
       "         [2.50000000e-01, 8.53553414e-01, 3.70590478e-01, 5.18796980e-01,\n",
       "          6.46616518e-01, 5.63909769e-01, 5.41353345e-01, 7.66666651e-01,\n",
       "          6.77777767e-01, 6.99999988e-01, 8.55555534e-01, 1.97640121e-01,\n",
       "          9.49852526e-01, 2.65486725e-02, 1.14060961e-01, 4.65897173e-01,\n",
       "          7.83840477e-01, 1.50052473e-01, 4.40713540e-02, 4.44452047e-01,\n",
       "          3.03030442e-02, 3.03030442e-02, 1.00000000e+00, 3.03030442e-02,\n",
       "          1.36347130e-01, 2.07469299e-01, 0.00000000e+00, 4.43037003e-01,\n",
       "          7.56025687e-02, 0.00000000e+00, 9.99994457e-01, 4.50233102e-01,\n",
       "          4.19293121e-02, 1.13369115e-01, 9.95230973e-01, 4.18608367e-01,\n",
       "          1.27654761e-01, 3.81408520e-02, 0.00000000e+00, 4.90035295e-01,\n",
       "          6.81574121e-02, 3.68535668e-02, 0.00000000e+00, 4.11544263e-01],\n",
       "         [2.50000000e-01, 8.53553414e-01, 2.50000000e-01, 5.82706749e-01,\n",
       "          6.24060154e-01, 5.41353345e-01, 5.41353345e-01, 6.99999988e-01,\n",
       "          6.99999988e-01, 7.33333349e-01, 8.55555534e-01, 4.12979364e-01,\n",
       "          6.71583116e-01, 0.00000000e+00, 2.47787610e-01, 6.21196210e-01,\n",
       "          3.05351526e-01, 0.00000000e+00, 7.76495263e-02, 5.70518792e-01,\n",
       "          3.03030442e-02, 3.03030442e-02, 1.00000000e+00, 3.03030442e-02,\n",
       "          3.04993659e-01, 4.04700249e-01, 0.00000000e+00, 4.65979993e-01,\n",
       "          4.31455597e-02, 0.00000000e+00, 9.99994576e-01, 4.38858360e-01,\n",
       "          7.41404891e-02, 2.90464699e-01, 9.99570906e-01, 3.80789846e-01,\n",
       "          2.79003888e-01, 1.19630598e-01, 0.00000000e+00, 5.34111559e-01,\n",
       "          2.96123084e-02, 1.20883688e-01, 0.00000000e+00, 3.81261796e-01],\n",
       "         [2.50000000e-01, 8.53553414e-01, 1.46446615e-01, 6.24060154e-01,\n",
       "          6.46616518e-01, 5.63909769e-01, 5.41353345e-01, 6.77777767e-01,\n",
       "          6.77777767e-01, 6.66666687e-01, 8.22222233e-01, 5.44739425e-01,\n",
       "          5.13274312e-01, 0.00000000e+00, 2.87118971e-01, 5.15215099e-01,\n",
       "          1.60545647e-01, 0.00000000e+00, 3.67261283e-02, 6.26809955e-01,\n",
       "          3.03030442e-02, 3.03030442e-02, 3.03030442e-02, 3.03030442e-02,\n",
       "          4.91169214e-01, 5.73156953e-01, 0.00000000e+00, 5.00138700e-01,\n",
       "          5.58576398e-02, 0.00000000e+00, 9.99994576e-01, 4.43313181e-01,\n",
       "          1.79554254e-01, 4.76516783e-01, 9.99956965e-01, 3.84523779e-01,\n",
       "          4.33597267e-01, 2.84947485e-01, 0.00000000e+00, 5.64032674e-01,\n",
       "          2.98325438e-02, 2.79562563e-01, 0.00000000e+00, 3.52143258e-01]],\n",
       "        dtype=float32),\n",
       "  'actions': array([[-0.7647365 ,  0.7736447 , -0.6386983 , -0.32633165, -0.78125   ],\n",
       "         [-0.62026644,  0.7565314 , -0.6758986 , -0.78125   , -0.78125   ],\n",
       "         [-0.6564383 ,  0.7070467 , -0.57912064, -0.78125   , -0.78125   ],\n",
       "         [-0.50105643,  0.38930103, -0.35197458, -0.78125   , -0.78125   ],\n",
       "         [-0.28482065,  0.45272774,  0.32002413, -0.7147653 , -0.78125   ],\n",
       "         [-0.63943964,  0.5399862 ,  0.68228406, -0.78125   , -0.78125   ],\n",
       "         [-0.66333246,  0.73157036,  0.78125   , -0.6741776 , -0.78125   ],\n",
       "         [-0.6609422 ,  0.78125   ,  0.7239577 , -0.6900467 , -0.78125   ],\n",
       "         [-0.05914942,  0.78125   ,  0.6650965 , -0.6395941 , -0.10947978],\n",
       "         [ 0.5642728 ,  0.78125   ,  0.08994523, -0.61583656,  0.01910179]],\n",
       "        dtype=float32),\n",
       "  'rewards': array([[-1.18535   ],\n",
       "         [-1.2106    ],\n",
       "         [-1.5120167 ],\n",
       "         [-2.5578833 ],\n",
       "         [-0.9428833 ],\n",
       "         [-0.7266    ],\n",
       "         [-0.19536668],\n",
       "         [-0.64611673],\n",
       "         [-1.3172166 ],\n",
       "         [-4.9007125 ]], dtype=float32),\n",
       "  'terminals': array([0., 0., 0., 0., 0., 0., 0., 0., 0., 1.])},\n",
       " {'observations': array([[6.69872984e-02, 8.53553414e-01, 1.00000000e+00, 5.41353345e-01,\n",
       "          4.77443576e-01, 6.46616518e-01, 5.41353345e-01, 8.22222233e-01,\n",
       "          7.88888872e-01, 6.44444466e-01, 7.88888872e-01, 0.00000000e+00,\n",
       "          2.45821048e-02, 9.47885931e-01, 0.00000000e+00, 0.00000000e+00,\n",
       "          1.04931794e-01, 8.55194151e-01, 0.00000000e+00, 4.74622518e-01,\n",
       "          3.03030442e-02, 3.03030442e-02, 3.03030442e-02, 3.03030442e-02,\n",
       "          2.20085010e-01, 0.00000000e+00, 0.00000000e+00, 5.09163201e-01,\n",
       "          1.06455028e-01, 0.00000000e+00, 0.00000000e+00, 4.61044788e-01,\n",
       "          0.00000000e+00, 0.00000000e+00, 0.00000000e+00, 4.03335273e-01,\n",
       "          8.35057050e-02, 0.00000000e+00, 0.00000000e+00, 4.79821682e-01,\n",
       "          6.34394661e-02, 0.00000000e+00, 0.00000000e+00, 4.16513085e-01],\n",
       "         [2.50000000e-01, 8.53553414e-01, 9.82962906e-01, 5.45112789e-01,\n",
       "          5.18796980e-01, 6.46616518e-01, 5.18796980e-01, 7.66666651e-01,\n",
       "          7.66666651e-01, 6.77777767e-01, 8.55555534e-01, 0.00000000e+00,\n",
       "          1.97640121e-01, 9.49852526e-01, 0.00000000e+00, 0.00000000e+00,\n",
       "          4.65897173e-01, 7.83840477e-01, 0.00000000e+00, 4.11214262e-01,\n",
       "          3.03030442e-02, 3.03030442e-02, 3.03030442e-02, 3.03030442e-02,\n",
       "          1.74556613e-01, 0.00000000e+00, 0.00000000e+00, 4.93426770e-01,\n",
       "          1.23172723e-01, 0.00000000e+00, 7.14285553e-01, 7.06572771e-01,\n",
       "          2.27434419e-10, 0.00000000e+00, 0.00000000e+00, 4.03335273e-01,\n",
       "          1.09781839e-01, 0.00000000e+00, 0.00000000e+00, 4.90076542e-01,\n",
       "          6.40181452e-02, 0.00000000e+00, 0.00000000e+00, 4.16735560e-01],\n",
       "         [2.50000000e-01, 8.53553414e-01, 9.33012724e-01, 5.30075192e-01,\n",
       "          5.82706749e-01, 6.24060154e-01, 5.18796980e-01, 7.55555570e-01,\n",
       "          6.99999988e-01, 6.99999988e-01, 8.55555534e-01, 0.00000000e+00,\n",
       "          4.12979364e-01, 6.71583116e-01, 0.00000000e+00, 0.00000000e+00,\n",
       "          6.21196210e-01, 3.05351526e-01, 0.00000000e+00, 3.97892028e-01,\n",
       "          3.03030442e-02, 3.03030442e-02, 3.03030442e-02, 3.03030442e-02,\n",
       "          1.78274989e-01, 0.00000000e+00, 0.00000000e+00, 4.94711965e-01,\n",
       "          1.96965858e-01, 0.00000000e+00, 9.78920460e-01, 5.81274867e-01,\n",
       "          2.27434419e-10, 0.00000000e+00, 0.00000000e+00, 4.03335273e-01,\n",
       "          1.25521660e-01, 0.00000000e+00, 0.00000000e+00, 4.96219397e-01,\n",
       "          3.87220532e-02, 0.00000000e+00, 0.00000000e+00, 4.07011181e-01],\n",
       "         [2.50000000e-01, 8.53553414e-01, 8.53553414e-01, 5.15037537e-01,\n",
       "          6.24060154e-01, 6.46616518e-01, 5.18796980e-01, 7.55555570e-01,\n",
       "          6.77777767e-01, 6.77777767e-01, 8.88888896e-01, 0.00000000e+00,\n",
       "          5.44739425e-01, 5.13274312e-01, 0.00000000e+00, 0.00000000e+00,\n",
       "          5.15215099e-01, 1.60545647e-01, 0.00000000e+00, 3.81063938e-01,\n",
       "          3.03030442e-02, 3.03030442e-02, 3.03030442e-02, 3.03030442e-02,\n",
       "          2.22662106e-01, 0.00000000e+00, 0.00000000e+00, 5.10053992e-01,\n",
       "          3.23971547e-02, 0.00000000e+00, 9.98120010e-01, 4.41620231e-01,\n",
       "          2.27434419e-10, 0.00000000e+00, 0.00000000e+00, 4.03335273e-01,\n",
       "          5.11732548e-02, 0.00000000e+00, 0.00000000e+00, 4.67203170e-01,\n",
       "          3.75097878e-02, 0.00000000e+00, 0.00000000e+00, 4.06545132e-01],\n",
       "         [2.50000000e-01, 8.53553414e-01, 7.50000000e-01, 4.99999970e-01,\n",
       "          6.05263174e-01, 6.24060154e-01, 4.99999970e-01, 7.55555570e-01,\n",
       "          6.99999988e-01, 6.77777767e-01, 8.88888896e-01, 0.00000000e+00,\n",
       "          7.64995098e-01, 4.36578184e-01, 0.00000000e+00, 0.00000000e+00,\n",
       "          7.70199358e-01, 1.82581320e-01, 0.00000000e+00, 3.85202736e-01,\n",
       "          3.03030442e-02, 3.03030442e-02, 1.00000000e+00, 3.03030442e-02,\n",
       "          3.76678169e-01, 0.00000000e+00, 0.00000000e+00, 5.63288152e-01,\n",
       "          3.25007476e-02, 0.00000000e+00, 9.99827862e-01, 4.35708612e-01,\n",
       "          2.27434419e-10, 0.00000000e+00, 0.00000000e+00, 4.03335273e-01,\n",
       "          1.31063506e-01, 0.00000000e+00, 0.00000000e+00, 4.98382211e-01,\n",
       "          3.72708254e-02, 0.00000000e+00, 0.00000000e+00, 4.06453282e-01],\n",
       "         [2.50000000e-01, 8.53553414e-01, 6.29409552e-01, 4.77443576e-01,\n",
       "          6.24060154e-01, 5.82706749e-01, 4.77443576e-01, 7.88888872e-01,\n",
       "          6.77777767e-01, 7.33333349e-01, 9.22222197e-01, 0.00000000e+00,\n",
       "          8.87905598e-01, 3.85447383e-01, 0.00000000e+00, 0.00000000e+00,\n",
       "          8.50996852e-01, 4.15529907e-01, 0.00000000e+00, 4.14852470e-01,\n",
       "          3.03030442e-02, 3.03030442e-02, 1.00000000e+00, 3.03030442e-02,\n",
       "          1.38850570e-01, 0.00000000e+00, 0.00000000e+00, 4.81085300e-01,\n",
       "          4.07214724e-02, 0.00000000e+00, 9.99979734e-01, 4.38060433e-01,\n",
       "          2.27434419e-10, 0.00000000e+00, 2.94906259e-01, 5.02947509e-01,\n",
       "          5.07527441e-02, 0.00000000e+00, 0.00000000e+00, 4.67039078e-01,\n",
       "          3.85018177e-02, 0.00000000e+00, 0.00000000e+00, 4.06926513e-01],\n",
       "         [2.50000000e-01, 8.53553414e-01, 5.00000000e-01, 4.77443576e-01,\n",
       "          6.46616518e-01, 5.63909769e-01, 4.99999970e-01, 7.88888872e-01,\n",
       "          6.44444466e-01, 7.55555570e-01, 8.88888896e-01, 2.45821048e-02,\n",
       "          9.47885931e-01, 2.27138638e-01, 1.47492625e-02, 1.04931794e-01,\n",
       "          8.55194151e-01, 3.35781753e-01, 1.46904513e-02, 4.33068663e-01,\n",
       "          3.03030442e-02, 3.03030442e-02, 1.00000000e+00, 3.03030442e-02,\n",
       "          1.26107529e-01, 3.68494540e-02, 0.00000000e+00, 4.70076561e-01,\n",
       "          3.69759873e-02, 0.00000000e+00, 9.99993265e-01, 4.36700821e-01,\n",
       "          1.18782371e-03, 1.17123248e-02, 9.35552120e-01, 6.14100575e-01,\n",
       "          1.34319529e-01, 7.16168899e-03, 0.00000000e+00, 4.98335451e-01,\n",
       "          8.18423703e-02, 1.03971884e-02, 0.00000000e+00, 4.21674103e-01],\n",
       "         [2.50000000e-01, 8.53553414e-01, 3.70590478e-01, 5.18796980e-01,\n",
       "          6.46616518e-01, 5.63909769e-01, 5.41353345e-01, 7.66666651e-01,\n",
       "          6.77777767e-01, 6.99999988e-01, 8.55555534e-01, 1.97640121e-01,\n",
       "          9.49852526e-01, 2.65486725e-02, 1.14060961e-01, 4.65897173e-01,\n",
       "          7.83840477e-01, 1.50052473e-01, 4.40713540e-02, 4.44452047e-01,\n",
       "          3.03030442e-02, 3.03030442e-02, 1.00000000e+00, 3.03030442e-02,\n",
       "          1.36347130e-01, 2.07469299e-01, 0.00000000e+00, 4.43037003e-01,\n",
       "          7.56025687e-02, 0.00000000e+00, 9.99994457e-01, 4.50233102e-01,\n",
       "          4.19293121e-02, 1.13369115e-01, 9.95230973e-01, 4.18608367e-01,\n",
       "          1.27654761e-01, 3.81408520e-02, 0.00000000e+00, 4.90035295e-01,\n",
       "          6.81574121e-02, 3.68535668e-02, 0.00000000e+00, 4.11544263e-01],\n",
       "         [2.50000000e-01, 8.53553414e-01, 2.50000000e-01, 5.82706749e-01,\n",
       "          6.24060154e-01, 5.41353345e-01, 5.41353345e-01, 6.99999988e-01,\n",
       "          6.99999988e-01, 7.33333349e-01, 8.55555534e-01, 4.12979364e-01,\n",
       "          6.71583116e-01, 0.00000000e+00, 2.47787610e-01, 6.21196210e-01,\n",
       "          3.05351526e-01, 0.00000000e+00, 7.76495263e-02, 5.70518792e-01,\n",
       "          3.03030442e-02, 3.03030442e-02, 1.00000000e+00, 3.03030442e-02,\n",
       "          3.04993659e-01, 4.04700249e-01, 0.00000000e+00, 4.65979993e-01,\n",
       "          4.31455597e-02, 0.00000000e+00, 9.99994576e-01, 4.38858360e-01,\n",
       "          7.41404891e-02, 2.90464699e-01, 9.99570906e-01, 3.80789846e-01,\n",
       "          2.79003888e-01, 1.19630598e-01, 0.00000000e+00, 5.34111559e-01,\n",
       "          2.96123084e-02, 1.20883688e-01, 0.00000000e+00, 3.81261796e-01],\n",
       "         [2.50000000e-01, 8.53553414e-01, 1.46446615e-01, 6.24060154e-01,\n",
       "          6.46616518e-01, 5.63909769e-01, 5.41353345e-01, 6.77777767e-01,\n",
       "          6.77777767e-01, 6.66666687e-01, 8.22222233e-01, 5.44739425e-01,\n",
       "          5.13274312e-01, 0.00000000e+00, 2.87118971e-01, 5.15215099e-01,\n",
       "          1.60545647e-01, 0.00000000e+00, 3.67261283e-02, 6.26809955e-01,\n",
       "          3.03030442e-02, 3.03030442e-02, 3.03030442e-02, 3.03030442e-02,\n",
       "          4.91169214e-01, 5.73156953e-01, 0.00000000e+00, 5.00138700e-01,\n",
       "          5.58576398e-02, 0.00000000e+00, 9.99994576e-01, 4.43313181e-01,\n",
       "          1.79554254e-01, 4.76516783e-01, 9.99956965e-01, 3.84523779e-01,\n",
       "          4.33597267e-01, 2.84947485e-01, 0.00000000e+00, 5.64032674e-01,\n",
       "          2.98325438e-02, 2.79562563e-01, 0.00000000e+00, 3.52143258e-01]],\n",
       "        dtype=float32),\n",
       "  'actions': array([[-0.7647365 ,  0.7736447 , -0.6386983 , -0.32633165, -0.78125   ],\n",
       "         [-0.62026644,  0.7565314 , -0.6758986 , -0.78125   , -0.78125   ],\n",
       "         [-0.6564383 ,  0.7070467 , -0.57912064, -0.78125   , -0.78125   ],\n",
       "         [-0.50105643,  0.38930103, -0.35197458, -0.78125   , -0.78125   ],\n",
       "         [-0.28482065,  0.45272774,  0.32002413, -0.7147653 , -0.78125   ],\n",
       "         [-0.63943964,  0.5399862 ,  0.68228406, -0.78125   , -0.78125   ],\n",
       "         [-0.66333246,  0.73157036,  0.78125   , -0.6741776 , -0.78125   ],\n",
       "         [-0.6609422 ,  0.78125   ,  0.7239577 , -0.6900467 , -0.78125   ],\n",
       "         [-0.05914942,  0.78125   ,  0.6650965 , -0.6395941 , -0.10947978],\n",
       "         [ 0.5642728 ,  0.78125   ,  0.08994523, -0.61583656,  0.01910179]],\n",
       "        dtype=float32),\n",
       "  'rewards': array([[-1.18535   ],\n",
       "         [-1.2106    ],\n",
       "         [-1.5120167 ],\n",
       "         [-2.5578833 ],\n",
       "         [-0.9428833 ],\n",
       "         [-0.7266    ],\n",
       "         [-0.19536668],\n",
       "         [-0.64611673],\n",
       "         [-1.3172166 ],\n",
       "         [-4.9007125 ]], dtype=float32),\n",
       "  'terminals': array([0., 0., 0., 0., 0., 0., 0., 0., 0., 1.])}]"
      ]
     },
     "execution_count": 120,
     "metadata": {},
     "output_type": "execute_result"
    }
   ],
   "source": [
    "self.replay_buffer.trajectories"
   ]
  },
  {
   "cell_type": "code",
   "execution_count": 121,
   "id": "1f066673-cd42-4331-ad31-5e47ad889694",
   "metadata": {},
   "outputs": [],
   "source": [
    "dataloader = create_dataloader(\n",
    "                trajectories=self.replay_buffer.trajectories,\n",
    "                num_iters=self.variant[\"num_updates_per_online_iter\"],\n",
    "                batch_size=self.variant[\"batch_size\"],\n",
    "                max_len=self.variant[\"K\"],\n",
    "                state_dim=self.state_dim,\n",
    "                act_dim=self.act_dim,\n",
    "                state_mean=self.state_mean,\n",
    "                state_std=self.state_std,\n",
    "                reward_scale=self.reward_scale,\n",
    "                action_range=self.action_range,\n",
    "            )"
   ]
  },
  {
   "cell_type": "code",
   "execution_count": 122,
   "id": "763d1efc-c326-4090-8030-e020db29e782",
   "metadata": {},
   "outputs": [],
   "source": [
    "#train_outputs = trainer.train_iteration(\n",
    "#                loss_fn=loss_fn,\n",
    "#                dataloader=dataloader,\n",
    "#            )"
   ]
  },
  {
   "cell_type": "code",
   "execution_count": 123,
   "id": "863d0813-f278-4a0c-8b8e-9cbd6183cc4f",
   "metadata": {},
   "outputs": [],
   "source": [
    "def _save_model(self, path_prefix, is_pretrain_model=False):\n",
    "        to_save = {\n",
    "            \"model_state_dict\": self.model.state_dict(),\n",
    "            \"optimizer_state_dict\": self.optimizer.state_dict(),\n",
    "            \"scheduler_state_dict\": self.scheduler.state_dict(),\n",
    "            \"pretrain_iter\": self.pretrain_iter,\n",
    "            \"online_iter\": self.online_iter,\n",
    "            \"args\": self.variant,\n",
    "            \"total_transitions_sampled\": self.total_transitions_sampled,\n",
    "            \"np\": np.random.get_state(),\n",
    "            \"python\": random.getstate(),\n",
    "            \"pytorch\": torch.get_rng_state(),\n",
    "            \"log_temperature_optimizer_state_dict\": self.log_temperature_optimizer.state_dict(),\n",
    "        }\n",
    "\n",
    "        with open(f\"{path_prefix}/model.pt\", \"wb\") as f:\n",
    "            torch.save(to_save, f)\n",
    "        print(f\"\\nModel saved at {path_prefix}/model.pt\")\n",
    "\n",
    "        if is_pretrain_model:\n",
    "            with open(f\"{path_prefix}/pretrain_model.pt\", \"wb\") as f:\n",
    "                torch.save(to_save, f)\n",
    "            print(f\"Model saved at {path_prefix}/pretrain_model.pt\")\n"
   ]
  },
  {
   "cell_type": "code",
   "execution_count": 124,
   "id": "c91703b2-101f-4b9f-a2a1-102a3ecf312b",
   "metadata": {},
   "outputs": [
    {
     "name": "stdout",
     "output_type": "stream",
     "text": [
      "\n",
      "Model saved at ./exp/2024.06.06/085724-default/model.pt\n"
     ]
    }
   ],
   "source": [
    "_save_model(self,\n",
    "                path_prefix=self.logger.log_path,\n",
    "                is_pretrain_model=False,\n",
    "            )"
   ]
  },
  {
   "cell_type": "markdown",
   "id": "e379ba0e-5690-40b1-9510-d0a6f37f161c",
   "metadata": {},
   "source": [
    "## Create Dataloader Testing"
   ]
  },
  {
   "cell_type": "code",
   "execution_count": 94,
   "id": "47f6cde9-6c39-487d-8de4-7194c4d1154f",
   "metadata": {},
   "outputs": [],
   "source": [
    "self.max_len = 10"
   ]
  },
  {
   "cell_type": "code",
   "execution_count": 95,
   "id": "b95749fe-ca1c-45cf-8b0a-43fbd3c63a8a",
   "metadata": {},
   "outputs": [],
   "source": [
    "traj = self.replay_buffer.trajectories[2]"
   ]
  },
  {
   "cell_type": "code",
   "execution_count": 96,
   "id": "478daab3-2231-4a8e-9b97-4edbf6fb0268",
   "metadata": {},
   "outputs": [
    {
     "data": {
      "text/plain": [
       "[{'observations': array([[6.69872984e-02, 8.53553414e-01, 1.00000000e+00, 5.41353345e-01,\n",
       "          4.77443576e-01, 6.46616518e-01, 5.41353345e-01, 8.22222233e-01,\n",
       "          7.88888872e-01, 6.44444466e-01, 7.88888872e-01, 0.00000000e+00,\n",
       "          2.45821048e-02, 9.47885931e-01, 0.00000000e+00, 0.00000000e+00,\n",
       "          1.04931794e-01, 8.55194151e-01, 0.00000000e+00, 4.74622518e-01,\n",
       "          3.03030442e-02, 3.03030442e-02, 3.03030442e-02, 3.03030442e-02,\n",
       "          2.20085010e-01, 0.00000000e+00, 0.00000000e+00, 5.09163201e-01,\n",
       "          1.06455028e-01, 0.00000000e+00, 0.00000000e+00, 4.61044788e-01,\n",
       "          0.00000000e+00, 0.00000000e+00, 0.00000000e+00, 4.03335273e-01,\n",
       "          8.35057050e-02, 0.00000000e+00, 0.00000000e+00, 4.79821682e-01,\n",
       "          6.34394661e-02, 0.00000000e+00, 0.00000000e+00, 4.16513085e-01],\n",
       "         [2.50000000e-01, 8.53553414e-01, 9.82962906e-01, 5.45112789e-01,\n",
       "          5.18796980e-01, 6.46616518e-01, 5.18796980e-01, 7.66666651e-01,\n",
       "          7.66666651e-01, 6.77777767e-01, 8.55555534e-01, 0.00000000e+00,\n",
       "          1.97640121e-01, 9.49852526e-01, 0.00000000e+00, 0.00000000e+00,\n",
       "          4.65897173e-01, 7.83840477e-01, 0.00000000e+00, 4.11214262e-01,\n",
       "          3.03030442e-02, 3.03030442e-02, 3.03030442e-02, 3.03030442e-02,\n",
       "          1.74556613e-01, 0.00000000e+00, 0.00000000e+00, 4.93426770e-01,\n",
       "          1.23172723e-01, 0.00000000e+00, 7.14285553e-01, 7.06572771e-01,\n",
       "          2.27434419e-10, 0.00000000e+00, 0.00000000e+00, 4.03335273e-01,\n",
       "          1.09781839e-01, 0.00000000e+00, 0.00000000e+00, 4.90076542e-01,\n",
       "          6.40181452e-02, 0.00000000e+00, 0.00000000e+00, 4.16735560e-01],\n",
       "         [2.50000000e-01, 8.53553414e-01, 9.33012724e-01, 5.30075192e-01,\n",
       "          5.82706749e-01, 6.24060154e-01, 5.18796980e-01, 7.55555570e-01,\n",
       "          6.99999988e-01, 6.99999988e-01, 8.55555534e-01, 0.00000000e+00,\n",
       "          4.12979364e-01, 6.71583116e-01, 0.00000000e+00, 0.00000000e+00,\n",
       "          6.21196210e-01, 3.05351526e-01, 0.00000000e+00, 3.97892028e-01,\n",
       "          3.03030442e-02, 3.03030442e-02, 3.03030442e-02, 3.03030442e-02,\n",
       "          1.78274989e-01, 0.00000000e+00, 0.00000000e+00, 4.94711965e-01,\n",
       "          1.96965858e-01, 0.00000000e+00, 9.78920460e-01, 5.81274867e-01,\n",
       "          2.27434419e-10, 0.00000000e+00, 0.00000000e+00, 4.03335273e-01,\n",
       "          1.25521660e-01, 0.00000000e+00, 0.00000000e+00, 4.96219397e-01,\n",
       "          3.87220532e-02, 0.00000000e+00, 0.00000000e+00, 4.07011181e-01],\n",
       "         [2.50000000e-01, 8.53553414e-01, 8.53553414e-01, 5.15037537e-01,\n",
       "          6.24060154e-01, 6.46616518e-01, 5.18796980e-01, 7.55555570e-01,\n",
       "          6.77777767e-01, 6.77777767e-01, 8.88888896e-01, 0.00000000e+00,\n",
       "          5.44739425e-01, 5.13274312e-01, 0.00000000e+00, 0.00000000e+00,\n",
       "          5.15215099e-01, 1.60545647e-01, 0.00000000e+00, 3.81063938e-01,\n",
       "          3.03030442e-02, 3.03030442e-02, 3.03030442e-02, 3.03030442e-02,\n",
       "          2.22662106e-01, 0.00000000e+00, 0.00000000e+00, 5.10053992e-01,\n",
       "          3.23971547e-02, 0.00000000e+00, 9.98120010e-01, 4.41620231e-01,\n",
       "          2.27434419e-10, 0.00000000e+00, 0.00000000e+00, 4.03335273e-01,\n",
       "          5.11732548e-02, 0.00000000e+00, 0.00000000e+00, 4.67203170e-01,\n",
       "          3.75097878e-02, 0.00000000e+00, 0.00000000e+00, 4.06545132e-01],\n",
       "         [2.50000000e-01, 8.53553414e-01, 7.50000000e-01, 4.99999970e-01,\n",
       "          6.05263174e-01, 6.24060154e-01, 4.99999970e-01, 7.55555570e-01,\n",
       "          6.99999988e-01, 6.77777767e-01, 8.88888896e-01, 0.00000000e+00,\n",
       "          7.64995098e-01, 4.36578184e-01, 0.00000000e+00, 0.00000000e+00,\n",
       "          7.70199358e-01, 1.82581320e-01, 0.00000000e+00, 3.85202736e-01,\n",
       "          3.03030442e-02, 3.03030442e-02, 1.00000000e+00, 3.03030442e-02,\n",
       "          3.76678169e-01, 0.00000000e+00, 0.00000000e+00, 5.63288152e-01,\n",
       "          3.25007476e-02, 0.00000000e+00, 9.99827862e-01, 4.35708612e-01,\n",
       "          2.27434419e-10, 0.00000000e+00, 0.00000000e+00, 4.03335273e-01,\n",
       "          1.31063506e-01, 0.00000000e+00, 0.00000000e+00, 4.98382211e-01,\n",
       "          3.72708254e-02, 0.00000000e+00, 0.00000000e+00, 4.06453282e-01],\n",
       "         [2.50000000e-01, 8.53553414e-01, 6.29409552e-01, 4.77443576e-01,\n",
       "          6.24060154e-01, 5.82706749e-01, 4.77443576e-01, 7.88888872e-01,\n",
       "          6.77777767e-01, 7.33333349e-01, 9.22222197e-01, 0.00000000e+00,\n",
       "          8.87905598e-01, 3.85447383e-01, 0.00000000e+00, 0.00000000e+00,\n",
       "          8.50996852e-01, 4.15529907e-01, 0.00000000e+00, 4.14852470e-01,\n",
       "          3.03030442e-02, 3.03030442e-02, 1.00000000e+00, 3.03030442e-02,\n",
       "          1.38850570e-01, 0.00000000e+00, 0.00000000e+00, 4.81085300e-01,\n",
       "          4.07214724e-02, 0.00000000e+00, 9.99979734e-01, 4.38060433e-01,\n",
       "          2.27434419e-10, 0.00000000e+00, 2.94906259e-01, 5.02947509e-01,\n",
       "          5.07527441e-02, 0.00000000e+00, 0.00000000e+00, 4.67039078e-01,\n",
       "          3.85018177e-02, 0.00000000e+00, 0.00000000e+00, 4.06926513e-01],\n",
       "         [2.50000000e-01, 8.53553414e-01, 5.00000000e-01, 4.77443576e-01,\n",
       "          6.46616518e-01, 5.63909769e-01, 4.99999970e-01, 7.88888872e-01,\n",
       "          6.44444466e-01, 7.55555570e-01, 8.88888896e-01, 2.45821048e-02,\n",
       "          9.47885931e-01, 2.27138638e-01, 1.47492625e-02, 1.04931794e-01,\n",
       "          8.55194151e-01, 3.35781753e-01, 1.46904513e-02, 4.33068663e-01,\n",
       "          3.03030442e-02, 3.03030442e-02, 1.00000000e+00, 3.03030442e-02,\n",
       "          1.26107529e-01, 3.68494540e-02, 0.00000000e+00, 4.70076561e-01,\n",
       "          3.69759873e-02, 0.00000000e+00, 9.99993265e-01, 4.36700821e-01,\n",
       "          1.18782371e-03, 1.17123248e-02, 9.35552120e-01, 6.14100575e-01,\n",
       "          1.34319529e-01, 7.16168899e-03, 0.00000000e+00, 4.98335451e-01,\n",
       "          8.18423703e-02, 1.03971884e-02, 0.00000000e+00, 4.21674103e-01],\n",
       "         [2.50000000e-01, 8.53553414e-01, 3.70590478e-01, 5.18796980e-01,\n",
       "          6.46616518e-01, 5.63909769e-01, 5.41353345e-01, 7.66666651e-01,\n",
       "          6.77777767e-01, 6.99999988e-01, 8.55555534e-01, 1.97640121e-01,\n",
       "          9.49852526e-01, 2.65486725e-02, 1.14060961e-01, 4.65897173e-01,\n",
       "          7.83840477e-01, 1.50052473e-01, 4.40713540e-02, 4.44452047e-01,\n",
       "          3.03030442e-02, 3.03030442e-02, 1.00000000e+00, 3.03030442e-02,\n",
       "          1.36347130e-01, 2.07469299e-01, 0.00000000e+00, 4.43037003e-01,\n",
       "          7.56025687e-02, 0.00000000e+00, 9.99994457e-01, 4.50233102e-01,\n",
       "          4.19293121e-02, 1.13369115e-01, 9.95230973e-01, 4.18608367e-01,\n",
       "          1.27654761e-01, 3.81408520e-02, 0.00000000e+00, 4.90035295e-01,\n",
       "          6.81574121e-02, 3.68535668e-02, 0.00000000e+00, 4.11544263e-01],\n",
       "         [2.50000000e-01, 8.53553414e-01, 2.50000000e-01, 5.82706749e-01,\n",
       "          6.24060154e-01, 5.41353345e-01, 5.41353345e-01, 6.99999988e-01,\n",
       "          6.99999988e-01, 7.33333349e-01, 8.55555534e-01, 4.12979364e-01,\n",
       "          6.71583116e-01, 0.00000000e+00, 2.47787610e-01, 6.21196210e-01,\n",
       "          3.05351526e-01, 0.00000000e+00, 7.76495263e-02, 5.70518792e-01,\n",
       "          3.03030442e-02, 3.03030442e-02, 1.00000000e+00, 3.03030442e-02,\n",
       "          3.04993659e-01, 4.04700249e-01, 0.00000000e+00, 4.65979993e-01,\n",
       "          4.31455597e-02, 0.00000000e+00, 9.99994576e-01, 4.38858360e-01,\n",
       "          7.41404891e-02, 2.90464699e-01, 9.99570906e-01, 3.80789846e-01,\n",
       "          2.79003888e-01, 1.19630598e-01, 0.00000000e+00, 5.34111559e-01,\n",
       "          2.96123084e-02, 1.20883688e-01, 0.00000000e+00, 3.81261796e-01],\n",
       "         [2.50000000e-01, 8.53553414e-01, 1.46446615e-01, 6.24060154e-01,\n",
       "          6.46616518e-01, 5.63909769e-01, 5.41353345e-01, 6.77777767e-01,\n",
       "          6.77777767e-01, 6.66666687e-01, 8.22222233e-01, 5.44739425e-01,\n",
       "          5.13274312e-01, 0.00000000e+00, 2.87118971e-01, 5.15215099e-01,\n",
       "          1.60545647e-01, 0.00000000e+00, 3.67261283e-02, 6.26809955e-01,\n",
       "          3.03030442e-02, 3.03030442e-02, 3.03030442e-02, 3.03030442e-02,\n",
       "          4.91169214e-01, 5.73156953e-01, 0.00000000e+00, 5.00138700e-01,\n",
       "          5.58576398e-02, 0.00000000e+00, 9.99994576e-01, 4.43313181e-01,\n",
       "          1.79554254e-01, 4.76516783e-01, 9.99956965e-01, 3.84523779e-01,\n",
       "          4.33597267e-01, 2.84947485e-01, 0.00000000e+00, 5.64032674e-01,\n",
       "          2.98325438e-02, 2.79562563e-01, 0.00000000e+00, 3.52143258e-01]],\n",
       "        dtype=float32),\n",
       "  'actions': array([[-0.7647365 ,  0.7736447 , -0.6386983 , -0.32633165, -0.78125   ],\n",
       "         [-0.62026644,  0.7565314 , -0.6758986 , -0.78125   , -0.78125   ],\n",
       "         [-0.6564383 ,  0.7070467 , -0.57912064, -0.78125   , -0.78125   ],\n",
       "         [-0.50105643,  0.38930103, -0.35197458, -0.78125   , -0.78125   ],\n",
       "         [-0.28482065,  0.45272774,  0.32002413, -0.7147653 , -0.78125   ],\n",
       "         [-0.63943964,  0.5399862 ,  0.68228406, -0.78125   , -0.78125   ],\n",
       "         [-0.66333246,  0.73157036,  0.78125   , -0.6741776 , -0.78125   ],\n",
       "         [-0.6609422 ,  0.78125   ,  0.7239577 , -0.6900467 , -0.78125   ],\n",
       "         [-0.05914942,  0.78125   ,  0.6650965 , -0.6395941 , -0.10947978],\n",
       "         [ 0.5642728 ,  0.78125   ,  0.08994523, -0.61583656,  0.01910179]],\n",
       "        dtype=float32),\n",
       "  'rewards': array([[-1.18535   ],\n",
       "         [-1.2106    ],\n",
       "         [-1.5120167 ],\n",
       "         [-2.5578833 ],\n",
       "         [-0.9428833 ],\n",
       "         [-0.7266    ],\n",
       "         [-0.19536668],\n",
       "         [-0.64611673],\n",
       "         [-1.3172166 ],\n",
       "         [-4.9007125 ]], dtype=float32),\n",
       "  'terminals': array([0., 0., 0., 0., 0., 0., 0., 0., 0., 1.])}]"
      ]
     },
     "execution_count": 96,
     "metadata": {},
     "output_type": "execute_result"
    }
   ],
   "source": [
    "trajectories"
   ]
  },
  {
   "cell_type": "code",
   "execution_count": 97,
   "id": "8c2dec45-50ef-418a-a2ec-3ebf207ede47",
   "metadata": {},
   "outputs": [
    {
     "data": {
      "text/plain": [
       "786"
      ]
     },
     "execution_count": 97,
     "metadata": {},
     "output_type": "execute_result"
    }
   ],
   "source": [
    "si = random.randint(0, traj[\"rewards\"].shape[0] - 1)\n",
    "si"
   ]
  },
  {
   "cell_type": "code",
   "execution_count": 98,
   "id": "7ef6dde4-3d16-4184-a800-cc704567597b",
   "metadata": {},
   "outputs": [],
   "source": [
    "ss = traj[\"observations\"][si : si + self.max_len].reshape(-1, self.state_dim)\n",
    "aa = traj[\"actions\"][si : si + self.max_len].reshape(-1, self.act_dim)\n",
    "rr = traj[\"rewards\"][si : si + self.max_len].reshape(-1, 1)"
   ]
  },
  {
   "cell_type": "code",
   "execution_count": 99,
   "id": "91d5618e-64ae-4d71-a37f-0f65cb24b404",
   "metadata": {},
   "outputs": [],
   "source": [
    "#ss traj"
   ]
  },
  {
   "cell_type": "code",
   "execution_count": 100,
   "id": "b5102794-8e87-4169-bc53-cc3cf5d1ec5a",
   "metadata": {},
   "outputs": [],
   "source": [
    "dd = traj[\"dones\"][si : si + self.max_len]"
   ]
  },
  {
   "cell_type": "code",
   "execution_count": 101,
   "id": "bdef96be-58de-411e-9e09-47e2c3f5356b",
   "metadata": {},
   "outputs": [
    {
     "data": {
      "text/plain": [
       "786"
      ]
     },
     "execution_count": 101,
     "metadata": {},
     "output_type": "execute_result"
    }
   ],
   "source": [
    "si"
   ]
  },
  {
   "cell_type": "code",
   "execution_count": 102,
   "id": "466c83c5-ed26-400a-b573-677d4215072f",
   "metadata": {},
   "outputs": [],
   "source": [
    "tlen = ss.shape[0]"
   ]
  },
  {
   "cell_type": "code",
   "execution_count": 103,
   "id": "b43dcd57-d287-4367-b96d-f0d3a2ee287f",
   "metadata": {},
   "outputs": [],
   "source": [
    "timesteps = np.arange(si, si + tlen)"
   ]
  },
  {
   "cell_type": "code",
   "execution_count": 104,
   "id": "5f3b76b0-be76-4fb3-bd54-55e6a3bff989",
   "metadata": {},
   "outputs": [],
   "source": [
    "ordering = np.arange(tlen)"
   ]
  },
  {
   "cell_type": "code",
   "execution_count": 105,
   "id": "7a251c2b-29c8-4291-a6be-f679914c240b",
   "metadata": {},
   "outputs": [],
   "source": [
    "ordering[timesteps >= MAX_EPISODE_LEN] = -1\n",
    "ordering[ordering == -1] = ordering.max()\n",
    "timesteps[timesteps >= MAX_EPISODE_LEN] = MAX_EPISODE_LEN - 1  # padding cutoff\n"
   ]
  },
  {
   "cell_type": "code",
   "execution_count": 106,
   "id": "2fcf1481-5b90-4ff9-983f-29c6035df14d",
   "metadata": {},
   "outputs": [
    {
     "ename": "NameError",
     "evalue": "name 'discount_cumsum' is not defined",
     "output_type": "error",
     "traceback": [
      "\u001b[0;31m---------------------------------------------------------------------------\u001b[0m",
      "\u001b[0;31mNameError\u001b[0m                                 Traceback (most recent call last)",
      "Cell \u001b[0;32mIn[106], line 1\u001b[0m\n\u001b[0;32m----> 1\u001b[0m rtg \u001b[38;5;241m=\u001b[39m \u001b[43mdiscount_cumsum\u001b[49m(traj[\u001b[38;5;124m\"\u001b[39m\u001b[38;5;124mrewards\u001b[39m\u001b[38;5;124m\"\u001b[39m][si:], gamma\u001b[38;5;241m=\u001b[39m\u001b[38;5;241m1.0\u001b[39m)[: tlen \u001b[38;5;241m+\u001b[39m \u001b[38;5;241m1\u001b[39m]\u001b[38;5;241m.\u001b[39mreshape(\n\u001b[1;32m      2\u001b[0m             \u001b[38;5;241m-\u001b[39m\u001b[38;5;241m1\u001b[39m, \u001b[38;5;241m1\u001b[39m\n\u001b[1;32m      3\u001b[0m         )\n",
      "\u001b[0;31mNameError\u001b[0m: name 'discount_cumsum' is not defined"
     ]
    }
   ],
   "source": [
    "rtg = discount_cumsum(traj[\"rewards\"][si:], gamma=1.0)[: tlen + 1].reshape(\n",
    "            -1, 1\n",
    "        )"
   ]
  },
  {
   "cell_type": "markdown",
   "id": "4d7902f7-95fb-4c6c-8a10-fb3a2d9d7a24",
   "metadata": {},
   "source": [
    "## Evaluation"
   ]
  },
  {
   "cell_type": "code",
   "execution_count": 107,
   "id": "224650ef-f4dd-437c-997d-b79da56d59c6",
   "metadata": {},
   "outputs": [],
   "source": [
    "def evaluate_episode_rtg(\n",
    "    state_dim,\n",
    "    act_dim,\n",
    "    model,\n",
    "    target_return,\n",
    "    max_ep_len = 8760,\n",
    "    reward_scale = 1 ,\n",
    "    state_mean = 0.0,\n",
    "    state_std = 1.0,\n",
    "    device = \"cuda\",\n",
    "    mode=\"normal\",\n",
    "    use_mean = False,\n",
    "    schema=\"citylearn_challenge_2022_phase_2\"\n",
    "):\n",
    "    model.eval()\n",
    "    model.to(device=\"cpu\")\n",
    "\n",
    "    num_envs = 1 \n",
    "\n",
    "    env = CityLearnEnv(schema=schema)\n",
    "    env.central_agent = True\n",
    "    env = NormalizedObservationWrapper(env)\n",
    "    env = StableBaselines3WrapperCustom(env)\n",
    "\n",
    "    state,_ = env.reset()\n",
    "\n",
    "    states = (\n",
    "        torch.from_numpy(state)\n",
    "        .reshape(num_envs, state_dim)\n",
    "        .to(device=device, dtype=torch.float32)\n",
    "    ).reshape(num_envs, -1, state_dim)\n",
    "\n",
    "    actions = torch.zeros(0, device=device, dtype=torch.float32)\n",
    "    rewards = torch.zeros(0, device=device, dtype=torch.float32)\n",
    "    \n",
    "    ep_return = target_return\n",
    "\n",
    "    ep_return = target_return\n",
    "    target_return = torch.tensor(ep_return, device=device, dtype=torch.float32).reshape(\n",
    "            num_envs, -1, 1\n",
    "        )\n",
    "    timesteps = torch.tensor([0] * num_envs, device=device, dtype=torch.long).reshape(\n",
    "            num_envs, -1\n",
    "        )\n",
    "    episode_return = np.zeros((num_envs, 1)).astype(float)\n",
    "    episode_length = np.full(num_envs, np.inf)\n",
    "\n",
    "    unfinished = np.ones(num_envs).astype(bool)\n",
    "\n",
    "    for t in range(max_ep_len):\n",
    "            # add padding\n",
    "        actions = torch.cat(\n",
    "                [\n",
    "                    actions,\n",
    "                    torch.zeros((num_envs, act_dim), device=device).reshape(\n",
    "                        num_envs, -1, act_dim\n",
    "                    ),\n",
    "                ],\n",
    "                dim=1,\n",
    "            )\n",
    "        #print(actions)\n",
    "        rewards = torch.cat(\n",
    "                [\n",
    "                    rewards,\n",
    "                    torch.zeros((num_envs, 1), device=device).reshape(num_envs, -1, 1),\n",
    "                ],\n",
    "                dim=1,\n",
    "            )\n",
    "    \n",
    "        state_pred, action_dist, reward_pred = model.get_predictions(\n",
    "                (states.to(dtype=torch.float32) - state_mean) / state_std,\n",
    "                actions.to(dtype=torch.float32),\n",
    "                rewards.to(dtype=torch.float32),\n",
    "                target_return.to(dtype=torch.float32),\n",
    "                timesteps.to(dtype=torch.long),\n",
    "                num_envs=num_envs,\n",
    "            )\n",
    "        state_pred = state_pred.detach().cpu().numpy().reshape(num_envs, -1)\n",
    "        reward_pred = reward_pred.detach().cpu().numpy().reshape(num_envs)\n",
    "    \n",
    "            # the return action is a SquashNormal distribution\n",
    "        action = action_dist.sample().reshape(num_envs, -1, act_dim)[:, -1]\n",
    "        if use_mean:\n",
    "            action = action_dist.mean.reshape(num_envs, -1, act_dim)[:, -1]\n",
    "        action = action.clamp(*model.action_range)\n",
    "        #print(action.detach().cpu().numpy())\n",
    "    \n",
    "        state, reward, done, _,_ = aug_env.step(action.detach().cpu().numpy()[0])\n",
    "    \n",
    "            # eval_env.step() will execute the action for all the sub-envs, for those where\n",
    "            # the episodes have terminated, the envs will be reset. Hence we use\n",
    "            # \"unfinished\" to track whether the first episode we roll out for each sub-env is\n",
    "            # finished. In contrast, \"done\" only relates to the current episode\n",
    "        #print(reward)\n",
    "        episode_return += reward\n",
    "    \n",
    "        actions[:, -1] = action\n",
    "        #print(actions)\n",
    "        state = (\n",
    "                torch.from_numpy(state).to(device=device).reshape(num_envs, -1, state_dim)\n",
    "            )\n",
    "        states = torch.cat([states, state], dim=1)\n",
    "        #reward = torch.from_numpy(reward).to(device=device).reshape(num_envs, 1)\n",
    "        rewards[:, -1] = reward\n",
    "    \n",
    "        if mode != \"delayed\":\n",
    "            pred_return = target_return[:, -1] - (reward * reward_scale)\n",
    "        else:\n",
    "            pred_return = target_return[:, -1]\n",
    "        target_return = torch.cat(\n",
    "                [target_return, pred_return.reshape(num_envs, -1, 1)], dim=1\n",
    "            )\n",
    "    \n",
    "        timesteps = torch.cat(\n",
    "                [\n",
    "                    timesteps,\n",
    "                    torch.ones((num_envs, 1), device=device, dtype=torch.long).reshape(\n",
    "                        num_envs, 1\n",
    "                    )\n",
    "                    * (t + 1),\n",
    "                ],\n",
    "                dim=1,\n",
    "            )\n",
    "    \n",
    "        if t == max_ep_len - 1:\n",
    "            done = done\n",
    "            ind = 0\n",
    "            episode_length[ind] = np.minimum(episode_length[ind], t + 1)\n",
    "            \n",
    "        if np.any(done):\n",
    "            ind = np.where(done)[0]\n",
    "            #print(\"ind \" + str(ind))\n",
    "            unfinished[ind] = False\n",
    "            episode_length[ind] = np.minimum(episode_length[ind], t + 1)\n",
    "    \n",
    "        if not np.any(unfinished):\n",
    "            break\n",
    "\n",
    "\n",
    "    trajectories = []\n",
    "    for ii in range(num_envs):\n",
    "        ep_len = episode_length[ii].astype(int)\n",
    "        terminals = np.zeros(ep_len)\n",
    "        terminals[-1] = 1\n",
    "        traj = {\n",
    "                \"observations\": states[ii].detach().cpu().numpy()[:ep_len],\n",
    "                \"actions\": actions[ii].detach().cpu().numpy()[:ep_len],\n",
    "                \"rewards\": rewards[ii].detach().cpu().numpy()[:ep_len],\n",
    "                \"terminals\": terminals,\n",
    "            }\n",
    "        trajectories.append(traj)\n",
    "    return (\n",
    "        episode_return.reshape(num_envs),\n",
    "        episode_length.reshape(num_envs),\n",
    "        trajectories,\n",
    "    )\n",
    "    "
   ]
  },
  {
   "cell_type": "code",
   "execution_count": 108,
   "id": "f066ac23-dd6e-4f41-8d98-aba8ade066f3",
   "metadata": {},
   "outputs": [],
   "source": [
    "returns,lengths,_ = evaluate_episode_rtg(self.state_dim,self.act_dim,self.model, -6000, max_ep_len = 10, device = \"cpu\", use_mean = True)"
   ]
  },
  {
   "cell_type": "code",
   "execution_count": 109,
   "id": "4b6ef6e7-7483-494d-92c1-beb7cf35697c",
   "metadata": {},
   "outputs": [
    {
     "data": {
      "text/plain": [
       "array([10.])"
      ]
     },
     "execution_count": 109,
     "metadata": {},
     "output_type": "execute_result"
    }
   ],
   "source": [
    "lengths"
   ]
  },
  {
   "cell_type": "code",
   "execution_count": 110,
   "id": "42fdfe2c-af61-4253-a9d0-1a0f5f994c93",
   "metadata": {},
   "outputs": [],
   "source": [
    "MAX_EPISODE_LEN = 10 "
   ]
  },
  {
   "cell_type": "code",
   "execution_count": 111,
   "id": "2bed3803-c91c-42e7-86aa-cb2c5ccbcb11",
   "metadata": {},
   "outputs": [],
   "source": [
    "def create_eval_episodes_fn(eval_rtg,\n",
    "                            state_dim,\n",
    "                            act_dim,\n",
    "                            state_mean, \n",
    "                            state_std, \n",
    "                            device, \n",
    "                            use_mean = False, \n",
    "                            reward_scale = 1 ,\n",
    "                            schema = \"citylearn_challenge_2022_phase_2\"):\n",
    "\n",
    "    def eval_episodes_fn(model):\n",
    "        target_return = eval_rtg * reward_scale\n",
    "        returns,lengths,_ = evaluate_episode_rtg(state_dim,act_dim,model, -6000, MAX_EPISODE_LEN, device = \"cpu\", use_mean = True)\n",
    "\n",
    "        return {\n",
    "                f\"evaluation/return\": returns,\n",
    "                f\"evaluation/length\": lengths,\n",
    "            }\n",
    "    return eval_episodes_fn\n",
    "    "
   ]
  },
  {
   "cell_type": "code",
   "execution_count": 112,
   "id": "366a5876-7382-47ec-bdef-27088ba77b12",
   "metadata": {},
   "outputs": [],
   "source": [
    "eval_fn = create_eval_episodes_fn(-6000,self.state_dim, self.act_dim, 0,1,self.device, use_mean = True)"
   ]
  },
  {
   "cell_type": "code",
   "execution_count": 113,
   "id": "156778b5-2d7d-4bfe-a9e3-b7f9bf81c86a",
   "metadata": {},
   "outputs": [],
   "source": [
    "def evaluate(self,eval_fn):\n",
    "    eval_start = time.time()\n",
    "    self.model.eval()\n",
    "    outputs = {}\n",
    "    \n",
    "    o = eval_fn(self.model)\n",
    "    outputs.update(o)\n",
    "    outputs[\"time/evaluation\"] = time.time() - eval_start\n",
    "\n",
    "    eval_reward = outputs[\"evaluation/return\"]\n",
    "    return outputs, eval_reward\n"
   ]
  },
  {
   "cell_type": "code",
   "execution_count": 114,
   "id": "35c844c7-6627-4c37-8f82-846f11f2e9e9",
   "metadata": {},
   "outputs": [
    {
     "data": {
      "text/plain": [
       "({'evaluation/return': array([-12.78699154]),\n",
       "  'evaluation/length': array([10.]),\n",
       "  'time/evaluation': 0.6521708965301514},\n",
       " array([-12.78699154]))"
      ]
     },
     "execution_count": 114,
     "metadata": {},
     "output_type": "execute_result"
    }
   ],
   "source": [
    "evaluate(self,eval_fn)"
   ]
  },
  {
   "cell_type": "code",
   "execution_count": null,
   "id": "b04d11bd-4d6a-4274-8ed1-4d61fb8a5396",
   "metadata": {},
   "outputs": [],
   "source": []
  },
  {
   "cell_type": "code",
   "execution_count": null,
   "id": "229b6eda-5b97-4b42-a9a6-b402c9d4bdd1",
   "metadata": {},
   "outputs": [],
   "source": []
  }
 ],
 "metadata": {
  "kernelspec": {
   "display_name": "Python 3 (ipykernel)",
   "language": "python",
   "name": "python3"
  },
  "language_info": {
   "codemirror_mode": {
    "name": "ipython",
    "version": 3
   },
   "file_extension": ".py",
   "mimetype": "text/x-python",
   "name": "python",
   "nbconvert_exporter": "python",
   "pygments_lexer": "ipython3",
   "version": "3.9.19"
  }
 },
 "nbformat": 4,
 "nbformat_minor": 5
}
