{
 "cells": [
  {
   "cell_type": "code",
   "execution_count": 1,
   "id": "46424a0c-9187-4d7d-b9ff-a2f7b1a3c4da",
   "metadata": {},
   "outputs": [],
   "source": [
    "\"\"\"\n",
    "Copyright (c) Meta Platforms, Inc. and affiliates.\n",
    "\n",
    "This source code is licensed under the CC BY-NC license found in the\n",
    "LICENSE.md file in the root directory of this source tree.\n",
    "\"\"\"\n",
    "\n",
    "#from torch.utils.tensorboard import SummaryWriter\n",
    "import argparse\n",
    "import pickle\n",
    "import random\n",
    "import time\n",
    "import gym\n",
    "\n",
    "import torch\n",
    "import numpy as np\n",
    "\n",
    "from datasets import load_from_disk\n",
    "import datasets\n",
    "\n",
    "import utils\n",
    "from replay_buffer import ReplayBuffer\n",
    "from lamb import Lamb\n",
    "#from stable_baselines3.common.vec_env import SubprocVecEnv\n",
    "from pathlib import Path\n",
    "from data import create_dataloader\n",
    "from decision_transformer.models.decision_transformer import DecisionTransformer\n",
    "from evaluation import create_vec_eval_episodes_fn, vec_evaluate_episode_rtg\n",
    "from trainer import SequenceTrainer\n",
    "from logger import Logger\n",
    "from wrappers_custom import *\n",
    "from utils_.helpers import *\n",
    "\n",
    "from citylearn.citylearn import CityLearnEnv\n",
    "from citylearn.wrappers import *\n",
    "from utils_.variant_dict import variant\n"
   ]
  },
  {
   "cell_type": "code",
   "execution_count": 2,
   "id": "c317faea-80bf-4ab4-be63-4801e4cb09f5",
   "metadata": {},
   "outputs": [],
   "source": [
    "class self:\n",
    "    a = 3\n",
    "self = self()"
   ]
  },
  {
   "cell_type": "code",
   "execution_count": 3,
   "id": "1948ba79-77cc-4eeb-9ab8-c5ef99479578",
   "metadata": {},
   "outputs": [],
   "source": [
    "env = CityLearnEnv(schema=\"citylearn_challenge_2022_phase_2\")\n",
    "env.central_agent = True\n",
    "env = NormalizedObservationWrapper(env)\n",
    "env = StableBaselines3WrapperCustom(env)"
   ]
  },
  {
   "cell_type": "code",
   "execution_count": 4,
   "id": "5e700e1e-ab0d-4f25-b6a6-fe8f78fc39c3",
   "metadata": {},
   "outputs": [],
   "source": [
    "def _get_env_spec(env):\n",
    "    state_dim = env.observation_space.shape[0]\n",
    "    act_dim = env.action_space.shape[0]\n",
    "    action_range = [\n",
    "            float(env.action_space.low.min()) ,\n",
    "            float(env.action_space.high.max()) ,\n",
    "        ]\n",
    "    return state_dim,act_dim, action_range"
   ]
  },
  {
   "cell_type": "code",
   "execution_count": 5,
   "id": "f0e84858-a826-441a-907f-b6cdd3705fd0",
   "metadata": {},
   "outputs": [
    {
     "name": "stderr",
     "output_type": "stream",
     "text": [
      "/Users/danieljonatan/miniconda3/envs/stable2/lib/python3.9/site-packages/gymnasium/core.py:311: UserWarning: \u001b[33mWARN: env.central_agent to get variables from other wrappers is deprecated and will be removed in v1.0, to get this variable you can do `env.unwrapped.central_agent` for environment variables or `env.get_wrapper_attr('central_agent')` that will search the reminding wrappers.\u001b[0m\n",
      "  logger.warn(\n",
      "/Users/danieljonatan/miniconda3/envs/stable2/lib/python3.9/site-packages/gymnasium/core.py:311: UserWarning: \u001b[33mWARN: env.buildings to get variables from other wrappers is deprecated and will be removed in v1.0, to get this variable you can do `env.unwrapped.buildings` for environment variables or `env.get_wrapper_attr('buildings')` that will search the reminding wrappers.\u001b[0m\n",
      "  logger.warn(\n",
      "/Users/danieljonatan/miniconda3/envs/stable2/lib/python3.9/site-packages/gymnasium/core.py:311: UserWarning: \u001b[33mWARN: env.shared_observations to get variables from other wrappers is deprecated and will be removed in v1.0, to get this variable you can do `env.unwrapped.shared_observations` for environment variables or `env.get_wrapper_attr('shared_observations')` that will search the reminding wrappers.\u001b[0m\n",
      "  logger.warn(\n"
     ]
    }
   ],
   "source": [
    "self.state_dim, self.act_dim, self.action_range = _get_env_spec(env)"
   ]
  },
  {
   "cell_type": "markdown",
   "id": "146a356f-8e0b-47c6-b331-2f23f40012c6",
   "metadata": {},
   "source": [
    "## Load Dataset"
   ]
  },
  {
   "cell_type": "code",
   "execution_count": 6,
   "id": "ccbe6e48-347a-4cea-b4ca-7ccee0e90cf0",
   "metadata": {},
   "outputs": [],
   "source": [
    "def _load_dataset(trajectories):\n",
    "    states, traj_lens, returns = [], [], []\n",
    "    for path in trajectories:\n",
    "        states.append(path[\"observations\"])\n",
    "        traj_lens.append(len(path[\"observations\"]))\n",
    "        returns.append(np.array(path[\"rewards\"]).sum())\n",
    "    traj_lens, returns = np.array(traj_lens), np.array(returns)\n",
    "\n",
    "        # used for input normalization\n",
    "    states = np.concatenate(states, axis=0)\n",
    "    state_mean, state_std = np.mean(states, axis=0), np.std(states, axis=0) + 1e-6\n",
    "    num_timesteps = sum(traj_lens)\n",
    "\n",
    "    print(\"=\" * 50)\n",
    "    print(f\"Starting new experiment: city_learn\")\n",
    "    print(f\"{len(traj_lens)} trajectories, {num_timesteps} timesteps found\")\n",
    "    print(f\"Average return: {np.mean(returns):.2f}, std: {np.std(returns):.2f}\")\n",
    "    print(f\"Max return: {np.max(returns):.2f}, min: {np.min(returns):.2f}\")\n",
    "    print(f\"Average length: {np.mean(traj_lens):.2f}, std: {np.std(traj_lens):.2f}\")\n",
    "    print(f\"Max length: {np.max(traj_lens):.2f}, min: {np.min(traj_lens):.2f}\")\n",
    "    print(\"=\" * 50)\n",
    "\n",
    "    sorted_inds = np.argsort(returns)  # lowest to highest\n",
    "    num_trajectories = 1\n",
    "    timesteps = traj_lens[sorted_inds[-1]]\n",
    "    ind = len(trajectories) - 2\n",
    "    while ind >= 0 and timesteps + traj_lens[sorted_inds[ind]] < num_timesteps:\n",
    "        timesteps += traj_lens[sorted_inds[ind]]\n",
    "        num_trajectories += 1\n",
    "        ind -= 1\n",
    "    sorted_inds = sorted_inds[-num_trajectories:]\n",
    "    print(sorted_inds)\n",
    "    #print(trajectories[1])\n",
    "    for ii in sorted_inds:\n",
    "        print(ii)\n",
    "    #print(trajectories[0].keys())\n",
    "    trajectories = [trajectories[int(ii)] for ii in sorted_inds]\n",
    "\n",
    "    for trajectory in trajectories:\n",
    "        for key in trajectory.keys():\n",
    "            trajectory[key] = np.array(trajectory[key])\n",
    "\n",
    "\n",
    "    return trajectories, state_mean, state_std"
   ]
  },
  {
   "cell_type": "code",
   "execution_count": 7,
   "id": "428eb1ed-79c1-4660-920a-7fe7df96a9b5",
   "metadata": {},
   "outputs": [],
   "source": [
    "dataset_path = \"./data_interactions/sac_dataset.pkl\""
   ]
  },
  {
   "cell_type": "code",
   "execution_count": 8,
   "id": "891f4c63-efae-48e6-8758-ca4b7e68d7cc",
   "metadata": {},
   "outputs": [],
   "source": [
    "dataset = load_from_disk(dataset_path)"
   ]
  },
  {
   "cell_type": "code",
   "execution_count": 9,
   "id": "59374dd6-079a-4bed-8707-9de3b94539f0",
   "metadata": {},
   "outputs": [
    {
     "data": {
      "application/vnd.jupyter.widget-view+json": {
       "model_id": "4881eaf25d0e415199c543042f5609d4",
       "version_major": 2,
       "version_minor": 0
      },
      "text/plain": [
       "Segmenting:   0%|          | 0/30000 [00:00<?, ?it/s]"
      ]
     },
     "metadata": {},
     "output_type": "display_data"
    }
   ],
   "source": [
    "dataset,_ = segment_v2(dataset[\"observations\"],dataset[\"actions\"],dataset[\"rewards\"],dataset[\"dones\"])\n",
    "   "
   ]
  },
  {
   "cell_type": "code",
   "execution_count": 10,
   "id": "4d52843b-e9c2-41d8-bfb0-6993664d729f",
   "metadata": {},
   "outputs": [
    {
     "data": {
      "text/plain": [
       "(8759,)"
      ]
     },
     "execution_count": 10,
     "metadata": {},
     "output_type": "execute_result"
    }
   ],
   "source": [
    "dataset[0][\"rewards\"].shape"
   ]
  },
  {
   "cell_type": "code",
   "execution_count": 11,
   "id": "c5f3ccd2-0e77-4fe0-952e-170457dbf3cd",
   "metadata": {},
   "outputs": [],
   "source": [
    "trajectories = datasets.Dataset.from_dict({k: [s[k] for s in dataset] for k in dataset[0].keys()})\n"
   ]
  },
  {
   "cell_type": "code",
   "execution_count": 12,
   "id": "6182f92d-05a9-45bf-b695-010037ccfedf",
   "metadata": {},
   "outputs": [
    {
     "name": "stdout",
     "output_type": "stream",
     "text": [
      "==================================================\n",
      "Starting new experiment: city_learn\n",
      "4 trajectories, 30000 timesteps found\n",
      "Average return: -6148.22, std: 1638.95\n",
      "Max return: -3352.98, min: -7544.23\n",
      "Average length: 7500.00, std: 2180.65\n",
      "Max length: 8759.00, min: 3723.00\n",
      "==================================================\n",
      "[1 2 3]\n",
      "1\n",
      "2\n",
      "3\n"
     ]
    }
   ],
   "source": [
    "self.offline_trajs, self.state_mean, self.state_std = _load_dataset(trajectories)"
   ]
  },
  {
   "cell_type": "code",
   "execution_count": 13,
   "id": "d4988963-cf30-434b-9d44-b89c6ce848b9",
   "metadata": {},
   "outputs": [],
   "source": [
    "self.replay_buffer = ReplayBuffer(1000, self.offline_trajs)"
   ]
  },
  {
   "cell_type": "code",
   "execution_count": 14,
   "id": "e7c3e127-0923-40df-a734-11df31c8cca8",
   "metadata": {},
   "outputs": [],
   "source": [
    "self.aug_trajs = []"
   ]
  },
  {
   "cell_type": "code",
   "execution_count": 15,
   "id": "11c0e62d-f68b-4afb-a8b2-9852e5009113",
   "metadata": {},
   "outputs": [],
   "source": [
    "self.device = \"cpu\"\n",
    "self.target_entropy = -self.act_dim\n",
    "MAX_EPISODE_LEN = 8760"
   ]
  },
  {
   "cell_type": "code",
   "execution_count": 16,
   "id": "6adae849-b155-46ed-99cb-80deae9d587e",
   "metadata": {},
   "outputs": [
    {
     "data": {
      "text/plain": [
       "-5"
      ]
     },
     "execution_count": 16,
     "metadata": {},
     "output_type": "execute_result"
    }
   ],
   "source": [
    "self.target_entropy"
   ]
  },
  {
   "cell_type": "code",
   "execution_count": 17,
   "id": "38f4384f-0f22-4fb2-bfbb-e66b748a8895",
   "metadata": {},
   "outputs": [
    {
     "data": {
      "text/plain": [
       "512"
      ]
     },
     "execution_count": 17,
     "metadata": {},
     "output_type": "execute_result"
    }
   ],
   "source": [
    "variant[\"embed_dim\"]"
   ]
  },
  {
   "cell_type": "code",
   "execution_count": 18,
   "id": "d598dca1-0f72-43b9-8055-dfccbca56f62",
   "metadata": {},
   "outputs": [
    {
     "name": "stdout",
     "output_type": "stream",
     "text": [
      "nx 512\n",
      "nx 512\n",
      "nx 512\n",
      "nx 512\n"
     ]
    }
   ],
   "source": [
    "self.model = DecisionTransformer(\n",
    "            state_dim=self.state_dim,\n",
    "            act_dim=self.act_dim,\n",
    "            action_range=self.action_range,\n",
    "            max_length=variant[\"K\"],\n",
    "            eval_context_length=variant[\"eval_context_length\"],\n",
    "            max_ep_len=MAX_EPISODE_LEN,\n",
    "            hidden_size=variant[\"embed_dim\"],\n",
    "            n_layer=variant[\"n_layer\"],\n",
    "            n_head=variant[\"n_head\"],\n",
    "            n_inner=4 * variant[\"embed_dim\"],\n",
    "            activation_function=variant[\"activation_function\"],\n",
    "            n_positions=1024,\n",
    "            resid_pdrop=variant[\"dropout\"],\n",
    "            attn_pdrop=variant[\"dropout\"],\n",
    "            n_ctx = 60,\n",
    "            stochastic_policy=True,\n",
    "            ordering=variant[\"ordering\"],\n",
    "            init_temperature=variant[\"init_temperature\"],\n",
    "            target_entropy=self.target_entropy,\n",
    "        ).to(device=self.device)"
   ]
  },
  {
   "cell_type": "code",
   "execution_count": 19,
   "id": "83f21dba-5cbd-40bd-b4b2-87038298c393",
   "metadata": {},
   "outputs": [],
   "source": [
    "self.optimizer = Lamb(\n",
    "            self.model.parameters(),\n",
    "            lr=variant[\"learning_rate\"],\n",
    "            weight_decay=variant[\"weight_decay\"],\n",
    "            eps=1e-8,\n",
    "        )\n",
    "self.scheduler = torch.optim.lr_scheduler.LambdaLR(\n",
    "            self.optimizer, lambda steps: min((steps + 1) / variant[\"warmup_steps\"], 1)\n",
    "        )\n",
    "self.log_temperature_optimizer = torch.optim.Adam(\n",
    "            [self.model.log_temperature],\n",
    "            lr=1e-4,\n",
    "            betas=[0.9, 0.999],\n",
    "        )"
   ]
  },
  {
   "cell_type": "code",
   "execution_count": 20,
   "id": "ba7581e5-55b9-4a93-96bf-9c451faf90e5",
   "metadata": {},
   "outputs": [
    {
     "name": "stdout",
     "output_type": "stream",
     "text": [
      "Experiment log path: ./exp/2024.06.03/103455-default\n"
     ]
    }
   ],
   "source": [
    "self.pretrain_iter = 0\n",
    "self.online_iter = 0\n",
    "self.total_transitions_sampled = 0\n",
    "self.variant = variant\n",
    "self.reward_scale = 1.0 \n",
    "self.logger = Logger(variant)"
   ]
  },
  {
   "cell_type": "code",
   "execution_count": 21,
   "id": "bd2fb603-233b-47ad-a66a-0dd44a47d0ff",
   "metadata": {},
   "outputs": [],
   "source": [
    "def loss_fn(\n",
    "            a_hat_dist,\n",
    "            a,\n",
    "            attention_mask,\n",
    "            entropy_reg,\n",
    "        ):\n",
    "            # a_hat is a SquashedNormal Distribution\n",
    "    log_likelihood = a_hat_dist.log_likelihood(a)[attention_mask > 0].mean()\n",
    "\n",
    "    entropy = a_hat_dist.entropy().mean()\n",
    "    loss = -(log_likelihood + entropy_reg * entropy)\n",
    "\n",
    "    return (\n",
    "                loss,\n",
    "                -log_likelihood,\n",
    "                entropy,\n",
    "            )"
   ]
  },
  {
   "cell_type": "code",
   "execution_count": 22,
   "id": "a23422bc-7430-4c73-8843-5ef94848ab35",
   "metadata": {},
   "outputs": [],
   "source": [
    "def pretrain(self, eval_envs, loss_fn):\n",
    "    print(\"\\n\\n\\n*** Pretrain ***\")\n",
    "\n",
    "    eval_fns = [\n",
    "            create_vec_eval_episodes_fn(\n",
    "                vec_env=eval_envs,\n",
    "                eval_rtg=self.variant[\"eval_rtg\"],\n",
    "                state_dim=self.state_dim,\n",
    "                act_dim=self.act_dim,\n",
    "                state_mean=self.state_mean,\n",
    "                state_std=self.state_std,\n",
    "                device=self.device,\n",
    "                use_mean=True,\n",
    "                reward_scale=self.reward_scale,\n",
    "            )\n",
    "        ]\n",
    "\n",
    "    trainer = SequenceTrainer(\n",
    "            model=self.model,\n",
    "            optimizer=self.optimizer,\n",
    "            log_temperature_optimizer=self.log_temperature_optimizer,\n",
    "            scheduler=self.scheduler,\n",
    "            device=self.device,\n",
    "        )\n",
    "\n",
    "    writer = (\n",
    "            SummaryWriter(self.logger.log_path) if self.variant[\"log_to_tb\"] else None\n",
    "        )\n",
    "    while self.pretrain_iter < self.variant[\"max_pretrain_iters\"]:\n",
    "            # in every iteration, prepare the data loader\n",
    "        dataloader = create_dataloader(\n",
    "                trajectories=self.offline_trajs,\n",
    "                num_iters=self.variant[\"num_updates_per_pretrain_iter\"],\n",
    "                batch_size=self.variant[\"batch_size\"],\n",
    "                max_len=self.variant[\"K\"],\n",
    "                state_dim=self.state_dim,\n",
    "                act_dim=self.act_dim,\n",
    "                state_mean=self.state_mean,\n",
    "                state_std=self.state_std,\n",
    "                reward_scale=self.reward_scale,\n",
    "                action_range=self.action_range,\n",
    "            )\n",
    "\n",
    "        train_outputs = trainer.train_iteration(\n",
    "                loss_fn=loss_fn,\n",
    "                dataloader=dataloader,\n",
    "            )\n",
    "        eval_outputs, eval_reward = self.evaluate(eval_fns)\n",
    "        outputs = {\"time/total\": time.time() - self.start_time}\n",
    "        outputs.update(train_outputs)\n",
    "        outputs.update(eval_outputs)\n",
    "        self.logger.log_metrics(\n",
    "                outputs,\n",
    "                iter_num=self.pretrain_iter,\n",
    "                total_transitions_sampled=self.total_transitions_sampled,\n",
    "                writer=writer,\n",
    "            )\n",
    "\n",
    "        self._save_model(\n",
    "                path_prefix=self.logger.log_path,\n",
    "                is_pretrain_model=True,\n",
    "            )\n",
    "\n",
    "        self.pretrain_iter += 1"
   ]
  },
  {
   "cell_type": "markdown",
   "id": "7ea724b8-e8f4-4138-b30f-6310aa7ce312",
   "metadata": {},
   "source": [
    "## Pretrain"
   ]
  },
  {
   "cell_type": "code",
   "execution_count": 23,
   "id": "68b429e6-b9b9-434f-a275-5cc05010de56",
   "metadata": {},
   "outputs": [],
   "source": [
    "trainer = SequenceTrainer(\n",
    "            model=self.model,\n",
    "            optimizer=self.optimizer,\n",
    "            log_temperature_optimizer=self.log_temperature_optimizer,\n",
    "            scheduler=self.scheduler,\n",
    "            device=self.device,\n",
    "        )"
   ]
  },
  {
   "cell_type": "code",
   "execution_count": 24,
   "id": "d4f1c44e-6a00-421b-b4dd-a177fd83913a",
   "metadata": {},
   "outputs": [
    {
     "name": "stderr",
     "output_type": "stream",
     "text": [
      "/Users/danieljonatan/miniconda3/envs/stable2/lib/python3.9/site-packages/torch/utils/data/dataloader.py:558: UserWarning: This DataLoader will create 24 worker processes in total. Our suggested max number of worker in current system is 8 (`cpuset` is not taken into account), which is smaller than what this DataLoader is going to create. Please be aware that excessive worker creation might get DataLoader running slow or even freeze, lower the worker number to avoid potential slowness/freeze if necessary.\n",
      "  warnings.warn(_create_warning_msg(\n"
     ]
    }
   ],
   "source": [
    "dataloader = create_dataloader(\n",
    "                trajectories=self.offline_trajs,\n",
    "                num_iters=self.variant[\"num_updates_per_pretrain_iter\"],\n",
    "                batch_size=3,\n",
    "                max_len=self.variant[\"K\"],\n",
    "                state_dim=self.state_dim,\n",
    "                act_dim=self.act_dim,\n",
    "                state_mean=self.state_mean,\n",
    "                state_std=self.state_std,\n",
    "                reward_scale=self.reward_scale,\n",
    "                action_range=self.action_range,\n",
    "            )\n",
    "## Remember n_ctx have to follow the query, key, value "
   ]
  },
  {
   "cell_type": "code",
   "execution_count": 25,
   "id": "ec8a7f2e-e221-4d76-81fd-8e84f5d96c91",
   "metadata": {},
   "outputs": [
    {
     "data": {
      "text/plain": [
       "<torch.utils.data.dataloader.DataLoader at 0x16c6d0640>"
      ]
     },
     "execution_count": 25,
     "metadata": {},
     "output_type": "execute_result"
    }
   ],
   "source": [
    "dataloader"
   ]
  },
  {
   "cell_type": "code",
   "execution_count": 26,
   "id": "a921d7fe-acfd-44fe-a3a3-3ad8de817c47",
   "metadata": {},
   "outputs": [],
   "source": [
    "#train_outputs = trainer.train_iteration(\n",
    "#                loss_fn=loss_fn,\n",
    "#                dataloader=dataloader,\n",
    "#            )"
   ]
  },
  {
   "cell_type": "code",
   "execution_count": 27,
   "id": "ab8e8af7-b69b-42e4-96f2-de62f4d3a5f8",
   "metadata": {},
   "outputs": [],
   "source": [
    "for _, trajs in enumerate(dataloader):\n",
    "    (\n",
    "            states,\n",
    "            actions,\n",
    "            rewards,\n",
    "            dones,\n",
    "            rtg,\n",
    "            timesteps,\n",
    "            ordering,\n",
    "            padding_mask,\n",
    "        ) = trajs\n",
    "    break"
   ]
  },
  {
   "cell_type": "code",
   "execution_count": 28,
   "id": "d2ae416b-01a4-44b3-93ff-d4b9e4b412bf",
   "metadata": {},
   "outputs": [
    {
     "data": {
      "text/plain": [
       "'cpu'"
      ]
     },
     "execution_count": 28,
     "metadata": {},
     "output_type": "execute_result"
    }
   ],
   "source": [
    "self.device"
   ]
  },
  {
   "cell_type": "code",
   "execution_count": 29,
   "id": "90fa2099-5243-4e71-8154-82ecb9e66ac1",
   "metadata": {},
   "outputs": [
    {
     "data": {
      "text/plain": [
       "<torch.utils.data.dataloader.DataLoader at 0x16c6d0640>"
      ]
     },
     "execution_count": 29,
     "metadata": {},
     "output_type": "execute_result"
    }
   ],
   "source": [
    "dataloader"
   ]
  },
  {
   "cell_type": "code",
   "execution_count": 30,
   "id": "c61edab1-3bd9-4544-a5df-48ef00af8d64",
   "metadata": {},
   "outputs": [],
   "source": [
    "states = states.to(self.device)\n",
    "actions = actions.to(self.device)\n",
    "rewards = rewards.to(self.device)\n",
    "dones = dones.to(self.device)\n",
    "rtg = rtg.to(self.device)\n",
    "timesteps = timesteps.to(self.device)\n",
    "ordering = ordering.to(self.device)\n",
    "padding_mask = padding_mask.to(self.device)"
   ]
  },
  {
   "cell_type": "code",
   "execution_count": 31,
   "id": "236f6ed1-f28e-45f9-8b9c-70146f3269ea",
   "metadata": {},
   "outputs": [
    {
     "data": {
      "text/plain": [
       "torch.Size([3, 20, 44])"
      ]
     },
     "execution_count": 31,
     "metadata": {},
     "output_type": "execute_result"
    }
   ],
   "source": [
    "states.shape"
   ]
  },
  {
   "cell_type": "code",
   "execution_count": 32,
   "id": "0698fdf1-4697-48b4-b7ca-4281e04067fa",
   "metadata": {},
   "outputs": [
    {
     "data": {
      "text/plain": [
       "torch.Size([3, 20, 5])"
      ]
     },
     "execution_count": 32,
     "metadata": {},
     "output_type": "execute_result"
    }
   ],
   "source": [
    "actions.shape"
   ]
  },
  {
   "cell_type": "code",
   "execution_count": 33,
   "id": "e837ffd6-59f2-46cf-ae22-6ca49e32000c",
   "metadata": {},
   "outputs": [
    {
     "data": {
      "text/plain": [
       "torch.Size([3, 20, 1])"
      ]
     },
     "execution_count": 33,
     "metadata": {},
     "output_type": "execute_result"
    }
   ],
   "source": [
    "rewards.shape"
   ]
  },
  {
   "cell_type": "code",
   "execution_count": 34,
   "id": "38e26828-7adb-451f-9c5d-7c591beb608e",
   "metadata": {},
   "outputs": [
    {
     "data": {
      "text/plain": [
       "torch.Size([3, 20])"
      ]
     },
     "execution_count": 34,
     "metadata": {},
     "output_type": "execute_result"
    }
   ],
   "source": [
    "dones.shape"
   ]
  },
  {
   "cell_type": "code",
   "execution_count": 35,
   "id": "fb5c2bbb-865f-42d0-afac-55bbb38eb648",
   "metadata": {},
   "outputs": [
    {
     "data": {
      "text/plain": [
       "torch.Size([3, 21, 1])"
      ]
     },
     "execution_count": 35,
     "metadata": {},
     "output_type": "execute_result"
    }
   ],
   "source": [
    "rtg.shape"
   ]
  },
  {
   "cell_type": "code",
   "execution_count": 36,
   "id": "a81704f3-f492-41dc-8f9f-78dfe8a7cb17",
   "metadata": {},
   "outputs": [
    {
     "data": {
      "text/plain": [
       "torch.Size([3, 20])"
      ]
     },
     "execution_count": 36,
     "metadata": {},
     "output_type": "execute_result"
    }
   ],
   "source": [
    "timesteps.shape"
   ]
  },
  {
   "cell_type": "markdown",
   "id": "ef6f2d09-5bec-4f20-a2e8-eb7fd2b901fb",
   "metadata": {},
   "source": [
    "## Model Forward"
   ]
  },
  {
   "cell_type": "code",
   "execution_count": 37,
   "id": "0a4b5113-57dd-4be3-a707-d0e76667b4fd",
   "metadata": {},
   "outputs": [],
   "source": [
    "import torch.nn as nn\n",
    "batch_size, seq_length = states.shape[0], states.shape[1]\n"
   ]
  },
  {
   "cell_type": "code",
   "execution_count": 38,
   "id": "130aa392-20b8-4c37-8721-ff827ebe7e07",
   "metadata": {},
   "outputs": [],
   "source": [
    "hidden_size = 56"
   ]
  },
  {
   "cell_type": "code",
   "execution_count": 39,
   "id": "34050532-a616-49bf-8b43-690f1862a698",
   "metadata": {},
   "outputs": [],
   "source": [
    "self.embed_return = torch.nn.Linear(1, hidden_size)\n",
    "self.embed_state = torch.nn.Linear(self.state_dim, hidden_size)\n",
    "self.embed_action = torch.nn.Linear(self.act_dim, hidden_size)\n",
    "\n",
    "self.embed_ln = nn.LayerNorm(hidden_size)"
   ]
  },
  {
   "cell_type": "code",
   "execution_count": 40,
   "id": "1246d3fb-01d6-4b6d-a139-26ff1093e5a0",
   "metadata": {},
   "outputs": [],
   "source": [
    "state_embeddings = self.embed_state(states)"
   ]
  },
  {
   "cell_type": "code",
   "execution_count": 41,
   "id": "75b1dae0-a665-4f9d-b587-05bdb0d93d2c",
   "metadata": {},
   "outputs": [
    {
     "data": {
      "text/plain": [
       "torch.Size([3, 20, 56])"
      ]
     },
     "execution_count": 41,
     "metadata": {},
     "output_type": "execute_result"
    }
   ],
   "source": [
    "state_embeddings.shape"
   ]
  },
  {
   "cell_type": "code",
   "execution_count": 42,
   "id": "4723c240-3332-4282-82fb-4695c70b4339",
   "metadata": {},
   "outputs": [],
   "source": [
    "returns = rtg[:, :-1]"
   ]
  },
  {
   "cell_type": "code",
   "execution_count": 43,
   "id": "8720b9d7-d6fb-479a-b680-cc718d4aa244",
   "metadata": {},
   "outputs": [],
   "source": [
    "state_embeddings = self.embed_state(states)\n",
    "action_embeddings = self.embed_action(actions)\n",
    "returns_embeddings = self.embed_return(returns)"
   ]
  },
  {
   "cell_type": "code",
   "execution_count": 44,
   "id": "27ba141c-1e0b-4b0a-9b54-74b6de8d6b5f",
   "metadata": {},
   "outputs": [],
   "source": [
    "stacked= torch.stack(\n",
    "                (returns_embeddings, state_embeddings, action_embeddings), dim=1\n",
    "            )"
   ]
  },
  {
   "cell_type": "code",
   "execution_count": 45,
   "id": "469ea2dc-b2e2-49c9-9e7d-fce427c1a9ad",
   "metadata": {},
   "outputs": [],
   "source": [
    "stacked_inputs = (\n",
    "            torch.stack(\n",
    "                (returns_embeddings, state_embeddings, action_embeddings), dim=1\n",
    "            )\n",
    "            .permute(0, 2, 1, 3)\n",
    "            .reshape(batch_size, 3 * seq_length, hidden_size)\n",
    "        )\n",
    "stacked_inputs = self.embed_ln(stacked_inputs)"
   ]
  },
  {
   "cell_type": "code",
   "execution_count": 46,
   "id": "c19cb85f-8a21-4293-b806-0fefe1b75a5a",
   "metadata": {},
   "outputs": [
    {
     "data": {
      "text/plain": [
       "torch.Size([3, 60, 56])"
      ]
     },
     "execution_count": 46,
     "metadata": {},
     "output_type": "execute_result"
    }
   ],
   "source": [
    "stacked_inputs.shape"
   ]
  },
  {
   "cell_type": "code",
   "execution_count": 47,
   "id": "ccb1127f-aa45-457b-91bd-ba29b172500c",
   "metadata": {},
   "outputs": [],
   "source": [
    "stacked_padding_mask = (\n",
    "            torch.stack((padding_mask, padding_mask, padding_mask), dim=1)\n",
    "            .permute(0, 2, 1)\n",
    "            .reshape(batch_size, 3 * seq_length)\n",
    "        )"
   ]
  },
  {
   "cell_type": "code",
   "execution_count": 48,
   "id": "753b590b-e8c6-40da-ac04-34103fc338c8",
   "metadata": {},
   "outputs": [
    {
     "data": {
      "text/plain": [
       "torch.Size([3, 60])"
      ]
     },
     "execution_count": 48,
     "metadata": {},
     "output_type": "execute_result"
    }
   ],
   "source": [
    "stacked_padding_mask.shape"
   ]
  },
  {
   "cell_type": "code",
   "execution_count": 49,
   "id": "639ac5c3-0c39-4de3-a8f5-d9d6c43efafa",
   "metadata": {},
   "outputs": [
    {
     "data": {
      "text/plain": [
       "DecisionTransformer(\n",
       "  (transformer): GPT2Model(\n",
       "    (wte): Embedding(1, 512)\n",
       "    (drop): Dropout(p=0.1, inplace=False)\n",
       "    (h): ModuleList(\n",
       "      (0-3): 4 x Block(\n",
       "        (ln_1): LayerNorm((512,), eps=1e-05, elementwise_affine=True)\n",
       "        (attn): Attention(\n",
       "          (c_attn): Conv1D()\n",
       "          (c_proj): Conv1D()\n",
       "          (attn_dropout): Dropout(p=0.1, inplace=False)\n",
       "          (resid_dropout): Dropout(p=0.1, inplace=False)\n",
       "        )\n",
       "        (ln_2): LayerNorm((512,), eps=1e-05, elementwise_affine=True)\n",
       "        (mlp): MLP(\n",
       "          (c_fc): Conv1D()\n",
       "          (c_proj): Conv1D()\n",
       "          (act): ReLU()\n",
       "          (dropout): Dropout(p=0.1, inplace=False)\n",
       "        )\n",
       "      )\n",
       "    )\n",
       "    (ln_f): LayerNorm((512,), eps=1e-05, elementwise_affine=True)\n",
       "  )\n",
       "  (embed_timestep): Embedding(8760, 512)\n",
       "  (embed_return): Linear(in_features=1, out_features=512, bias=True)\n",
       "  (embed_state): Linear(in_features=44, out_features=512, bias=True)\n",
       "  (embed_action): Linear(in_features=5, out_features=512, bias=True)\n",
       "  (embed_ln): LayerNorm((512,), eps=1e-05, elementwise_affine=True)\n",
       "  (predict_state): Linear(in_features=512, out_features=44, bias=True)\n",
       "  (predict_return): Linear(in_features=512, out_features=1, bias=True)\n",
       "  (predict_action): DiagGaussianActor(\n",
       "    (mu): Linear(in_features=512, out_features=5, bias=True)\n",
       "    (log_std): Linear(in_features=512, out_features=5, bias=True)\n",
       "  )\n",
       ")"
      ]
     },
     "execution_count": 49,
     "metadata": {},
     "output_type": "execute_result"
    }
   ],
   "source": [
    "self.model"
   ]
  },
  {
   "cell_type": "code",
   "execution_count": 51,
   "id": "f74c70c2-9c27-442e-880a-60af2a573339",
   "metadata": {},
   "outputs": [
    {
     "data": {
      "text/plain": [
       "5000"
      ]
     },
     "execution_count": 51,
     "metadata": {},
     "output_type": "execute_result"
    }
   ],
   "source": [
    "variant[\"num_updates_per_pretrain_iter\"]"
   ]
  },
  {
   "cell_type": "code",
   "execution_count": null,
   "id": "8e55300d-2967-44e1-a19f-f9ef5991ecad",
   "metadata": {},
   "outputs": [],
   "source": []
  }
 ],
 "metadata": {
  "kernelspec": {
   "display_name": "Python 3 (ipykernel)",
   "language": "python",
   "name": "python3"
  },
  "language_info": {
   "codemirror_mode": {
    "name": "ipython",
    "version": 3
   },
   "file_extension": ".py",
   "mimetype": "text/x-python",
   "name": "python",
   "nbconvert_exporter": "python",
   "pygments_lexer": "ipython3",
   "version": "3.9.19"
  }
 },
 "nbformat": 4,
 "nbformat_minor": 5
}
