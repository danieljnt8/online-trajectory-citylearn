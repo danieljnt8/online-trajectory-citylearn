{
 "cells": [
  {
   "cell_type": "code",
   "execution_count": 1,
   "id": "1ac4ca86-c5aa-4828-853a-7269856ff699",
   "metadata": {},
   "outputs": [],
   "source": [
    "import pickle"
   ]
  },
  {
   "cell_type": "code",
   "execution_count": null,
   "id": "320dbd84-425a-463d-bf4b-937afef8375a",
   "metadata": {},
   "outputs": [],
   "source": []
  },
  {
   "cell_type": "code",
   "execution_count": 2,
   "id": "72db3c83-eac6-4b8b-a61a-dbe98d697e7d",
   "metadata": {},
   "outputs": [],
   "source": [
    "import numpy as np\n",
    "from datasets import load_from_disk\n",
    "from torch.utils.data import DataLoader\n",
    "%matplotlib inline\n",
    "import matplotlib.pyplot as plt\n",
    "from matplotlib.colors import ListedColormap\n",
    "from sklearn.manifold import TSNE"
   ]
  },
  {
   "cell_type": "code",
   "execution_count": 3,
   "id": "9d49607b-fd23-40d8-aebf-0ff57427e62b",
   "metadata": {},
   "outputs": [],
   "source": [
    "file_path = f\"exp/2024.07.27/015329-default/dataset/generated_dataset_epoch_50.pkl\"\n",
    "\n",
    "# Open and read the pickle file\n",
    "with open(file_path, 'rb') as f:\n",
    "    generated_dataset = pickle.load(f)"
   ]
  },
  {
   "cell_type": "code",
   "execution_count": 4,
   "id": "5082ca4c-55c2-44ee-8454-a2c8a9d1c906",
   "metadata": {},
   "outputs": [
    {
     "data": {
      "text/plain": [
       "6976"
      ]
     },
     "execution_count": 4,
     "metadata": {},
     "output_type": "execute_result"
    }
   ],
   "source": [
    "len(generated_dataset)"
   ]
  },
  {
   "cell_type": "code",
   "execution_count": 5,
   "id": "26cb15eb-5173-4d36-afbc-5f4f65b16f32",
   "metadata": {},
   "outputs": [],
   "source": [
    "first_elements = [tup[1].numpy() for tup in generated_dataset]\n"
   ]
  },
  {
   "cell_type": "code",
   "execution_count": 6,
   "id": "c85dc530-427e-4741-b2ad-beb1cefcc2b4",
   "metadata": {},
   "outputs": [],
   "source": [
    "first_elements = np.array(first_elements)"
   ]
  },
  {
   "cell_type": "code",
   "execution_count": 7,
   "id": "5c8954f8-1212-4d77-956e-360afbbbbc16",
   "metadata": {},
   "outputs": [],
   "source": [
    "generated_ = first_elements[:,-51:-1]"
   ]
  },
  {
   "cell_type": "code",
   "execution_count": 8,
   "id": "5d854a6f-0d6f-434c-87e4-9cc1c464d58d",
   "metadata": {},
   "outputs": [
    {
     "data": {
      "text/plain": [
       "(6976, 50)"
      ]
     },
     "execution_count": 8,
     "metadata": {},
     "output_type": "execute_result"
    }
   ],
   "source": [
    "generated_.shape"
   ]
  },
  {
   "cell_type": "markdown",
   "id": "14dff0b5-1045-46a5-8799-49700e716070",
   "metadata": {},
   "source": [
    "## RBC Dataset"
   ]
  },
  {
   "cell_type": "code",
   "execution_count": 9,
   "id": "f865985b-015d-463f-b8a9-a31c3a83b2ca",
   "metadata": {},
   "outputs": [],
   "source": [
    "dataset_rbc_path=\"data_interactions/RBCAgent1/model_RBCAgent1_timesteps_8760_rf_CombinedReward_phase_1.pkl\""
   ]
  },
  {
   "cell_type": "code",
   "execution_count": 10,
   "id": "aeab386d-c6f7-431e-9d77-e88275f28da1",
   "metadata": {},
   "outputs": [],
   "source": [
    "dataset = load_from_disk(dataset_rbc_path)"
   ]
  },
  {
   "cell_type": "code",
   "execution_count": 11,
   "id": "abc145cf-b6c4-4b4a-aa72-304d2e1c7631",
   "metadata": {},
   "outputs": [
    {
     "name": "stderr",
     "output_type": "stream",
     "text": [
      "Warning: Gym version v0.24.0 has a number of critical issues with `gym.make` such that the `reset` and `step` functions are called before returning the environment. It is recommend to downgrading to v0.23.1 or upgrading to v0.25.1\n"
     ]
    }
   ],
   "source": [
    "from trajectory.utils.dataset_helper import DiscretizedDataset"
   ]
  },
  {
   "cell_type": "code",
   "execution_count": 12,
   "id": "dd8e76cf-9c03-493a-8c2d-8b773c602bdf",
   "metadata": {},
   "outputs": [
    {
     "data": {
      "application/vnd.jupyter.widget-view+json": {
       "model_id": "2977ada892c2478e9b1fe56a098cd05a",
       "version_major": 2,
       "version_minor": 0
      },
      "text/plain": [
       "Segmenting:   0%|          | 0/8759 [00:00<?, ?it/s]"
      ]
     },
     "metadata": {},
     "output_type": "display_data"
    },
    {
     "data": {
      "application/vnd.jupyter.widget-view+json": {
       "model_id": "59000df09da6428dad0593ac1db3d310",
       "version_major": 2,
       "version_minor": 0
      },
      "text/plain": [
       "Joining transitions:   0%|          | 0/1 [00:00<?, ?it/s]"
      ]
     },
     "metadata": {},
     "output_type": "display_data"
    },
    {
     "name": "stdout",
     "output_type": "stream",
     "text": [
      "Discount 0.99\n",
      "(8759, 44)\n",
      "(8759, 5)\n",
      "(8759, 1)\n",
      "(8759, 1)\n"
     ]
    }
   ],
   "source": [
    "datasets = DiscretizedDataset(dataset,discount = 0.99, seq_len = 2, strategy = \"uniform\")\n",
    "   "
   ]
  },
  {
   "cell_type": "code",
   "execution_count": 13,
   "id": "e3883541-877f-4c11-adc0-48de8ae7d5b9",
   "metadata": {},
   "outputs": [
    {
     "data": {
      "text/plain": [
       "array([ 6, 99, 75, 58, 53, 58, 54, 78, 75, 70, 73,  0,  0, 41,  0,  0,  0,\n",
       "       62,  0, 68, 99,  3,  3, 99, 31,  0, 49, 46, 11,  0, 48, 28, 17,  0,\n",
       "       49, 38,  5,  0, 48, 28, 18,  0, 49, 34, 20, 23, 22, 22, 22, 51, 97,\n",
       "        6, 99, 85, 60, 51, 62, 56, 76, 75, 67, 66,  0,  0, 54,  0,  0,  0,\n",
       "       51,  0, 68,  3,  3,  3,  3, 39,  0, 38, 54, 32,  0, 38, 47, 19,  0,\n",
       "       38, 42, 17,  0, 37, 40, 43,  0, 38, 53, 24, 28, 27, 27, 27, 48],\n",
       "      dtype=int64)"
      ]
     },
     "execution_count": 13,
     "metadata": {},
     "output_type": "execute_result"
    }
   ],
   "source": [
    "datasets[8756][0]"
   ]
  },
  {
   "cell_type": "code",
   "execution_count": 14,
   "id": "92da687b-a6c7-420b-8ae2-1f3c595905ab",
   "metadata": {},
   "outputs": [],
   "source": [
    "list_data_rbc = []\n",
    "for i in datasets:\n",
    "    list_data_rbc.append(i[0])"
   ]
  },
  {
   "cell_type": "code",
   "execution_count": 15,
   "id": "4d9e3545-cfaa-48e2-9f19-b7d71b14ec49",
   "metadata": {},
   "outputs": [],
   "source": [
    "data_rbc = np.array(list_data_rbc)"
   ]
  },
  {
   "cell_type": "code",
   "execution_count": 16,
   "id": "c70f3933-2252-4cc6-bb26-662d13f08530",
   "metadata": {},
   "outputs": [],
   "source": [
    "data_rbc = data_rbc[:,:50]"
   ]
  },
  {
   "cell_type": "code",
   "execution_count": 17,
   "id": "ffcebd33-c258-4ba6-9dfb-b8b2e0474d7b",
   "metadata": {},
   "outputs": [
    {
     "data": {
      "text/plain": [
       "(8758, 50)"
      ]
     },
     "execution_count": 17,
     "metadata": {},
     "output_type": "execute_result"
    }
   ],
   "source": [
    "data_rbc.shape"
   ]
  },
  {
   "cell_type": "markdown",
   "id": "a60e2f0b-7e3d-446c-ba20-e1f564027f8c",
   "metadata": {},
   "source": [
    "## concatenate"
   ]
  },
  {
   "cell_type": "code",
   "execution_count": 18,
   "id": "52a96ea9-f0f1-4f7c-bffc-ca490aa31450",
   "metadata": {},
   "outputs": [],
   "source": [
    "concatenate_ds = np.concatenate((data_rbc,generated_))"
   ]
  },
  {
   "cell_type": "code",
   "execution_count": 19,
   "id": "b2719884-2f88-4ef1-aac1-401fb76b858d",
   "metadata": {},
   "outputs": [
    {
     "data": {
      "text/plain": [
       "(15734, 50)"
      ]
     },
     "execution_count": 19,
     "metadata": {},
     "output_type": "execute_result"
    }
   ],
   "source": [
    "concatenate_ds.shape"
   ]
  },
  {
   "cell_type": "code",
   "execution_count": 20,
   "id": "e489fd61-3390-46cf-973d-48366f85ecbf",
   "metadata": {},
   "outputs": [
    {
     "name": "stderr",
     "output_type": "stream",
     "text": [
      "/home/ml-stud15/anaconda3/envs/stable3/lib/python3.9/site-packages/sklearn/manifold/_t_sne.py:780: FutureWarning: The default initialization in TSNE will change from 'random' to 'pca' in 1.2.\n",
      "  warnings.warn(\n",
      "/home/ml-stud15/anaconda3/envs/stable3/lib/python3.9/site-packages/sklearn/manifold/_t_sne.py:790: FutureWarning: The default learning rate in TSNE will change from 200.0 to 'auto' in 1.2.\n",
      "  warnings.warn(\n"
     ]
    }
   ],
   "source": [
    "tsne = TSNE(n_components=2, random_state=42)\n",
    "features_tsne = tsne.fit_transform(concatenate_ds)"
   ]
  },
  {
   "cell_type": "code",
   "execution_count": 21,
   "id": "1357041d-0d8a-4045-834b-1f1c87a2b5d2",
   "metadata": {},
   "outputs": [],
   "source": [
    "custom_cmap = ListedColormap(['green', 'black'])"
   ]
  },
  {
   "cell_type": "code",
   "execution_count": 22,
   "id": "23768484-81ef-4d4e-9e12-9a1066719a7b",
   "metadata": {},
   "outputs": [],
   "source": [
    "num_samples = len(features_tsne)"
   ]
  },
  {
   "cell_type": "code",
   "execution_count": 23,
   "id": "6afe8e4d-c930-4dd9-ad27-ccec99f35e75",
   "metadata": {},
   "outputs": [],
   "source": [
    "labels = np.zeros(num_samples)\n",
    "labels[8758:] = 1"
   ]
  },
  {
   "cell_type": "code",
   "execution_count": 24,
   "id": "ef410de2-cbe2-45b6-8ab7-dcde4bb5fe6f",
   "metadata": {},
   "outputs": [],
   "source": [
    "plt.figure(figsize=(10, 8))\n",
    "\n",
    "# Use a colormap and alpha for transparency\n",
    "scatter = plt.scatter(features_tsne[:, 0], features_tsne[:, 1], c=labels, cmap=custom_cmap, alpha=0.6)\n",
    "\n",
    "plt.title('t-SNE Visualization of The Dataset',fontsize=22)\n",
    "plt.xlabel('t-SNE Component 1',fontsize=20)\n",
    "plt.ylabel('t-SNE Component 2',fontsize=20)\n",
    "plt.legend(handles=scatter.legend_elements()[0], labels=['Original Dataset', 'Generated Dataset'],fontsize=16)\n",
    "plt.ylim(-100,100)\n",
    "plt.xlim(-100,100)\n",
    "plt.xticks(fontsize=18)\n",
    "plt.yticks(fontsize=18)\n",
    "plt.savefig(\"figs_generated/final_epoch\")\n",
    "plt.close()\n",
    "#plt.show()"
   ]
  },
  {
   "cell_type": "code",
   "execution_count": null,
   "id": "026433b7-0fa9-4181-8cc4-4ce047c314b9",
   "metadata": {},
   "outputs": [],
   "source": []
  },
  {
   "cell_type": "code",
   "execution_count": null,
   "id": "7f1eeece-b71a-4b17-82a8-9b9a200efa8c",
   "metadata": {},
   "outputs": [],
   "source": []
  }
 ],
 "metadata": {
  "kernelspec": {
   "display_name": "Python 3 (ipykernel)",
   "language": "python",
   "name": "python3"
  },
  "language_info": {
   "codemirror_mode": {
    "name": "ipython",
    "version": 3
   },
   "file_extension": ".py",
   "mimetype": "text/x-python",
   "name": "python",
   "nbconvert_exporter": "python",
   "pygments_lexer": "ipython3",
   "version": "3.9.12"
  }
 },
 "nbformat": 4,
 "nbformat_minor": 5
}
